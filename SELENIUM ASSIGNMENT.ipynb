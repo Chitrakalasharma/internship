{
 "cells": [
  {
   "cell_type": "markdown",
   "id": "f6c97ac5",
   "metadata": {},
   "source": [
    "Q1: Write a python program to scrape data for “Data Analyst” Job position in “Bangalore” location. You have to scrape the job-title, job-location, company_name, experience_required. You have to scrape first 10 jobs data"
   ]
  },
  {
   "cell_type": "code",
   "execution_count": 45,
   "id": "438b980c",
   "metadata": {},
   "outputs": [],
   "source": [
    "import selenium\n",
    "from selenium import webdriver\n",
    "import pandas as pd\n",
    "import warnings\n",
    "warnings.filterwarnings('ignore')"
   ]
  },
  {
   "cell_type": "code",
   "execution_count": 55,
   "id": "7a1cd564",
   "metadata": {},
   "outputs": [],
   "source": [
    "driver=webdriver.Chrome('chromedriver.exe')"
   ]
  },
  {
   "cell_type": "code",
   "execution_count": 47,
   "id": "80c3b524",
   "metadata": {},
   "outputs": [],
   "source": [
    "url='https://www.naukri.com/'\n",
    "driver.get(url)"
   ]
  },
  {
   "cell_type": "code",
   "execution_count": 4,
   "id": "87d44764",
   "metadata": {},
   "outputs": [
    {
     "data": {
      "text/plain": [
       "<selenium.webdriver.remote.webelement.WebElement (session=\"0a7fa76586a57ae2e39d99293ad03980\", element=\"fea6af85-f4e5-4a97-b622-0a5adddf5de7\")>"
      ]
     },
     "execution_count": 4,
     "metadata": {},
     "output_type": "execute_result"
    }
   ],
   "source": [
    "search_job=driver.find_element_by_class_name(\"suggestor-input \")\n",
    "search_job"
   ]
  },
  {
   "cell_type": "code",
   "execution_count": 5,
   "id": "f4cfe331",
   "metadata": {},
   "outputs": [],
   "source": [
    "search_job.send_keys(\"Data Analyst\")"
   ]
  },
  {
   "cell_type": "code",
   "execution_count": 6,
   "id": "20ebb792",
   "metadata": {},
   "outputs": [
    {
     "data": {
      "text/plain": [
       "<selenium.webdriver.remote.webelement.WebElement (session=\"0a7fa76586a57ae2e39d99293ad03980\", element=\"a673c971-420a-436a-ab2e-cf048427b1d2\")>"
      ]
     },
     "execution_count": 6,
     "metadata": {},
     "output_type": "execute_result"
    }
   ],
   "source": [
    "search_location=driver.find_element_by_xpath('/html/body/div/div[2]/div[3]/div/div/div[3]/div/div/div/input')\n",
    "search_location"
   ]
  },
  {
   "cell_type": "code",
   "execution_count": 7,
   "id": "93032da3",
   "metadata": {},
   "outputs": [],
   "source": [
    "search_location.send_keys(\"Bangalore\")"
   ]
  },
  {
   "cell_type": "code",
   "execution_count": 8,
   "id": "6ca61047",
   "metadata": {},
   "outputs": [
    {
     "data": {
      "text/plain": [
       "<selenium.webdriver.remote.webelement.WebElement (session=\"0a7fa76586a57ae2e39d99293ad03980\", element=\"8bd16baa-867f-4357-bcf1-806d92fd8dde\")>"
      ]
     },
     "execution_count": 8,
     "metadata": {},
     "output_type": "execute_result"
    }
   ],
   "source": [
    "search_button=driver.find_element_by_xpath('/html/body/div/div[2]/div[3]/div/div/div[6]')\n",
    "search_button"
   ]
  },
  {
   "cell_type": "code",
   "execution_count": 9,
   "id": "049d3e39",
   "metadata": {},
   "outputs": [],
   "source": [
    "search_button.click()"
   ]
  },
  {
   "cell_type": "code",
   "execution_count": 54,
   "id": "462db908",
   "metadata": {},
   "outputs": [
    {
     "data": {
      "text/plain": [
       "20"
      ]
     },
     "execution_count": 54,
     "metadata": {},
     "output_type": "execute_result"
    }
   ],
   "source": [
    "title_tags=driver.find_elements_by_xpath('//a[@class=\"title fw500 ellipsis\"]')\n",
    "len(title_tags)\n",
    "\n"
   ]
  },
  {
   "cell_type": "code",
   "execution_count": 12,
   "id": "9049fe99",
   "metadata": {},
   "outputs": [
    {
     "data": {
      "text/plain": [
       "['Hiring For Data Analyst I(SQL & Python)',\n",
       " 'Senior Data Analyst',\n",
       " 'Senior Data Analyst II',\n",
       " 'Senior Data Analyst II',\n",
       " 'Hiring Data analyst with Pharma Background across India',\n",
       " 'Data Coordinator | Data Analyst | MS Excel | Typing | Bangalore',\n",
       " 'Data Analyst',\n",
       " 'Data Analyst',\n",
       " 'Consultant - Data Analyst',\n",
       " 'software developer & Testing / Business Analyst/Data Analyst/Python.']"
      ]
     },
     "execution_count": 12,
     "metadata": {},
     "output_type": "execute_result"
    }
   ],
   "source": [
    "job_titles=[]\n",
    "for i in title_tags:\n",
    "    job_titles.append(i.text)\n",
    "job_titles[0:10] "
   ]
  },
  {
   "cell_type": "code",
   "execution_count": 55,
   "id": "fd3dabb3",
   "metadata": {},
   "outputs": [
    {
     "data": {
      "text/plain": [
       "20"
      ]
     },
     "execution_count": 55,
     "metadata": {},
     "output_type": "execute_result"
    }
   ],
   "source": [
    "locn_tags=driver.find_elements_by_xpath('//li[@class=\"fleft grey-text br2 placeHolderLi location\"]')\n",
    "len(locn_tags)\n",
    "\n"
   ]
  },
  {
   "cell_type": "code",
   "execution_count": 14,
   "id": "3f302c10",
   "metadata": {},
   "outputs": [
    {
     "data": {
      "text/plain": [
       "['Bangalore/Bengaluru',\n",
       " 'Bangalore/Bengaluru',\n",
       " 'Bangalore/Bengaluru',\n",
       " 'Bangalore/Bengaluru',\n",
       " 'Hyderabad/Secunderabad, Chennai, Bangalore/Bengaluru\\n(WFH during Covid)',\n",
       " 'Bangalore/Bengaluru(Sadashiva Nagar)',\n",
       " 'Bangalore/Bengaluru',\n",
       " 'Bangalore/Bengaluru',\n",
       " 'Bangalore/Bengaluru',\n",
       " 'Pune, Bangalore/Bengaluru(Shivaji Nagar), Mumbai (All Areas)\\n(WFH during Covid)']"
      ]
     },
     "execution_count": 14,
     "metadata": {},
     "output_type": "execute_result"
    }
   ],
   "source": [
    "job_location=[]\n",
    "for i in locn_tags:\n",
    "    job_location.append(i.text)\n",
    "job_location[0:10]    "
   ]
  },
  {
   "cell_type": "code",
   "execution_count": 56,
   "id": "390fa1e7",
   "metadata": {},
   "outputs": [
    {
     "data": {
      "text/plain": [
       "20"
      ]
     },
     "execution_count": 56,
     "metadata": {},
     "output_type": "execute_result"
    }
   ],
   "source": [
    "company_tags=driver.find_elements_by_xpath('//a[@class=\"subTitle ellipsis fleft\"]')\n",
    "len(company_tags)\n",
    "\n"
   ]
  },
  {
   "cell_type": "code",
   "execution_count": 16,
   "id": "a0536429",
   "metadata": {},
   "outputs": [
    {
     "data": {
      "text/plain": [
       "['Clario India Pvt Ltd',\n",
       " 'Flipkart',\n",
       " 'Flipkart',\n",
       " 'Flipkart',\n",
       " 'HCL',\n",
       " 'Inspiration Manpower Consultancy Pvt. Ltd.',\n",
       " 'Flipkart',\n",
       " 'Flipkart',\n",
       " 'Flipkart',\n",
       " 'SECRET TECHNOLOGIES INDIA VMS GROUP']"
      ]
     },
     "execution_count": 16,
     "metadata": {},
     "output_type": "execute_result"
    }
   ],
   "source": [
    "company_names=[]\n",
    "for i in company_tags:\n",
    "    company_names.append(i.text)\n",
    "company_names[0:10]"
   ]
  },
  {
   "cell_type": "code",
   "execution_count": 57,
   "id": "c3975b4a",
   "metadata": {},
   "outputs": [
    {
     "data": {
      "text/plain": [
       "20"
      ]
     },
     "execution_count": 57,
     "metadata": {},
     "output_type": "execute_result"
    }
   ],
   "source": [
    "exp_tags=driver.find_elements_by_xpath('//li[@class=\"fleft grey-text br2 placeHolderLi experience\"]')\n",
    "len(exp_tags)\n",
    "\n",
    " "
   ]
  },
  {
   "cell_type": "code",
   "execution_count": 22,
   "id": "bf753fdb",
   "metadata": {},
   "outputs": [
    {
     "data": {
      "text/plain": [
       "['0-2 Yrs',\n",
       " '3-8 Yrs',\n",
       " '2-4 Yrs',\n",
       " '2-4 Yrs',\n",
       " '6-11 Yrs',\n",
       " '1-2 Yrs',\n",
       " '1-2 Yrs',\n",
       " '1-3 Yrs',\n",
       " '0-4 Yrs',\n",
       " '5-7 Yrs']"
      ]
     },
     "execution_count": 22,
     "metadata": {},
     "output_type": "execute_result"
    }
   ],
   "source": [
    "experience=[]\n",
    "for i in exp_tags:\n",
    "    experience.append(i.text)\n",
    "experience[0:10]   "
   ]
  },
  {
   "cell_type": "code",
   "execution_count": 24,
   "id": "d39444a7",
   "metadata": {},
   "outputs": [
    {
     "data": {
      "text/plain": [
       "(20, 20, 20, 19)"
      ]
     },
     "execution_count": 24,
     "metadata": {},
     "output_type": "execute_result"
    }
   ],
   "source": [
    "len(job_titles),len(job_location),len(company_names),len(experience)"
   ]
  },
  {
   "cell_type": "code",
   "execution_count": 31,
   "id": "8e07b1ed",
   "metadata": {},
   "outputs": [
    {
     "data": {
      "text/html": [
       "<div>\n",
       "<style scoped>\n",
       "    .dataframe tbody tr th:only-of-type {\n",
       "        vertical-align: middle;\n",
       "    }\n",
       "\n",
       "    .dataframe tbody tr th {\n",
       "        vertical-align: top;\n",
       "    }\n",
       "\n",
       "    .dataframe thead th {\n",
       "        text-align: right;\n",
       "    }\n",
       "</style>\n",
       "<table border=\"1\" class=\"dataframe\">\n",
       "  <thead>\n",
       "    <tr style=\"text-align: right;\">\n",
       "      <th></th>\n",
       "      <th>Job Titles</th>\n",
       "      <th>Location</th>\n",
       "      <th>Company Name</th>\n",
       "      <th>Experience</th>\n",
       "    </tr>\n",
       "  </thead>\n",
       "  <tbody>\n",
       "    <tr>\n",
       "      <th>0</th>\n",
       "      <td>Hiring For Data Analyst I(SQL &amp; Python)</td>\n",
       "      <td>Bangalore/Bengaluru</td>\n",
       "      <td>Clario India Pvt Ltd</td>\n",
       "      <td>0-2 Yrs</td>\n",
       "    </tr>\n",
       "    <tr>\n",
       "      <th>1</th>\n",
       "      <td>Senior Data Analyst</td>\n",
       "      <td>Bangalore/Bengaluru</td>\n",
       "      <td>Flipkart</td>\n",
       "      <td>3-8 Yrs</td>\n",
       "    </tr>\n",
       "    <tr>\n",
       "      <th>2</th>\n",
       "      <td>Senior Data Analyst II</td>\n",
       "      <td>Bangalore/Bengaluru</td>\n",
       "      <td>Flipkart</td>\n",
       "      <td>2-4 Yrs</td>\n",
       "    </tr>\n",
       "    <tr>\n",
       "      <th>3</th>\n",
       "      <td>Senior Data Analyst II</td>\n",
       "      <td>Bangalore/Bengaluru</td>\n",
       "      <td>Flipkart</td>\n",
       "      <td>2-4 Yrs</td>\n",
       "    </tr>\n",
       "    <tr>\n",
       "      <th>4</th>\n",
       "      <td>Hiring Data analyst with Pharma Background acr...</td>\n",
       "      <td>Hyderabad/Secunderabad, Chennai, Bangalore/Ben...</td>\n",
       "      <td>HCL</td>\n",
       "      <td>6-11 Yrs</td>\n",
       "    </tr>\n",
       "    <tr>\n",
       "      <th>5</th>\n",
       "      <td>Data Coordinator | Data Analyst | MS Excel | T...</td>\n",
       "      <td>Bangalore/Bengaluru(Sadashiva Nagar)</td>\n",
       "      <td>Inspiration Manpower Consultancy Pvt. Ltd.</td>\n",
       "      <td>1-2 Yrs</td>\n",
       "    </tr>\n",
       "    <tr>\n",
       "      <th>6</th>\n",
       "      <td>Data Analyst</td>\n",
       "      <td>Bangalore/Bengaluru</td>\n",
       "      <td>Flipkart</td>\n",
       "      <td>1-2 Yrs</td>\n",
       "    </tr>\n",
       "    <tr>\n",
       "      <th>7</th>\n",
       "      <td>Data Analyst</td>\n",
       "      <td>Bangalore/Bengaluru</td>\n",
       "      <td>Flipkart</td>\n",
       "      <td>1-3 Yrs</td>\n",
       "    </tr>\n",
       "    <tr>\n",
       "      <th>8</th>\n",
       "      <td>Consultant - Data Analyst</td>\n",
       "      <td>Bangalore/Bengaluru</td>\n",
       "      <td>Flipkart</td>\n",
       "      <td>0-4 Yrs</td>\n",
       "    </tr>\n",
       "    <tr>\n",
       "      <th>9</th>\n",
       "      <td>software developer &amp; Testing / Business Analys...</td>\n",
       "      <td>Pune, Bangalore/Bengaluru(Shivaji Nagar), Mumb...</td>\n",
       "      <td>SECRET TECHNOLOGIES INDIA VMS GROUP</td>\n",
       "      <td>5-7 Yrs</td>\n",
       "    </tr>\n",
       "  </tbody>\n",
       "</table>\n",
       "</div>"
      ],
      "text/plain": [
       "                                          Job Titles  \\\n",
       "0            Hiring For Data Analyst I(SQL & Python)   \n",
       "1                                Senior Data Analyst   \n",
       "2                             Senior Data Analyst II   \n",
       "3                             Senior Data Analyst II   \n",
       "4  Hiring Data analyst with Pharma Background acr...   \n",
       "5  Data Coordinator | Data Analyst | MS Excel | T...   \n",
       "6                                       Data Analyst   \n",
       "7                                       Data Analyst   \n",
       "8                          Consultant - Data Analyst   \n",
       "9  software developer & Testing / Business Analys...   \n",
       "\n",
       "                                            Location  \\\n",
       "0                                Bangalore/Bengaluru   \n",
       "1                                Bangalore/Bengaluru   \n",
       "2                                Bangalore/Bengaluru   \n",
       "3                                Bangalore/Bengaluru   \n",
       "4  Hyderabad/Secunderabad, Chennai, Bangalore/Ben...   \n",
       "5               Bangalore/Bengaluru(Sadashiva Nagar)   \n",
       "6                                Bangalore/Bengaluru   \n",
       "7                                Bangalore/Bengaluru   \n",
       "8                                Bangalore/Bengaluru   \n",
       "9  Pune, Bangalore/Bengaluru(Shivaji Nagar), Mumb...   \n",
       "\n",
       "                                 Company Name Experience  \n",
       "0                        Clario India Pvt Ltd    0-2 Yrs  \n",
       "1                                    Flipkart    3-8 Yrs  \n",
       "2                                    Flipkart    2-4 Yrs  \n",
       "3                                    Flipkart    2-4 Yrs  \n",
       "4                                         HCL   6-11 Yrs  \n",
       "5  Inspiration Manpower Consultancy Pvt. Ltd.    1-2 Yrs  \n",
       "6                                    Flipkart    1-2 Yrs  \n",
       "7                                    Flipkart    1-3 Yrs  \n",
       "8                                    Flipkart    0-4 Yrs  \n",
       "9         SECRET TECHNOLOGIES INDIA VMS GROUP    5-7 Yrs  "
      ]
     },
     "execution_count": 31,
     "metadata": {},
     "output_type": "execute_result"
    }
   ],
   "source": [
    "jobs=pd.DataFrame()\n",
    "jobs['Job Titles']=job_titles[0:10]\n",
    "jobs['Location']=job_location[:10]\n",
    "jobs['Company Name']=company_names[:10]\n",
    "jobs['Experience']=experience[:10]\n",
    "jobs"
   ]
  },
  {
   "cell_type": "code",
   "execution_count": null,
   "id": "582b8f42",
   "metadata": {},
   "outputs": [],
   "source": []
  },
  {
   "cell_type": "markdown",
   "id": "e2257f1b",
   "metadata": {},
   "source": [
    "Q2: Write a python program to scrape data for “Data Scientist” Job position in “Bangalore” location. You have to scrape the job-title, job-location, company_name. You have to scrape first 10 jobs data.\n",
    "This task will be done in following steps"
   ]
  },
  {
   "cell_type": "code",
   "execution_count": 32,
   "id": "83a666f2",
   "metadata": {},
   "outputs": [
    {
     "data": {
      "text/plain": [
       "<selenium.webdriver.remote.webelement.WebElement (session=\"0a7fa76586a57ae2e39d99293ad03980\", element=\"daa4ae68-44de-456b-9331-664364ca929a\")>"
      ]
     },
     "execution_count": 32,
     "metadata": {},
     "output_type": "execute_result"
    }
   ],
   "source": [
    "search_job=driver.find_element_by_class_name(\"suggestor-input \")\n",
    "search_job"
   ]
  },
  {
   "cell_type": "code",
   "execution_count": 33,
   "id": "1f2d6bf3",
   "metadata": {},
   "outputs": [],
   "source": [
    "search_job.send_keys(\"Data scientist\")"
   ]
  },
  {
   "cell_type": "code",
   "execution_count": 34,
   "id": "57c8de37",
   "metadata": {},
   "outputs": [
    {
     "data": {
      "text/plain": [
       "<selenium.webdriver.remote.webelement.WebElement (session=\"0a7fa76586a57ae2e39d99293ad03980\", element=\"51820e90-3553-4e73-830b-ff0b76d8d1be\")>"
      ]
     },
     "execution_count": 34,
     "metadata": {},
     "output_type": "execute_result"
    }
   ],
   "source": [
    "search_location=driver.find_element_by_xpath('/html/body/div/div[2]/div[3]/div/div/div[3]/div/div/div/input')\n",
    "search_location"
   ]
  },
  {
   "cell_type": "code",
   "execution_count": 35,
   "id": "09120186",
   "metadata": {},
   "outputs": [],
   "source": [
    "search_location.send_keys(\"Bangalore\")"
   ]
  },
  {
   "cell_type": "code",
   "execution_count": 36,
   "id": "a0208c3b",
   "metadata": {},
   "outputs": [
    {
     "data": {
      "text/plain": [
       "<selenium.webdriver.remote.webelement.WebElement (session=\"0a7fa76586a57ae2e39d99293ad03980\", element=\"4ee61091-d7ed-40ba-a37e-cd3da8f676ae\")>"
      ]
     },
     "execution_count": 36,
     "metadata": {},
     "output_type": "execute_result"
    }
   ],
   "source": [
    "search_button=driver.find_element_by_xpath('/html/body/div/div[2]/div[3]/div/div/div[6]')\n",
    "search_button"
   ]
  },
  {
   "cell_type": "code",
   "execution_count": 37,
   "id": "5f1b9b44",
   "metadata": {},
   "outputs": [],
   "source": [
    "search_button.click()"
   ]
  },
  {
   "cell_type": "code",
   "execution_count": 47,
   "id": "fe6ccc24",
   "metadata": {},
   "outputs": [
    {
     "data": {
      "text/plain": [
       "['Data Scientist',\n",
       " 'Data Scientist',\n",
       " 'Need Data scientists and data engineers - WFH- less than 30days notice',\n",
       " 'Senior/ Lead Data Scientist',\n",
       " 'Data Scientist / Analyst',\n",
       " 'Forecasting Analyst/ Data Scientist (US Client)',\n",
       " 'Hiring Data Scientist - Analytics',\n",
       " 'Computer Vision Python Data Scientist',\n",
       " 'Data Scientist',\n",
       " 'Excellent Opportunity For Freshers For AI/ML, Data Scientist, BI, QA']"
      ]
     },
     "execution_count": 47,
     "metadata": {},
     "output_type": "execute_result"
    }
   ],
   "source": [
    "title_tags=driver.find_elements_by_xpath('//a[@class=\"title fw500 ellipsis\"]')\n",
    "len(title_tags)\n",
    "job_name=[]\n",
    "for i in title_tags:\n",
    "    job_name.append(i.text)\n",
    "job_name[0:10]  "
   ]
  },
  {
   "cell_type": "code",
   "execution_count": 48,
   "id": "3449286f",
   "metadata": {},
   "outputs": [
    {
     "data": {
      "text/plain": [
       "['Pune, Gurgaon/Gurugram, Chennai, Bangalore/Bengaluru, Delhi / NCR, Mumbai (All Areas)',\n",
       " 'Bangalore/Bengaluru',\n",
       " 'Hyderabad/Secunderabad, Bangalore/Bengaluru, Mumbai (All Areas)\\n(WFH during Covid)',\n",
       " 'Bangalore/Bengaluru',\n",
       " 'Bangalore/Bengaluru',\n",
       " 'Gurgaon/Gurugram, Bangalore/Bengaluru\\n(WFH during Covid)',\n",
       " 'Bangalore/Bengaluru, Mumbai (All Areas)',\n",
       " 'Mumbai, Hyderabad/Secunderabad, Pune, Chennai, Bangalore/Bengaluru',\n",
       " 'Bangalore/Bengaluru',\n",
       " 'Noida, Kolkata, Hyderabad/Secunderabad, Pune, Chennai, Bangalore/Bengaluru, Delhi / NCR, Mumbai (All Areas)\\n(WFH during Covid)']"
      ]
     },
     "execution_count": 48,
     "metadata": {},
     "output_type": "execute_result"
    }
   ],
   "source": [
    "locn_tags=driver.find_elements_by_xpath('//li[@class=\"fleft grey-text br2 placeHolderLi location\"]')\n",
    "len(locn_tags)\n",
    "job_loctn=[]\n",
    "for i in locn_tags:\n",
    "    job_loctn.append(i.text)\n",
    "job_loctn[0:10]    "
   ]
  },
  {
   "cell_type": "code",
   "execution_count": 49,
   "id": "fdb2d1fb",
   "metadata": {},
   "outputs": [
    {
     "data": {
      "text/plain": [
       "['HDFC Bank',\n",
       " 'Shell',\n",
       " 'Covalense Technologies Private Limited',\n",
       " 'AmoliTalents',\n",
       " 'open data fabric',\n",
       " 'Concentrix',\n",
       " 'Firstsource Solutions Limited',\n",
       " 'OceanOfWeb',\n",
       " 'Minions Ventures',\n",
       " 'NTT Data']"
      ]
     },
     "execution_count": 49,
     "metadata": {},
     "output_type": "execute_result"
    }
   ],
   "source": [
    "company_tags=driver.find_elements_by_xpath('//a[@class=\"subTitle ellipsis fleft\"]')\n",
    "len(company_tags)\n",
    "cmpny_names=[]\n",
    "for i in company_tags:\n",
    "    cmpny_names.append(i.text)\n",
    "cmpny_names[0:10]"
   ]
  },
  {
   "cell_type": "code",
   "execution_count": 52,
   "id": "a93d7ea1",
   "metadata": {},
   "outputs": [
    {
     "data": {
      "text/plain": [
       "(20, 20, 20)"
      ]
     },
     "execution_count": 52,
     "metadata": {},
     "output_type": "execute_result"
    }
   ],
   "source": [
    "len(job_name),len(job_loctn),len(cmpny_names)"
   ]
  },
  {
   "cell_type": "code",
   "execution_count": 53,
   "id": "ff5e1a44",
   "metadata": {},
   "outputs": [
    {
     "data": {
      "text/html": [
       "<div>\n",
       "<style scoped>\n",
       "    .dataframe tbody tr th:only-of-type {\n",
       "        vertical-align: middle;\n",
       "    }\n",
       "\n",
       "    .dataframe tbody tr th {\n",
       "        vertical-align: top;\n",
       "    }\n",
       "\n",
       "    .dataframe thead th {\n",
       "        text-align: right;\n",
       "    }\n",
       "</style>\n",
       "<table border=\"1\" class=\"dataframe\">\n",
       "  <thead>\n",
       "    <tr style=\"text-align: right;\">\n",
       "      <th></th>\n",
       "      <th>Job Titles</th>\n",
       "      <th>Location</th>\n",
       "      <th>Company Name</th>\n",
       "    </tr>\n",
       "  </thead>\n",
       "  <tbody>\n",
       "    <tr>\n",
       "      <th>0</th>\n",
       "      <td>Data Scientist</td>\n",
       "      <td>Pune, Gurgaon/Gurugram, Chennai, Bangalore/Ben...</td>\n",
       "      <td>HDFC Bank</td>\n",
       "    </tr>\n",
       "    <tr>\n",
       "      <th>1</th>\n",
       "      <td>Data Scientist</td>\n",
       "      <td>Bangalore/Bengaluru</td>\n",
       "      <td>Shell</td>\n",
       "    </tr>\n",
       "    <tr>\n",
       "      <th>2</th>\n",
       "      <td>Need Data scientists and data engineers - WFH-...</td>\n",
       "      <td>Hyderabad/Secunderabad, Bangalore/Bengaluru, M...</td>\n",
       "      <td>Covalense Technologies Private Limited</td>\n",
       "    </tr>\n",
       "    <tr>\n",
       "      <th>3</th>\n",
       "      <td>Senior/ Lead Data Scientist</td>\n",
       "      <td>Bangalore/Bengaluru</td>\n",
       "      <td>AmoliTalents</td>\n",
       "    </tr>\n",
       "    <tr>\n",
       "      <th>4</th>\n",
       "      <td>Data Scientist / Analyst</td>\n",
       "      <td>Bangalore/Bengaluru</td>\n",
       "      <td>open data fabric</td>\n",
       "    </tr>\n",
       "    <tr>\n",
       "      <th>5</th>\n",
       "      <td>Forecasting Analyst/ Data Scientist (US Client)</td>\n",
       "      <td>Gurgaon/Gurugram, Bangalore/Bengaluru\\n(WFH du...</td>\n",
       "      <td>Concentrix</td>\n",
       "    </tr>\n",
       "    <tr>\n",
       "      <th>6</th>\n",
       "      <td>Hiring Data Scientist - Analytics</td>\n",
       "      <td>Bangalore/Bengaluru, Mumbai (All Areas)</td>\n",
       "      <td>Firstsource Solutions Limited</td>\n",
       "    </tr>\n",
       "    <tr>\n",
       "      <th>7</th>\n",
       "      <td>Computer Vision Python Data Scientist</td>\n",
       "      <td>Mumbai, Hyderabad/Secunderabad, Pune, Chennai,...</td>\n",
       "      <td>OceanOfWeb</td>\n",
       "    </tr>\n",
       "    <tr>\n",
       "      <th>8</th>\n",
       "      <td>Data Scientist</td>\n",
       "      <td>Bangalore/Bengaluru</td>\n",
       "      <td>Minions Ventures</td>\n",
       "    </tr>\n",
       "    <tr>\n",
       "      <th>9</th>\n",
       "      <td>Excellent Opportunity For Freshers For AI/ML, ...</td>\n",
       "      <td>Noida, Kolkata, Hyderabad/Secunderabad, Pune, ...</td>\n",
       "      <td>NTT Data</td>\n",
       "    </tr>\n",
       "  </tbody>\n",
       "</table>\n",
       "</div>"
      ],
      "text/plain": [
       "                                          Job Titles  \\\n",
       "0                                     Data Scientist   \n",
       "1                                     Data Scientist   \n",
       "2  Need Data scientists and data engineers - WFH-...   \n",
       "3                        Senior/ Lead Data Scientist   \n",
       "4                           Data Scientist / Analyst   \n",
       "5    Forecasting Analyst/ Data Scientist (US Client)   \n",
       "6                  Hiring Data Scientist - Analytics   \n",
       "7              Computer Vision Python Data Scientist   \n",
       "8                                     Data Scientist   \n",
       "9  Excellent Opportunity For Freshers For AI/ML, ...   \n",
       "\n",
       "                                            Location  \\\n",
       "0  Pune, Gurgaon/Gurugram, Chennai, Bangalore/Ben...   \n",
       "1                                Bangalore/Bengaluru   \n",
       "2  Hyderabad/Secunderabad, Bangalore/Bengaluru, M...   \n",
       "3                                Bangalore/Bengaluru   \n",
       "4                                Bangalore/Bengaluru   \n",
       "5  Gurgaon/Gurugram, Bangalore/Bengaluru\\n(WFH du...   \n",
       "6            Bangalore/Bengaluru, Mumbai (All Areas)   \n",
       "7  Mumbai, Hyderabad/Secunderabad, Pune, Chennai,...   \n",
       "8                                Bangalore/Bengaluru   \n",
       "9  Noida, Kolkata, Hyderabad/Secunderabad, Pune, ...   \n",
       "\n",
       "                             Company Name  \n",
       "0                               HDFC Bank  \n",
       "1                                   Shell  \n",
       "2  Covalense Technologies Private Limited  \n",
       "3                            AmoliTalents  \n",
       "4                        open data fabric  \n",
       "5                              Concentrix  \n",
       "6           Firstsource Solutions Limited  \n",
       "7                              OceanOfWeb  \n",
       "8                        Minions Ventures  \n",
       "9                                NTT Data  "
      ]
     },
     "execution_count": 53,
     "metadata": {},
     "output_type": "execute_result"
    }
   ],
   "source": [
    "jobs=pd.DataFrame()\n",
    "jobs['Job Titles']=job_name[0:10]\n",
    "jobs['Location']=job_loctn[:10]\n",
    "jobs['Company Name']=cmpny_names[:10]\n",
    "jobs"
   ]
  },
  {
   "cell_type": "markdown",
   "id": "6ece37fd",
   "metadata": {},
   "source": [
    "Q3: In this question you have to scrape data using the filters available on the webpage as shown below"
   ]
  },
  {
   "cell_type": "code",
   "execution_count": 2,
   "id": "89921ea5",
   "metadata": {},
   "outputs": [],
   "source": [
    "driver=webdriver.Chrome('chromedriver.exe')"
   ]
  },
  {
   "cell_type": "code",
   "execution_count": 59,
   "id": "9024b199",
   "metadata": {},
   "outputs": [],
   "source": [
    "url='https://www.naukri.com/'\n",
    "driver.get(url)"
   ]
  },
  {
   "cell_type": "code",
   "execution_count": 67,
   "id": "d8dd370d",
   "metadata": {},
   "outputs": [
    {
     "data": {
      "text/plain": [
       "<selenium.webdriver.remote.webelement.WebElement (session=\"1b1d8cc076ab9c6bc73a436842427259\", element=\"bd2b363a-2cdc-4726-9233-bf4dc1d6a345\")>"
      ]
     },
     "execution_count": 67,
     "metadata": {},
     "output_type": "execute_result"
    }
   ],
   "source": [
    "search_job=driver.find_element_by_xpath(\"/html/body/div/div[2]/div[3]/div/div/div[1]/div/div/div/input\")\n",
    "search_job"
   ]
  },
  {
   "cell_type": "code",
   "execution_count": 68,
   "id": "6f0412ae",
   "metadata": {},
   "outputs": [],
   "source": [
    "search_job.send_keys('Data Scientist')"
   ]
  },
  {
   "cell_type": "code",
   "execution_count": 69,
   "id": "66ad04d9",
   "metadata": {},
   "outputs": [
    {
     "data": {
      "text/plain": [
       "<bound method WebElement.click of <selenium.webdriver.remote.webelement.WebElement (session=\"1b1d8cc076ab9c6bc73a436842427259\", element=\"406e74d0-ffa4-4cf2-aad8-19f6130a06a6\")>>"
      ]
     },
     "execution_count": 69,
     "metadata": {},
     "output_type": "execute_result"
    }
   ],
   "source": [
    "search_btn=driver.find_element_by_xpath('/html/body/div/div[2]/div[3]/div/div/div[6]')\n",
    "search_btn\n"
   ]
  },
  {
   "cell_type": "code",
   "execution_count": 71,
   "id": "093ea033",
   "metadata": {},
   "outputs": [],
   "source": [
    "search_btn.click()"
   ]
  },
  {
   "cell_type": "code",
   "execution_count": 72,
   "id": "90e76d01",
   "metadata": {},
   "outputs": [
    {
     "data": {
      "text/plain": [
       "<selenium.webdriver.remote.webelement.WebElement (session=\"1b1d8cc076ab9c6bc73a436842427259\", element=\"4ba62710-2be9-4bb0-8035-730162af98b3\")>"
      ]
     },
     "execution_count": 72,
     "metadata": {},
     "output_type": "execute_result"
    }
   ],
   "source": [
    "loctn_filter=driver.find_element_by_xpath('/html/body/div[1]/div[3]/div[2]/section[1]/div[2]/div[3]/div[2]/div[3]/label/i')\n",
    "loctn_filter"
   ]
  },
  {
   "cell_type": "code",
   "execution_count": 73,
   "id": "4134927e",
   "metadata": {},
   "outputs": [],
   "source": [
    "loctn_filter.click()"
   ]
  },
  {
   "cell_type": "code",
   "execution_count": 74,
   "id": "e92249f0",
   "metadata": {},
   "outputs": [
    {
     "data": {
      "text/plain": [
       "<selenium.webdriver.remote.webelement.WebElement (session=\"1b1d8cc076ab9c6bc73a436842427259\", element=\"352a65ad-c3d5-4eb4-8ca1-97ce64aef096\")>"
      ]
     },
     "execution_count": 74,
     "metadata": {},
     "output_type": "execute_result"
    }
   ],
   "source": [
    "salary_filter=driver.find_element_by_xpath('/html/body/div[1]/div[3]/div[2]/section[1]/div[2]/div[4]/div[2]/div[2]/label/i')\n",
    "salary_filter"
   ]
  },
  {
   "cell_type": "code",
   "execution_count": 75,
   "id": "5ddb1cb9",
   "metadata": {},
   "outputs": [],
   "source": [
    "salary_filter.click()"
   ]
  },
  {
   "cell_type": "code",
   "execution_count": 78,
   "id": "8175e59a",
   "metadata": {},
   "outputs": [
    {
     "data": {
      "text/plain": [
       "20"
      ]
     },
     "execution_count": 78,
     "metadata": {},
     "output_type": "execute_result"
    }
   ],
   "source": [
    "title=driver.find_elements_by_xpath('//a[@class=\"title fw500 ellipsis\"]')\n",
    "len(title)"
   ]
  },
  {
   "cell_type": "code",
   "execution_count": 83,
   "id": "9d94f011",
   "metadata": {},
   "outputs": [
    {
     "data": {
      "text/plain": [
       "['Excellent Opportunity For Freshers For AI/ML, Data Scientist, BI, QA',\n",
       " 'Data Analyst / Data Scientist / Business Analytics / Fresher - MNC',\n",
       " 'Hiring For Senior Data Scientist-Noida',\n",
       " 'Data Scientist _NLP',\n",
       " 'Junior Data Analyst/ Scientist- Fresher Position',\n",
       " 'Data Scientist - MIND Infotech',\n",
       " 'Data Scientist - MIND Infotech',\n",
       " 'Only Fresher / Python Data Scientist / Trainee / Analytics - MNC Jobs',\n",
       " 'Lead Data Scientist',\n",
       " 'Urgent Requirement || Data Scientist || Noida']"
      ]
     },
     "execution_count": 83,
     "metadata": {},
     "output_type": "execute_result"
    }
   ],
   "source": [
    "Titles=[]\n",
    "for i in title:\n",
    "    Titles.append(i.text)\n",
    "Titles[:10]    "
   ]
  },
  {
   "cell_type": "code",
   "execution_count": 80,
   "id": "0017eb23",
   "metadata": {},
   "outputs": [
    {
     "data": {
      "text/plain": [
       "20"
      ]
     },
     "execution_count": 80,
     "metadata": {},
     "output_type": "execute_result"
    }
   ],
   "source": [
    "loctn_tag=driver.find_elements_by_xpath('//li[@class=\"fleft grey-text br2 placeHolderLi location\"]')\n",
    "len(loctn_tag)"
   ]
  },
  {
   "cell_type": "code",
   "execution_count": 84,
   "id": "9b068394",
   "metadata": {},
   "outputs": [
    {
     "data": {
      "text/plain": [
       "['Noida, Kolkata, Hyderabad/Secunderabad, Pune, Chennai, Bangalore/Bengaluru, Delhi / NCR, Mumbai (All Areas)\\n(WFH during Covid)',\n",
       " 'Noida, New Delhi, Delhi / NCR',\n",
       " 'Noida, New Delhi, Greater Noida',\n",
       " 'Bangalore/Bengaluru, Delhi / NCR\\n(WFH during Covid)',\n",
       " 'Kolkata, Hyderabad/Secunderabad, Pune, Ahmedabad, Chennai, Bangalore/Bengaluru, Delhi / NCR, Mumbai (All Areas)\\n(WFH during Covid)',\n",
       " 'Noida',\n",
       " 'Noida',\n",
       " 'Noida, New Delhi, Gurgaon/Gurugram',\n",
       " 'Delhi / NCR\\n(WFH during Covid)',\n",
       " 'Noida, Delhi / NCR']"
      ]
     },
     "execution_count": 84,
     "metadata": {},
     "output_type": "execute_result"
    }
   ],
   "source": [
    "Location=[]\n",
    "for i in loctn_tag:\n",
    "    Location.append(i.text)\n",
    "Location[:10]    "
   ]
  },
  {
   "cell_type": "code",
   "execution_count": 85,
   "id": "19a6b6b7",
   "metadata": {},
   "outputs": [
    {
     "data": {
      "text/plain": [
       "['NTT Data',\n",
       " 'GABA Consultancy services',\n",
       " 'Lumiq.ai',\n",
       " 'EXL',\n",
       " 'Sejal Consulting Hub',\n",
       " 'MOTHERSONSUMI INFOTECH & DESIGNS LIMITED',\n",
       " 'MOTHERSONSUMI INFOTECH & DESIGNS LIMITED',\n",
       " 'GABA Consultancy services',\n",
       " 'Indihire HR Consultants Private Limited',\n",
       " 'HCL']"
      ]
     },
     "execution_count": 85,
     "metadata": {},
     "output_type": "execute_result"
    }
   ],
   "source": [
    "comp_tags=driver.find_elements_by_xpath('//a[@class=\"subTitle ellipsis fleft\"]')\n",
    "len(comp_tags)\n",
    "cmp_names=[]\n",
    "for i in comp_tags:\n",
    "    cmp_names.append(i.text)\n",
    "cmp_names[:10]"
   ]
  },
  {
   "cell_type": "code",
   "execution_count": 90,
   "id": "267baf41",
   "metadata": {},
   "outputs": [
    {
     "data": {
      "text/plain": [
       "['0-0 Yrs',\n",
       " '0-0 Yrs',\n",
       " '2-6 Yrs',\n",
       " '3-8 Yrs',\n",
       " '0-3 Yrs',\n",
       " '4-8 Yrs',\n",
       " '4-8 Yrs',\n",
       " '0-0 Yrs',\n",
       " '2-4 Yrs',\n",
       " '3-8 Yrs']"
      ]
     },
     "execution_count": 90,
     "metadata": {},
     "output_type": "execute_result"
    }
   ],
   "source": [
    "exp_tag=driver.find_elements_by_xpath('//li[@class=\"fleft grey-text br2 placeHolderLi experience\"]')\n",
    "len(exp_tag)\n",
    "exp=[]\n",
    "for i in exp_tag:\n",
    "    exp.append(i.text)\n",
    "exp[0:10] "
   ]
  },
  {
   "cell_type": "code",
   "execution_count": 92,
   "id": "02a4ce9f",
   "metadata": {},
   "outputs": [
    {
     "data": {
      "text/html": [
       "<div>\n",
       "<style scoped>\n",
       "    .dataframe tbody tr th:only-of-type {\n",
       "        vertical-align: middle;\n",
       "    }\n",
       "\n",
       "    .dataframe tbody tr th {\n",
       "        vertical-align: top;\n",
       "    }\n",
       "\n",
       "    .dataframe thead th {\n",
       "        text-align: right;\n",
       "    }\n",
       "</style>\n",
       "<table border=\"1\" class=\"dataframe\">\n",
       "  <thead>\n",
       "    <tr style=\"text-align: right;\">\n",
       "      <th></th>\n",
       "      <th>Job Titles</th>\n",
       "      <th>Location</th>\n",
       "      <th>Company Name</th>\n",
       "      <th>Experience</th>\n",
       "    </tr>\n",
       "  </thead>\n",
       "  <tbody>\n",
       "    <tr>\n",
       "      <th>0</th>\n",
       "      <td>Excellent Opportunity For Freshers For AI/ML, ...</td>\n",
       "      <td>Noida, Kolkata, Hyderabad/Secunderabad, Pune, ...</td>\n",
       "      <td>NTT Data</td>\n",
       "      <td>0-0 Yrs</td>\n",
       "    </tr>\n",
       "    <tr>\n",
       "      <th>1</th>\n",
       "      <td>Data Analyst / Data Scientist / Business Analy...</td>\n",
       "      <td>Noida, New Delhi, Delhi / NCR</td>\n",
       "      <td>GABA Consultancy services</td>\n",
       "      <td>0-0 Yrs</td>\n",
       "    </tr>\n",
       "    <tr>\n",
       "      <th>2</th>\n",
       "      <td>Hiring For Senior Data Scientist-Noida</td>\n",
       "      <td>Noida, New Delhi, Greater Noida</td>\n",
       "      <td>Lumiq.ai</td>\n",
       "      <td>2-6 Yrs</td>\n",
       "    </tr>\n",
       "    <tr>\n",
       "      <th>3</th>\n",
       "      <td>Data Scientist _NLP</td>\n",
       "      <td>Bangalore/Bengaluru, Delhi / NCR\\n(WFH during ...</td>\n",
       "      <td>EXL</td>\n",
       "      <td>3-8 Yrs</td>\n",
       "    </tr>\n",
       "    <tr>\n",
       "      <th>4</th>\n",
       "      <td>Junior Data Analyst/ Scientist- Fresher Position</td>\n",
       "      <td>Kolkata, Hyderabad/Secunderabad, Pune, Ahmedab...</td>\n",
       "      <td>Sejal Consulting Hub</td>\n",
       "      <td>0-3 Yrs</td>\n",
       "    </tr>\n",
       "    <tr>\n",
       "      <th>5</th>\n",
       "      <td>Data Scientist - MIND Infotech</td>\n",
       "      <td>Noida</td>\n",
       "      <td>MOTHERSONSUMI INFOTECH &amp; DESIGNS LIMITED</td>\n",
       "      <td>4-8 Yrs</td>\n",
       "    </tr>\n",
       "    <tr>\n",
       "      <th>6</th>\n",
       "      <td>Data Scientist - MIND Infotech</td>\n",
       "      <td>Noida</td>\n",
       "      <td>MOTHERSONSUMI INFOTECH &amp; DESIGNS LIMITED</td>\n",
       "      <td>4-8 Yrs</td>\n",
       "    </tr>\n",
       "    <tr>\n",
       "      <th>7</th>\n",
       "      <td>Only Fresher / Python Data Scientist / Trainee...</td>\n",
       "      <td>Noida, New Delhi, Gurgaon/Gurugram</td>\n",
       "      <td>GABA Consultancy services</td>\n",
       "      <td>0-0 Yrs</td>\n",
       "    </tr>\n",
       "    <tr>\n",
       "      <th>8</th>\n",
       "      <td>Lead Data Scientist</td>\n",
       "      <td>Delhi / NCR\\n(WFH during Covid)</td>\n",
       "      <td>Indihire HR Consultants Private Limited</td>\n",
       "      <td>2-4 Yrs</td>\n",
       "    </tr>\n",
       "    <tr>\n",
       "      <th>9</th>\n",
       "      <td>Urgent Requirement || Data Scientist || Noida</td>\n",
       "      <td>Noida, Delhi / NCR</td>\n",
       "      <td>HCL</td>\n",
       "      <td>3-8 Yrs</td>\n",
       "    </tr>\n",
       "  </tbody>\n",
       "</table>\n",
       "</div>"
      ],
      "text/plain": [
       "                                          Job Titles  \\\n",
       "0  Excellent Opportunity For Freshers For AI/ML, ...   \n",
       "1  Data Analyst / Data Scientist / Business Analy...   \n",
       "2             Hiring For Senior Data Scientist-Noida   \n",
       "3                                Data Scientist _NLP   \n",
       "4   Junior Data Analyst/ Scientist- Fresher Position   \n",
       "5                     Data Scientist - MIND Infotech   \n",
       "6                     Data Scientist - MIND Infotech   \n",
       "7  Only Fresher / Python Data Scientist / Trainee...   \n",
       "8                                Lead Data Scientist   \n",
       "9      Urgent Requirement || Data Scientist || Noida   \n",
       "\n",
       "                                            Location  \\\n",
       "0  Noida, Kolkata, Hyderabad/Secunderabad, Pune, ...   \n",
       "1                      Noida, New Delhi, Delhi / NCR   \n",
       "2                    Noida, New Delhi, Greater Noida   \n",
       "3  Bangalore/Bengaluru, Delhi / NCR\\n(WFH during ...   \n",
       "4  Kolkata, Hyderabad/Secunderabad, Pune, Ahmedab...   \n",
       "5                                              Noida   \n",
       "6                                              Noida   \n",
       "7                 Noida, New Delhi, Gurgaon/Gurugram   \n",
       "8                    Delhi / NCR\\n(WFH during Covid)   \n",
       "9                                 Noida, Delhi / NCR   \n",
       "\n",
       "                               Company Name Experience  \n",
       "0                                  NTT Data    0-0 Yrs  \n",
       "1                 GABA Consultancy services    0-0 Yrs  \n",
       "2                                  Lumiq.ai    2-6 Yrs  \n",
       "3                                       EXL    3-8 Yrs  \n",
       "4                      Sejal Consulting Hub    0-3 Yrs  \n",
       "5  MOTHERSONSUMI INFOTECH & DESIGNS LIMITED    4-8 Yrs  \n",
       "6  MOTHERSONSUMI INFOTECH & DESIGNS LIMITED    4-8 Yrs  \n",
       "7                 GABA Consultancy services    0-0 Yrs  \n",
       "8   Indihire HR Consultants Private Limited    2-4 Yrs  \n",
       "9                                       HCL    3-8 Yrs  "
      ]
     },
     "execution_count": 92,
     "metadata": {},
     "output_type": "execute_result"
    }
   ],
   "source": [
    "Jobs=pd.DataFrame()\n",
    "Jobs['Job Titles']=Titles[0:10]\n",
    "Jobs['Location']=Location[:10]\n",
    "Jobs['Company Name']=cmp_names[:10]\n",
    "Jobs['Experience']=exp[:10]\n",
    "Jobs"
   ]
  },
  {
   "cell_type": "markdown",
   "id": "580b67a3",
   "metadata": {},
   "source": [
    "Q4: Scrape data of first 100 sunglasses listings on flipkart.com. You have to scrape four attributes:\n",
    "1. Brand\n",
    "2. Product Description\n",
    "3. Price\n",
    "The attributes which you have to scrape is ticked marked in the below image."
   ]
  },
  {
   "cell_type": "code",
   "execution_count": 3,
   "id": "cf176164",
   "metadata": {},
   "outputs": [],
   "source": [
    "url2='https://www.flipkart.com/'\n",
    "driver.get(url2)\n"
   ]
  },
  {
   "cell_type": "code",
   "execution_count": 4,
   "id": "6165b6fd",
   "metadata": {},
   "outputs": [
    {
     "data": {
      "text/plain": [
       "<selenium.webdriver.remote.webelement.WebElement (session=\"8afb12acbe319381dd0cc527ab74b6a6\", element=\"5934cc07-4776-4299-a8d9-b0bd44a08df2\")>"
      ]
     },
     "execution_count": 4,
     "metadata": {},
     "output_type": "execute_result"
    }
   ],
   "source": [
    "search_bar=driver.find_element_by_xpath('/html/body/div[1]/div/div[1]/div[1]/div[2]/div[2]/form/div/div/input')\n",
    "search_bar"
   ]
  },
  {
   "cell_type": "code",
   "execution_count": 5,
   "id": "1a0b74c2",
   "metadata": {},
   "outputs": [],
   "source": [
    "search_bar.send_keys(\"sunglasses\")\n"
   ]
  },
  {
   "cell_type": "code",
   "execution_count": 6,
   "id": "d92890cf",
   "metadata": {},
   "outputs": [
    {
     "data": {
      "text/plain": [
       "<selenium.webdriver.remote.webelement.WebElement (session=\"8afb12acbe319381dd0cc527ab74b6a6\", element=\"7d2c115f-dbef-4543-bee0-a413a46f9dd0\")>"
      ]
     },
     "execution_count": 6,
     "metadata": {},
     "output_type": "execute_result"
    }
   ],
   "source": [
    "search_btn=driver.find_element_by_xpath('/html/body/div[1]/div/div[1]/div[1]/div[2]/div[2]/form/div/button')\n",
    "search_btn"
   ]
  },
  {
   "cell_type": "code",
   "execution_count": 8,
   "id": "1236ef5e",
   "metadata": {},
   "outputs": [],
   "source": [
    "search_btn.click()"
   ]
  },
  {
   "cell_type": "code",
   "execution_count": 35,
   "id": "4952b65c",
   "metadata": {},
   "outputs": [
    {
     "data": {
      "text/plain": [
       "['PIRASO',\n",
       " 'PIRASO',\n",
       " 'SRPM',\n",
       " 'SUNBEE',\n",
       " 'PIRASO',\n",
       " 'PIRASO',\n",
       " 'DEIXELS',\n",
       " 'VINCENT CHASE',\n",
       " 'Elligator',\n",
       " 'New Specs',\n",
       " 'Fastrack',\n",
       " 'AISLIN',\n",
       " 'SHAAH COLLECTIONS',\n",
       " 'kingsunglasses',\n",
       " 'GANSTA',\n",
       " 'ROYAL SON',\n",
       " 'PIRASO',\n",
       " 'Lee Topper',\n",
       " 'ROZZETTA CRAFT',\n",
       " 'ROZZETTA CRAFT',\n",
       " 'Fastrack',\n",
       " 'Lee Topper',\n",
       " 'Silver Kartz',\n",
       " 'VINCENT CHASE',\n",
       " 'PIRASO',\n",
       " 'Fastrack',\n",
       " 'kingsunglasses',\n",
       " 'ROYAL SON',\n",
       " 'Fastrack',\n",
       " 'Elligator',\n",
       " 'PIRASO',\n",
       " 'Singco India',\n",
       " 'SRPM',\n",
       " 'kingsunglasses',\n",
       " 'IDEE',\n",
       " 'PIRASO',\n",
       " 'SRPM',\n",
       " 'SUNBEE',\n",
       " 'ROYAL SON',\n",
       " 'VINCENT CHASE']"
      ]
     },
     "execution_count": 35,
     "metadata": {},
     "output_type": "execute_result"
    }
   ],
   "source": [
    "brand_tag=driver.find_elements_by_xpath('//div[@class=\"_2WkVRV\"]')\n",
    "brand=[]\n",
    "for i in brand_tag:\n",
    "    brand.append(i.text)\n",
    "brand    \n",
    "    "
   ]
  },
  {
   "cell_type": "code",
   "execution_count": 36,
   "id": "8eb5ddb1",
   "metadata": {},
   "outputs": [
    {
     "data": {
      "text/plain": [
       "['UV Protection Aviator Sunglasses (55)',\n",
       " 'UV Protection Aviator Sunglasses (58)',\n",
       " 'UV Protection Wayfarer Sunglasses (50)',\n",
       " 'UV Protection, Polarized Wayfarer Sunglasses (Free Size...',\n",
       " 'UV Protection Aviator Sunglasses (54)',\n",
       " 'UV Protection Aviator Sunglasses (54)',\n",
       " 'UV Protection Aviator, Wayfarer Sunglasses (Free Size)',\n",
       " 'by Lenskart Polarized, UV Protection Wayfarer Sunglasse...',\n",
       " 'UV Protection Round Sunglasses (54)',\n",
       " 'UV Protection Rectangular Sunglasses (Free Size)',\n",
       " 'UV Protection Rectangular Sunglasses (Free Size)',\n",
       " 'UV Protection, Gradient Butterfly, Over-sized Sunglasse...',\n",
       " 'UV Protection, Polarized, Mirrored Rectangular Sunglass...',\n",
       " 'UV Protection, Riding Glasses, Mirrored Wayfarer Sungla...',\n",
       " 'UV Protection, Riding Glasses Wayfarer Sunglasses (53)',\n",
       " 'Polarized, UV Protection Aviator Sunglasses (57)',\n",
       " 'UV Protection Aviator Sunglasses (54)',\n",
       " 'UV Protection Rectangular Sunglasses (Free Size)',\n",
       " 'Polarized, Night Vision, Riding Glasses Sports, Wrap-ar...',\n",
       " 'UV Protection Round Sunglasses (Free Size)',\n",
       " 'UV Protection Wayfarer Sunglasses (Free Size)',\n",
       " 'Riding Glasses Wrap-around Sunglasses (Free Size)',\n",
       " 'UV Protection Wayfarer Sunglasses (Free Size)',\n",
       " 'by Lenskart Polarized, UV Protection Cat-eye Sunglasses...',\n",
       " 'UV Protection Wayfarer Sunglasses (55)',\n",
       " 'Gradient, UV Protection Wayfarer Sunglasses (Free Size)',\n",
       " 'Mirrored, UV Protection Wayfarer Sunglasses (Free Size)',\n",
       " 'Polarized, UV Protection Round Sunglasses (52)',\n",
       " 'Polarized Retro Square Sunglasses (Free Size)',\n",
       " 'UV Protection Round Sunglasses (53)',\n",
       " 'UV Protection Wayfarer Sunglasses (32)',\n",
       " 'Mirrored, Riding Glasses, Others Sports Sunglasses (50)',\n",
       " 'Others Wayfarer, Retro Square Sunglasses (50)',\n",
       " 'UV Protection Round Sunglasses (54)',\n",
       " 'UV Protection Rectangular Sunglasses (59)',\n",
       " 'UV Protection Rectangular, Over-sized Sunglasses (Free ...',\n",
       " 'UV Protection Wayfarer Sunglasses (53)',\n",
       " 'UV Protection, Polarized, Mirrored Round Sunglasses (Fr...',\n",
       " 'Mirrored Aviator Sunglasses (55)',\n",
       " 'by Lenskart Polarized, UV Protection Round Sunglasses (...']"
      ]
     },
     "execution_count": 36,
     "metadata": {},
     "output_type": "execute_result"
    }
   ],
   "source": [
    "prdct_tag=driver.find_elements_by_xpath('//a[@class=\"IRpwTa\"]')\n",
    "product=[]\n",
    "for i in prdct_tag:\n",
    "    product.append(i.text)\n",
    "product    "
   ]
  },
  {
   "cell_type": "code",
   "execution_count": 37,
   "id": "a4240084",
   "metadata": {},
   "outputs": [
    {
     "data": {
      "text/plain": [
       "['₹200',\n",
       " '₹299',\n",
       " '₹148',\n",
       " '₹203',\n",
       " '₹179',\n",
       " '₹175',\n",
       " '₹152',\n",
       " '₹749',\n",
       " '₹208',\n",
       " '₹182',\n",
       " '₹629',\n",
       " '₹625',\n",
       " '₹115',\n",
       " '₹134',\n",
       " '₹148',\n",
       " '₹709',\n",
       " '₹175',\n",
       " '₹149',\n",
       " '₹424',\n",
       " '₹376',\n",
       " '₹549',\n",
       " '₹225',\n",
       " '₹183',\n",
       " '₹949',\n",
       " '₹175',\n",
       " '₹629',\n",
       " '₹189',\n",
       " '₹709',\n",
       " '₹548',\n",
       " '₹139',\n",
       " '₹175',\n",
       " '₹144',\n",
       " '₹128',\n",
       " '₹136',\n",
       " '₹929',\n",
       " '₹275',\n",
       " '₹170',\n",
       " '₹234',\n",
       " '₹329',\n",
       " '₹949']"
      ]
     },
     "execution_count": 37,
     "metadata": {},
     "output_type": "execute_result"
    }
   ],
   "source": [
    "price_tag=driver.find_elements_by_xpath('//div[@class=\"_30jeq3\"]')\n",
    "prce=[]\n",
    "for i in price_tag:\n",
    "    prce.append(i.text)\n",
    "prce    \n",
    "    "
   ]
  },
  {
   "cell_type": "code",
   "execution_count": 38,
   "id": "f76b0c85",
   "metadata": {},
   "outputs": [
    {
     "data": {
      "text/plain": [
       "['87% off',\n",
       " '88% off',\n",
       " '88% off',\n",
       " '84% off',\n",
       " '88% off',\n",
       " '89% off',\n",
       " '87% off',\n",
       " '70% off',\n",
       " '91% off',\n",
       " '92% off',\n",
       " '21% off',\n",
       " '75% off',\n",
       " '93% off',\n",
       " '88% off',\n",
       " '91% off',\n",
       " '64% off',\n",
       " '89% off',\n",
       " '85% off',\n",
       " '78% off',\n",
       " '85% off',\n",
       " '31% off',\n",
       " '90% off',\n",
       " '87% off',\n",
       " '52% off',\n",
       " '89% off',\n",
       " '30% off',\n",
       " '90% off',\n",
       " '64% off',\n",
       " '31% off',\n",
       " '86% off',\n",
       " '89% off',\n",
       " '90% off',\n",
       " '87% off',\n",
       " '86% off',\n",
       " '62% off',\n",
       " '90% off',\n",
       " '82% off',\n",
       " '86% off',\n",
       " '78% off',\n",
       " '52% off']"
      ]
     },
     "execution_count": 38,
     "metadata": {},
     "output_type": "execute_result"
    }
   ],
   "source": [
    "dcnt_tag=driver.find_elements_by_xpath('//div[@class=\"_3Ay6Sb\"]')\n",
    "discnt=[]\n",
    "for i in dcnt_tag:\n",
    "    discnt.append(i.text)\n",
    "discnt    "
   ]
  },
  {
   "cell_type": "code",
   "execution_count": 39,
   "id": "236d28f8",
   "metadata": {},
   "outputs": [
    {
     "data": {
      "text/plain": [
       "(40, 40, 40, 40)"
      ]
     },
     "execution_count": 39,
     "metadata": {},
     "output_type": "execute_result"
    }
   ],
   "source": [
    "len(brand),len(product),len(prce),len(discnt)"
   ]
  },
  {
   "cell_type": "code",
   "execution_count": 40,
   "id": "3f8d956e",
   "metadata": {},
   "outputs": [],
   "source": [
    "next_btn_tag=driver.find_element_by_xpath('/html/body/div[1]/div/div[3]/div[1]/div[2]/div[12]/div/div/nav/a[11]')\n",
    "next_btn_tag.click()"
   ]
  },
  {
   "cell_type": "code",
   "execution_count": 41,
   "id": "aa35ac6a",
   "metadata": {},
   "outputs": [
    {
     "data": {
      "text/plain": [
       "['kingsunglasses',\n",
       " 'ROZZETTA CRAFT',\n",
       " 'PHENOMENAL',\n",
       " 'PIRASO',\n",
       " 'Elligator',\n",
       " 'New Specs',\n",
       " 'Lee Topper',\n",
       " 'PIRASO',\n",
       " 'PIRASO',\n",
       " 'Rich Club',\n",
       " 'Silver Kartz',\n",
       " 'PIRASO',\n",
       " 'IDEE',\n",
       " 'PIRASO',\n",
       " 'DEIXELS',\n",
       " 'PIRASO',\n",
       " 'SRPM',\n",
       " 'SUNBEE',\n",
       " 'Lee Topper',\n",
       " 'ROZZETTA CRAFT',\n",
       " 'PIRASO',\n",
       " 'IDEE',\n",
       " 'IDEE',\n",
       " 'AISLIN',\n",
       " 'Singco India',\n",
       " 'New Specs',\n",
       " 'PHENOMENAL',\n",
       " 'PIRASO',\n",
       " 'Mi',\n",
       " 'ROYAL SON',\n",
       " 'ROZZETTA CRAFT',\n",
       " 'VINCENT CHASE',\n",
       " 'hipe',\n",
       " 'kingsunglasses',\n",
       " 'Rich Club',\n",
       " 'VINCENT CHASE',\n",
       " 'Fastrack',\n",
       " 'SHAAH COLLECTIONS',\n",
       " 'AISLIN',\n",
       " 'ROYAL SON']"
      ]
     },
     "execution_count": 41,
     "metadata": {},
     "output_type": "execute_result"
    }
   ],
   "source": [
    "brand_tag2=driver.find_elements_by_xpath('//div[@class=\"_2WkVRV\"]')\n",
    "brand2=[]\n",
    "for i in brand_tag2:\n",
    "    brand2.append(i.text)\n",
    "brand2    \n",
    "    "
   ]
  },
  {
   "cell_type": "code",
   "execution_count": 42,
   "id": "8276ae6b",
   "metadata": {},
   "outputs": [
    {
     "data": {
      "text/plain": [
       "['UV Protection Round Sunglasses (Free Size)',\n",
       " 'UV Protection Retro Square Sunglasses (Free Size)',\n",
       " 'UV Protection Retro Square Sunglasses (Free Size)',\n",
       " 'UV Protection Aviator Sunglasses (54)',\n",
       " 'UV Protection Wayfarer Sunglasses (53)',\n",
       " 'UV Protection Aviator Sunglasses (Free Size)',\n",
       " 'Riding Glasses, Night Vision Wrap-around Sunglasses (Fr...',\n",
       " 'UV Protection Aviator Sunglasses (54)',\n",
       " 'UV Protection Aviator Sunglasses (Free Size)',\n",
       " 'Polarized Round Sunglasses (48)',\n",
       " 'UV Protection Aviator Sunglasses (88)',\n",
       " 'UV Protection Aviator Sunglasses (55)',\n",
       " 'UV Protection Cat-eye Sunglasses (17)',\n",
       " 'Mirrored Aviator Sunglasses (32)',\n",
       " 'UV Protection Wayfarer Sunglasses (Free Size)',\n",
       " 'UV Protection Aviator Sunglasses (58)',\n",
       " 'Night Vision, UV Protection Round Sunglasses (54)',\n",
       " 'UV Protection, Polarized, Mirrored Wayfarer Sunglasses ...',\n",
       " 'UV Protection, Riding Glasses Retro Square, Spectacle ...',\n",
       " 'UV Protection Round Sunglasses (Free Size)',\n",
       " 'UV Protection Butterfly Sunglasses (60)',\n",
       " 'UV Protection Cat-eye Sunglasses (17)',\n",
       " 'UV Protection Over-sized Sunglasses (57)',\n",
       " 'UV Protection, Gradient Butterfly, Over-sized Sunglasse...',\n",
       " 'Mirrored, Riding Glasses, Others Sports Sunglasses (50)',\n",
       " 'UV Protection, Mirrored Sports Sunglasses (Free Size)',\n",
       " 'UV Protection, Mirrored Retro Square Sunglasses (53)',\n",
       " 'UV Protection Wayfarer Sunglasses (55)',\n",
       " 'Polarized Aviator Sunglasses (Free Size)',\n",
       " 'UV Protection Rectangular Sunglasses (58)',\n",
       " 'UV Protection, Gradient Rectangular Sunglasses (Free Si...',\n",
       " 'by Lenskart Polarized, UV Protection Cat-eye Sunglasses...',\n",
       " 'UV Protection, Gradient, Mirrored, Riding Glasses Aviat...',\n",
       " 'Mirrored, UV Protection Aviator Sunglasses (56)',\n",
       " 'Polarized Round Sunglasses (48)',\n",
       " 'by Lenskart Polarized, UV Protection Round Sunglasses (...',\n",
       " 'UV Protection Wayfarer Sunglasses (Free Size)',\n",
       " 'UV Protection Round Sunglasses (Free Size)',\n",
       " 'UV Protection, Gradient Retro Square Sunglasses (58)',\n",
       " 'Polarized, UV Protection Round Sunglasses (52)']"
      ]
     },
     "execution_count": 42,
     "metadata": {},
     "output_type": "execute_result"
    }
   ],
   "source": [
    "prdct_tag2=driver.find_elements_by_xpath('//a[@class=\"IRpwTa\"]')\n",
    "product2=[]\n",
    "for i in prdct_tag2:\n",
    "    product2.append(i.text)\n",
    "product2    "
   ]
  },
  {
   "cell_type": "code",
   "execution_count": 30,
   "id": "53587776",
   "metadata": {},
   "outputs": [
    {
     "data": {
      "text/plain": [
       "['₹213',\n",
       " '₹239',\n",
       " '₹159',\n",
       " '₹175',\n",
       " '₹329',\n",
       " '₹131',\n",
       " '₹239',\n",
       " '₹175',\n",
       " '₹126',\n",
       " '₹424',\n",
       " '₹278',\n",
       " '₹200',\n",
       " '₹133',\n",
       " '₹208',\n",
       " '₹249',\n",
       " '₹249',\n",
       " '₹125',\n",
       " '₹234',\n",
       " '₹277',\n",
       " '₹709',\n",
       " '₹299',\n",
       " '₹325',\n",
       " '₹226',\n",
       " '₹175',\n",
       " '₹192',\n",
       " '₹329',\n",
       " '₹149',\n",
       " '₹749',\n",
       " '₹149',\n",
       " '₹929',\n",
       " '₹859',\n",
       " '₹281',\n",
       " '₹144',\n",
       " '₹325',\n",
       " '₹325',\n",
       " '₹709',\n",
       " '₹869',\n",
       " '₹959',\n",
       " '₹149',\n",
       " '₹275']"
      ]
     },
     "execution_count": 30,
     "metadata": {},
     "output_type": "execute_result"
    }
   ],
   "source": [
    "price_tag2=driver.find_elements_by_xpath('//div[@class=\"_30jeq3\"]')\n",
    "prce2=[]\n",
    "for i in price_tag2:\n",
    "    prce2.append(i.text)\n",
    "prce2    "
   ]
  },
  {
   "cell_type": "code",
   "execution_count": 43,
   "id": "b049e5ca",
   "metadata": {},
   "outputs": [
    {
     "data": {
      "text/plain": [
       "['85% off',\n",
       " '80% off',\n",
       " '86% off',\n",
       " '89% off',\n",
       " '91% off',\n",
       " '91% off',\n",
       " '90% off',\n",
       " '89% off',\n",
       " '84% off',\n",
       " '74% off',\n",
       " '83% off',\n",
       " '87% off',\n",
       " '61% off',\n",
       " '90% off',\n",
       " '70% off',\n",
       " '88% off',\n",
       " '85% off',\n",
       " '84% off',\n",
       " '74% off',\n",
       " '85% off',\n",
       " '87% off',\n",
       " '61% off',\n",
       " '62% off',\n",
       " '75% off',\n",
       " '90% off',\n",
       " '91% off',\n",
       " '86% off',\n",
       " '89% off',\n",
       " '20% off',\n",
       " '71% off',\n",
       " '82% off',\n",
       " '52% off',\n",
       " '84% off',\n",
       " '86% off',\n",
       " '76% off',\n",
       " '52% off',\n",
       " '21% off',\n",
       " '86% off',\n",
       " '73% off',\n",
       " '64% off']"
      ]
     },
     "execution_count": 43,
     "metadata": {},
     "output_type": "execute_result"
    }
   ],
   "source": [
    "dcnt_tag2=driver.find_elements_by_xpath('//div[@class=\"_3Ay6Sb\"]')\n",
    "discnt2=[]\n",
    "for i in dcnt_tag2:\n",
    "    discnt2.append(i.text)\n",
    "discnt2    "
   ]
  },
  {
   "cell_type": "code",
   "execution_count": 44,
   "id": "53af2b2e",
   "metadata": {},
   "outputs": [
    {
     "data": {
      "text/plain": [
       "(40, 40, 40, 40)"
      ]
     },
     "execution_count": 44,
     "metadata": {},
     "output_type": "execute_result"
    }
   ],
   "source": [
    "len(brand2),len(product2),len(prce2),len(discnt2)"
   ]
  },
  {
   "cell_type": "code",
   "execution_count": 46,
   "id": "1192fd0d",
   "metadata": {},
   "outputs": [],
   "source": [
    "next_btn_tag2=driver.find_element_by_xpath('/html/body/div[1]/div/div[3]/div[1]/div[2]/div[12]/div/div/nav/a[12]')\n",
    "next_btn_tag2.click()"
   ]
  },
  {
   "cell_type": "code",
   "execution_count": 48,
   "id": "03240ad7",
   "metadata": {},
   "outputs": [
    {
     "data": {
      "text/plain": [
       "['IDEE',\n",
       " 'SUNBEE',\n",
       " 'hipe',\n",
       " 'PIRASO',\n",
       " 'Elligator',\n",
       " 'PHENOMENAL',\n",
       " 'Silver Kartz',\n",
       " 'PIRASO',\n",
       " 'Rich Club',\n",
       " 'Fastrack',\n",
       " 'elegante',\n",
       " 'VINCENT CHASE',\n",
       " 'Fastrack',\n",
       " 'Poloport',\n",
       " 'Elligator',\n",
       " 'VINCENT CHASE',\n",
       " 'GANSTA',\n",
       " 'Fastrack',\n",
       " 'kingsunglasses',\n",
       " 'VINCENT CHASE']"
      ]
     },
     "execution_count": 48,
     "metadata": {},
     "output_type": "execute_result"
    }
   ],
   "source": [
    "brand_tag3=driver.find_elements_by_xpath('//div[@class=\"_2WkVRV\"]')\n",
    "brand3=[]\n",
    "for i in brand_tag3:\n",
    "    brand3.append(i.text)\n",
    "brand3[0:20]  "
   ]
  },
  {
   "cell_type": "code",
   "execution_count": 49,
   "id": "60a1cfeb",
   "metadata": {},
   "outputs": [
    {
     "data": {
      "text/plain": [
       "['UV Protection Aviator Sunglasses (18)',\n",
       " 'UV Protection, Polarized, Mirrored Retro Square Sunglas...',\n",
       " 'Mirrored, UV Protection, Gradient Round Sunglasses (55)',\n",
       " 'UV Protection Aviator Sunglasses (58)',\n",
       " 'Mirrored Round Sunglasses (53)',\n",
       " 'UV Protection, Mirrored Clubmaster Sunglasses (Free Siz...',\n",
       " 'UV Protection Oval Sunglasses (56)',\n",
       " 'UV Protection Aviator Sunglasses (54)',\n",
       " 'UV Protection, Polarized Oval, Retro Square Sunglasses ...',\n",
       " 'UV Protection Wayfarer Sunglasses (Free Size)',\n",
       " 'UV Protection Over-sized Sunglasses (Free Size)',\n",
       " 'by Lenskart Polarized, UV Protection Round Sunglasses (...',\n",
       " 'UV Protection Aviator Sunglasses (Free Size)',\n",
       " 'UV Protection Wayfarer Sunglasses (Free Size)',\n",
       " 'UV Protection Retro Square, Round Sunglasses (54)',\n",
       " 'by Lenskart Polarized, UV Protection Round Sunglasses (...',\n",
       " 'Night Vision, Riding Glasses Wayfarer Sunglasses (53)',\n",
       " 'Gradient, UV Protection Wayfarer Sunglasses (Free Size)',\n",
       " 'Mirrored, UV Protection Wayfarer Sunglasses (53)',\n",
       " 'by Lenskart Polarized, UV Protection Rectangular Sungla...']"
      ]
     },
     "execution_count": 49,
     "metadata": {},
     "output_type": "execute_result"
    }
   ],
   "source": [
    "prdct_tag3=driver.find_elements_by_xpath('//a[@class=\"IRpwTa\"]')\n",
    "product3=[]\n",
    "for i in prdct_tag3:\n",
    "    product3.append(i.text)\n",
    "product3[0:20]    "
   ]
  },
  {
   "cell_type": "code",
   "execution_count": 50,
   "id": "08832222",
   "metadata": {},
   "outputs": [
    {
     "data": {
      "text/plain": [
       "['₹929',\n",
       " '₹180',\n",
       " '₹139',\n",
       " '₹299',\n",
       " '₹229',\n",
       " '₹257',\n",
       " '₹219',\n",
       " '₹175',\n",
       " '₹129',\n",
       " '₹759',\n",
       " '₹349',\n",
       " '₹949',\n",
       " '₹699',\n",
       " '₹186',\n",
       " '₹261',\n",
       " '₹949',\n",
       " '₹148',\n",
       " '₹649',\n",
       " '₹208',\n",
       " '₹669']"
      ]
     },
     "execution_count": 50,
     "metadata": {},
     "output_type": "execute_result"
    }
   ],
   "source": [
    "price_tag3=driver.find_elements_by_xpath('//div[@class=\"_30jeq3\"]')\n",
    "prce3=[]\n",
    "for i in price_tag3:\n",
    "    prce3.append(i.text)\n",
    "prce3[0:20]    "
   ]
  },
  {
   "cell_type": "code",
   "execution_count": 51,
   "id": "164afb54",
   "metadata": {},
   "outputs": [
    {
     "data": {
      "text/plain": [
       "['62% off',\n",
       " '86% off',\n",
       " '90% off',\n",
       " '88% off',\n",
       " '90% off',\n",
       " '87% off',\n",
       " '81% off',\n",
       " '89% off',\n",
       " '74% off',\n",
       " '15% off',\n",
       " '76% off',\n",
       " '52% off',\n",
       " '12% off',\n",
       " '90% off',\n",
       " '86% off',\n",
       " '52% off',\n",
       " '91% off',\n",
       " '35% off',\n",
       " '89% off',\n",
       " '66% off']"
      ]
     },
     "execution_count": 51,
     "metadata": {},
     "output_type": "execute_result"
    }
   ],
   "source": [
    "dcnt_tag3=driver.find_elements_by_xpath('//div[@class=\"_3Ay6Sb\"]')\n",
    "discnt3=[]\n",
    "for i in dcnt_tag3:\n",
    "    discnt3.append(i.text)\n",
    "discnt3[:20]   "
   ]
  },
  {
   "cell_type": "code",
   "execution_count": 52,
   "id": "e2ee8788",
   "metadata": {},
   "outputs": [
    {
     "data": {
      "text/plain": [
       "(40, 40, 40, 40)"
      ]
     },
     "execution_count": 52,
     "metadata": {},
     "output_type": "execute_result"
    }
   ],
   "source": [
    "len(brand3),len(product3),len(prce3),len(discnt3)"
   ]
  },
  {
   "cell_type": "code",
   "execution_count": 44,
   "id": "3fcc6338",
   "metadata": {},
   "outputs": [
    {
     "ename": "NameError",
     "evalue": "name 'brand' is not defined",
     "output_type": "error",
     "traceback": [
      "\u001b[1;31m---------------------------------------------------------------------------\u001b[0m",
      "\u001b[1;31mNameError\u001b[0m                                 Traceback (most recent call last)",
      "\u001b[1;32m~\\AppData\\Local\\Temp/ipykernel_8864/2771226926.py\u001b[0m in \u001b[0;36m<module>\u001b[1;34m\u001b[0m\n\u001b[0;32m      1\u001b[0m \u001b[0msunglass_details\u001b[0m\u001b[1;33m=\u001b[0m\u001b[0mpd\u001b[0m\u001b[1;33m.\u001b[0m\u001b[0mDataFrame\u001b[0m\u001b[1;33m(\u001b[0m\u001b[1;33m)\u001b[0m\u001b[1;33m\u001b[0m\u001b[1;33m\u001b[0m\u001b[0m\n\u001b[1;32m----> 2\u001b[1;33m \u001b[0msunglass_details\u001b[0m\u001b[1;33m[\u001b[0m\u001b[1;34m'Brand name'\u001b[0m\u001b[1;33m]\u001b[0m\u001b[1;33m=\u001b[0m\u001b[0mbrand\u001b[0m\u001b[1;33m,\u001b[0m\u001b[0mbrand2\u001b[0m\u001b[1;33m,\u001b[0m\u001b[0mbrand3\u001b[0m\u001b[1;33m\u001b[0m\u001b[1;33m\u001b[0m\u001b[0m\n\u001b[0m\u001b[0;32m      3\u001b[0m \u001b[0msunglass_details\u001b[0m\u001b[1;33m[\u001b[0m\u001b[1;34m'Productdetails'\u001b[0m\u001b[1;33m]\u001b[0m\u001b[1;33m=\u001b[0m\u001b[0mproduct\u001b[0m\u001b[1;33m,\u001b[0m\u001b[0mproduct2\u001b[0m\u001b[1;33m,\u001b[0m\u001b[0mproduct2\u001b[0m\u001b[1;33m\u001b[0m\u001b[1;33m\u001b[0m\u001b[0m\n\u001b[0;32m      4\u001b[0m \u001b[0msunglass_details\u001b[0m\u001b[1;33m[\u001b[0m\u001b[1;34m'Price'\u001b[0m\u001b[1;33m]\u001b[0m\u001b[1;33m=\u001b[0m\u001b[0mprce\u001b[0m\u001b[1;33m,\u001b[0m\u001b[0mprce2\u001b[0m\u001b[1;33m,\u001b[0m\u001b[0mprce3\u001b[0m\u001b[1;33m\u001b[0m\u001b[1;33m\u001b[0m\u001b[0m\n\u001b[0;32m      5\u001b[0m \u001b[0msunglass_details\u001b[0m\u001b[1;33m[\u001b[0m\u001b[1;34m'Discount'\u001b[0m\u001b[1;33m]\u001b[0m\u001b[1;33m=\u001b[0m\u001b[0mdiscnt\u001b[0m\u001b[1;33m,\u001b[0m\u001b[0mdiscnt2\u001b[0m\u001b[1;33m,\u001b[0m\u001b[0mdiscnt3\u001b[0m\u001b[1;33m\u001b[0m\u001b[1;33m\u001b[0m\u001b[0m\n",
      "\u001b[1;31mNameError\u001b[0m: name 'brand' is not defined"
     ]
    }
   ],
   "source": [
    "sunglass_details=pd.DataFrame()\n",
    "sunglass_details['Brand name']=brand,brand2,brand3\n",
    "sunglass_details['Productdetails']=product,product2,product2\n",
    "sunglass_details['Price']=prce,prce2,prce3\n",
    "sunglass_details['Discount']=discnt,discnt2,discnt3\n",
    "sunglass_details"
   ]
  },
  {
   "cell_type": "markdown",
   "id": "d3f4cd2c",
   "metadata": {},
   "source": [
    "Q5: Scrape 100 reviews data from flipkart.com for iphone11 phone. You have to go the link: https://www.flipkart.com/apple-iphone-11-black-64-gb-includes- earpods-power- adapter/p/itm0f37c2240b217?pid=MOBFKCTSVZAXUHGR&lid=LSTMOBFKC TSVZAXUHGREPBFGI&marketplace.\n",
    "When you will open the above link you will reach to the below shown webpage ."
   ]
  },
  {
   "cell_type": "code",
   "execution_count": 56,
   "id": "72d4bf54",
   "metadata": {},
   "outputs": [],
   "source": [
    "url='https://www.flipkart.com/apple-iphone-11-black-64-gb-includes- earpods-power- adapter/p/itm0f37c2240b217?pid=MOBFKCTSVZAXUHGR&lid=LSTMOBFKC TSVZAXUHGREPBFGI&marketplace'"
   ]
  },
  {
   "cell_type": "code",
   "execution_count": 58,
   "id": "cc883667",
   "metadata": {},
   "outputs": [],
   "source": [
    "driver.get(url)"
   ]
  },
  {
   "cell_type": "code",
   "execution_count": 59,
   "id": "e8868a76",
   "metadata": {},
   "outputs": [
    {
     "data": {
      "text/plain": [
       "<selenium.webdriver.remote.webelement.WebElement (session=\"e00ae789f7ede157488213944b3930f1\", element=\"79c5d60f-cc48-4aa5-ba04-83f86c3a79d4\")>"
      ]
     },
     "execution_count": 59,
     "metadata": {},
     "output_type": "execute_result"
    }
   ],
   "source": [
    "seeall_rvw=driver.find_element_by_xpath('/html/body/div[1]/div/div[3]/div[1]/div[2]/div[8]/div/div/div[5]/div/a/div/span')\n",
    "seeall_rvw\n"
   ]
  },
  {
   "cell_type": "code",
   "execution_count": 61,
   "id": "63c2208c",
   "metadata": {},
   "outputs": [],
   "source": [
    "seeall_rvw.click()"
   ]
  },
  {
   "cell_type": "code",
   "execution_count": 65,
   "id": "4b5f1acf",
   "metadata": {},
   "outputs": [
    {
     "data": {
      "text/plain": [
       "['5', '5', '5', '5', '5', '5', '5', '4', '5', '5']"
      ]
     },
     "execution_count": 65,
     "metadata": {},
     "output_type": "execute_result"
    }
   ],
   "source": [
    "ratng=driver.find_elements_by_xpath('//div[@class=\"_3LWZlK _1BLPMq\"]')\n",
    "rating=[]\n",
    "for i in ratng:\n",
    "    rating.append(i.text)\n",
    "rating    "
   ]
  },
  {
   "cell_type": "code",
   "execution_count": 66,
   "id": "2915131a",
   "metadata": {},
   "outputs": [
    {
     "data": {
      "text/plain": [
       "['Brilliant',\n",
       " 'Simply awesome',\n",
       " 'Best in the market!',\n",
       " 'Perfect product!',\n",
       " 'Fabulous!',\n",
       " 'Worth every penny',\n",
       " 'Great product',\n",
       " 'Good choice',\n",
       " 'Worth every penny',\n",
       " 'Highly recommended']"
      ]
     },
     "execution_count": 66,
     "metadata": {},
     "output_type": "execute_result"
    }
   ],
   "source": [
    "rvwsummry=driver.find_elements_by_xpath('//p[@class=\"_2-N8zT\"]')\n",
    "review_sum=[]\n",
    "for i in rvwsummry:\n",
    "    review_sum.append(i.text)\n",
    "review_sum    "
   ]
  },
  {
   "cell_type": "code",
   "execution_count": 67,
   "id": "636212e2",
   "metadata": {},
   "outputs": [
    {
     "data": {
      "text/plain": [
       "['The Best Phone for the Money\\n\\nThe iPhone 11 offers superb cameras, a more durable design and excellent battery life for an affordable price.\\n\\nCompelling ultra-wide camera\\nNew Night mode is excellent\\nLong battery life',\n",
       " 'Really satisfied with the Product I received... It’s totally genuine and the packaging was also really good so if ur planning to buy just go for it.',\n",
       " 'Great iPhone very snappy experience as apple kind. Upgraded from iPhone 7.\\nPros\\n-Camera top class\\n- Battery top performed\\n-Chipset no need to say as apple kind\\n-Security as you expect from apple\\n- Display super bright industry leading colour\\naccuracy and super responsive\\n-Build quality as expect from apple sturdy\\npremium durable beautiful stylish.\\n-Os most stable os in smartphone industry\\n\\nCons\\n-No 5G\\n-Display is not based on OLED technology\\n-Charger headphones and 1 apple stic...\\nREAD MORE',\n",
       " 'Amazing phone with great cameras and better battery which gives you the best performance. I just love the camera .',\n",
       " 'This is my first iOS phone. I am very happy with this product. Very much satisfied with this. I love this phone.',\n",
       " 'Previously I was using one plus 3t it was a great phone\\nAnd then I decided to upgrade I am stuck between Samsung s10 plus or iPhone 11\\nI have seen the specs and everything were good except the display it’s somewhere between 720-1080 and it’s not even an amoled it’s an LCD display\\nBut I decided to go with iPhone because I have never used an IOS device I have Been an android user from the past 9 years I ordered IPhone 11 (128gb) product red\\nMy experience after using 3 weeks\\n1. The delivery ...\\nREAD MORE',\n",
       " 'Amazing Powerful and Durable Gadget.\\n\\nI’m am very happy with the camera picture quality, Amazing face id unlocked in dark room, Strong battery with perfect screen size as you can carry easily in pocket. This is my third iPhone.\\n\\nI shifted from android Samsung Note series to iPhone because of the strong build quality and peace of mind for next 3-4 years.\\n\\nDon’t think to much just go for it and I suggest you to go for minimum 128gb variant or more 256gb.\\n\\nI’ve attached my puppy pics and no fi...\\nREAD MORE',\n",
       " 'So far it’s been an AMAZING experience coming back to iOS after nearly a decade but it’s not as versatile as android though phone is sturdy dropped it accidentally a couple of times and nothing happened fortunately camera is awesome',\n",
       " 'i11 is worthy to buy, too much happy with the product. Thank u flipkart I received the item on time..loved it..',\n",
       " 'What a camera .....just awesome ..you can feel this iPhone just awesome . Good for gaming also ...try pubg in hd it’s just wow']"
      ]
     },
     "execution_count": 67,
     "metadata": {},
     "output_type": "execute_result"
    }
   ],
   "source": [
    "full_rvw=driver.find_elements_by_xpath('//div[@class=\"t-ZTKy\"]')\n",
    "fullreview=[]\n",
    "for i in full_rvw:\n",
    "    fullreview.append(i.text)\n",
    "fullreview    "
   ]
  },
  {
   "cell_type": "markdown",
   "id": "5218a782",
   "metadata": {},
   "source": [
    "Q6: Scrape data for first 100 sneakers you find when you visit flipkart.com andsearch for “sneakers” in the search field.\n",
    "You have to scrape 4 attributes of each sneaker:\n",
    "1. Brand\n",
    "2. Product Description\n",
    "3. Price"
   ]
  },
  {
   "cell_type": "code",
   "execution_count": 76,
   "id": "17e0d0ae",
   "metadata": {},
   "outputs": [],
   "source": [
    "url2='https://www.flipkart.com/'"
   ]
  },
  {
   "cell_type": "code",
   "execution_count": 83,
   "id": "4c9aada0",
   "metadata": {},
   "outputs": [],
   "source": [
    "driver.get(url2)"
   ]
  },
  {
   "cell_type": "code",
   "execution_count": 84,
   "id": "90cad587",
   "metadata": {},
   "outputs": [],
   "source": [
    "search=driver.find_element_by_xpath('/html/body/div[1]/div/div[1]/div[1]/div[2]/div[2]/form/div/div/input')\n",
    "search.send_keys(\"sneakers\")"
   ]
  },
  {
   "cell_type": "code",
   "execution_count": 86,
   "id": "a8f50df5",
   "metadata": {},
   "outputs": [],
   "source": [
    "search_btn=driver.find_element_by_xpath('/html/body/div/div/div[1]/div[1]/div[2]/div[2]/form/div/button')\n",
    "search_btn.click()"
   ]
  },
  {
   "cell_type": "code",
   "execution_count": 87,
   "id": "438a772d",
   "metadata": {},
   "outputs": [
    {
     "data": {
      "text/plain": [
       "['BAUCHHAAR',\n",
       " 'HOTSTYLE',\n",
       " 'Magnolia',\n",
       " 'Chevit',\n",
       " 'DUNKASTON',\n",
       " 'BRUTON',\n",
       " 'World Wear Footwear',\n",
       " 'KWIK FIT',\n",
       " 'KWIK FIT',\n",
       " 'corsac',\n",
       " 'URBANBOX',\n",
       " 'RapidBox',\n",
       " 'D-SNEAKERZ',\n",
       " 'TR',\n",
       " 'World Wear Footwear',\n",
       " 'Echor',\n",
       " 'Kraasa',\n",
       " 'BRUTON',\n",
       " 'Shoes Bank',\n",
       " 'RapidBox',\n",
       " 'BRUTON',\n",
       " 'Magnolia',\n",
       " 'BRUTON',\n",
       " 'HOTSTYLE',\n",
       " 'Labbin',\n",
       " 'RapidBox',\n",
       " 'BRUTON',\n",
       " 'HIGHLANDER',\n",
       " 'aadi',\n",
       " 'BRUTON',\n",
       " 'luxury fashion',\n",
       " 'PUMA',\n",
       " 'SCATCHITE',\n",
       " 'India hub',\n",
       " 'CLYMB',\n",
       " 'HIGHLANDER',\n",
       " 'Kraasa',\n",
       " 'Rzisbo',\n",
       " 'Magnolia',\n",
       " 'HIGHLANDER']"
      ]
     },
     "execution_count": 87,
     "metadata": {},
     "output_type": "execute_result"
    }
   ],
   "source": [
    "brnd=driver.find_elements_by_xpath('//div[@class=\"_2WkVRV\"]')\n",
    "brnds=[]\n",
    "for i in brnd:\n",
    "    brnds.append(i.text)\n",
    "brnds    "
   ]
  },
  {
   "cell_type": "code",
   "execution_count": 88,
   "id": "cd765b8c",
   "metadata": {},
   "outputs": [
    {
     "data": {
      "text/plain": [
       "['sports shoes for men | Latest Stylish Casual sneakers f...',\n",
       " 'CR-1 Sneakers For Men',\n",
       " 'Sneakers For Men',\n",
       " 'Super Stylish & Trendy Combo Pack of 02 Pairs Sneakers ...',\n",
       " 'Sneakers For Men',\n",
       " 'Modern Trendy Sneakers Shoes Sneakers For Men',\n",
       " '5011-Latest Collection Stylish Casual Loafer Sneakers S...',\n",
       " 'Kwik FIT casual sneaker shoes and partywear shoes Casua...',\n",
       " 'Kwik FIT casual sneaker shoes and partywear shoes Casua...',\n",
       " 'STYLISH MENS BLACK AND WHITE SNEAKER Sneakers For Men',\n",
       " \"Casual , Partywear Sneakers Shoes For Men's And Boys Wh...\",\n",
       " 'Sneakers For Men',\n",
       " 'Sneakers For Men',\n",
       " \"Echor Men's Sneakers Fashion Lightweight Running Shoes ...\",\n",
       " 'Series 7 Sneakers For Men',\n",
       " 'Sneaker Sneakers For Men',\n",
       " \"White Sneaker For Men's/Boy's Sneakers For Men\",\n",
       " 'Modern & Trendy Collection Combo Pack of 02 Shoes for M...',\n",
       " 'Sneakers For Men',\n",
       " 'Modern & Trendy Collection Combo Pack of 02 Shoes for M...',\n",
       " 'CR-1 Sneakers For Men',\n",
       " 'Sneakers For Men',\n",
       " 'Lattest Sneakers Shoe Sneakers For Men',\n",
       " 'Sneakers For Men',\n",
       " 'Sneakers For Men',\n",
       " 'Combo Pack Of 2 Latest Stylish Casual Shoes for Men Lac...',\n",
       " 'Luxury Fashionable casual sneaker shoes Sneakers For Me...',\n",
       " 'Ferrari Electron E Pro Sneakers For Men',\n",
       " 'Sneakers For Men',\n",
       " 'Luxury Fashionable casual sneaker shoes Sneakers For Me...',\n",
       " 'Sneakers For Men',\n",
       " 'Sneakers For Men',\n",
       " 'Shark-41 Sneakers For Men',\n",
       " 'Sneakers For Men',\n",
       " 'Sneakers For Men',\n",
       " 'Sneakers For Men']"
      ]
     },
     "execution_count": 88,
     "metadata": {},
     "output_type": "execute_result"
    }
   ],
   "source": [
    "prodct=driver.find_elements_by_xpath('//a[@class=\"IRpwTa\"]')\n",
    "productinfo=[]\n",
    "for i in prodct:\n",
    "    productinfo.append(i.text)\n",
    "productinfo    "
   ]
  },
  {
   "cell_type": "code",
   "execution_count": 89,
   "id": "8264d8e4",
   "metadata": {},
   "outputs": [
    {
     "data": {
      "text/plain": [
       "['₹399',\n",
       " '₹252',\n",
       " '₹448',\n",
       " '₹649',\n",
       " '₹379',\n",
       " '₹259',\n",
       " '₹199',\n",
       " '₹429',\n",
       " '₹399',\n",
       " '₹449',\n",
       " '₹198',\n",
       " '₹620',\n",
       " '₹299',\n",
       " '₹360',\n",
       " '₹199',\n",
       " '₹499',\n",
       " '₹499',\n",
       " '₹299',\n",
       " '₹298',\n",
       " '₹630',\n",
       " '₹567',\n",
       " '₹448',\n",
       " '₹499',\n",
       " '₹249',\n",
       " '₹499',\n",
       " '₹680',\n",
       " '₹299',\n",
       " '₹995',\n",
       " '₹359',\n",
       " '₹561',\n",
       " '₹449',\n",
       " '₹3,769',\n",
       " '₹379',\n",
       " '₹425',\n",
       " '₹616',\n",
       " '₹995',\n",
       " '₹499',\n",
       " '₹494',\n",
       " '₹448',\n",
       " '₹995']"
      ]
     },
     "execution_count": 89,
     "metadata": {},
     "output_type": "execute_result"
    }
   ],
   "source": [
    "price=driver.find_elements_by_xpath('//div[@class=\"_30jeq3\"]')\n",
    "prices=[]\n",
    "for i in price:\n",
    "    prices.append(i.text)\n",
    "prices    "
   ]
  },
  {
   "cell_type": "code",
   "execution_count": 90,
   "id": "c2236e99",
   "metadata": {},
   "outputs": [
    {
     "data": {
      "text/plain": [
       "['60% off',\n",
       " '49% off',\n",
       " '55% off',\n",
       " '59% off',\n",
       " '75% off',\n",
       " '80% off',\n",
       " '60% off',\n",
       " '79% off',\n",
       " '80% off',\n",
       " '70% off',\n",
       " '80% off',\n",
       " '38% off',\n",
       " '55% off',\n",
       " '64% off',\n",
       " '60% off',\n",
       " '67% off',\n",
       " '50% off',\n",
       " '77% off',\n",
       " '70% off',\n",
       " '37% off',\n",
       " '77% off',\n",
       " '55% off',\n",
       " '80% off',\n",
       " '50% off',\n",
       " '50% off',\n",
       " '32% off',\n",
       " '77% off',\n",
       " '50% off',\n",
       " '64% off',\n",
       " '78% off',\n",
       " '65% off',\n",
       " '42% off',\n",
       " '62% off',\n",
       " '79% off',\n",
       " '59% off',\n",
       " '50% off',\n",
       " '50% off',\n",
       " '51% off',\n",
       " '55% off',\n",
       " '50% off']"
      ]
     },
     "execution_count": 90,
     "metadata": {},
     "output_type": "execute_result"
    }
   ],
   "source": [
    "discnt=driver.find_elements_by_xpath('//div[@class=\"_3Ay6Sb\"]')\n",
    "discount=[]\n",
    "for i in discnt:\n",
    "    discount.append(i.text)\n",
    "discount    "
   ]
  },
  {
   "cell_type": "code",
   "execution_count": null,
   "id": "da954804",
   "metadata": {},
   "outputs": [],
   "source": []
  },
  {
   "cell_type": "code",
   "execution_count": null,
   "id": "8fe893b7",
   "metadata": {},
   "outputs": [],
   "source": [
    "Q7: Go to the link - https://www.myntra.com/shoes\n",
    "Set Price filter to “Rs. 7149 to Rs. 14099 ” , Color filter to “Black”, as shown inthe below image."
   ]
  },
  {
   "cell_type": "code",
   "execution_count": null,
   "id": "77a9fc4d",
   "metadata": {},
   "outputs": [],
   "source": []
  },
  {
   "cell_type": "code",
   "execution_count": null,
   "id": "3f434140",
   "metadata": {},
   "outputs": [],
   "source": []
  },
  {
   "cell_type": "code",
   "execution_count": 91,
   "id": "64857e6f",
   "metadata": {},
   "outputs": [],
   "source": [
    "url3='https://www.myntra.com/shoes'"
   ]
  },
  {
   "cell_type": "code",
   "execution_count": 92,
   "id": "08e50f1d",
   "metadata": {},
   "outputs": [],
   "source": [
    "driver.get(url3)"
   ]
  },
  {
   "cell_type": "code",
   "execution_count": 101,
   "id": "007ff37b",
   "metadata": {},
   "outputs": [],
   "source": [
    "filter1=driver.find_element_by_xpath('/html/body/div[2]/div/div[1]/main/div[3]/div[1]/section/div/div[5]/ul/li[2]/label/div')\n",
    "\n",
    "filter2=driver.find_element_by_xpath('/html/body/div[2]/div/div[1]/main/div[3]/div[1]/section/div/div[6]/ul/li[1]/label/div')\n",
    "filter1.click()\n",
    "filter2.click()"
   ]
  },
  {
   "cell_type": "code",
   "execution_count": 97,
   "id": "7fa66427",
   "metadata": {},
   "outputs": [],
   "source": []
  },
  {
   "cell_type": "code",
   "execution_count": null,
   "id": "bf01842b",
   "metadata": {},
   "outputs": [],
   "source": [
    "productdescription=driver.find_elements_by_xpath('//a[@class=\"IRpwTa\"]')\n",
    "shoe_description=[]\n",
    "for i in productdescription:\n",
    "    shoe_description.append(i.text)\n",
    "shoe_description"
   ]
  },
  {
   "cell_type": "code",
   "execution_count": null,
   "id": "b3008c5f",
   "metadata": {},
   "outputs": [],
   "source": [
    "driver.find_element_by_Xpath('"
   ]
  },
  {
   "cell_type": "code",
   "execution_count": 103,
   "id": "7387ef98",
   "metadata": {},
   "outputs": [
    {
     "data": {
      "text/plain": [
       "['Rs. 9099',\n",
       " 'Rs. 7649',\n",
       " 'Rs. 8499',\n",
       " 'Rs. 7224',\n",
       " 'Rs. 8499',\n",
       " 'Rs. 8499',\n",
       " 'Rs. 9099',\n",
       " 'Rs. 8249',\n",
       " 'Rs. 8579',\n",
       " 'Rs. 8499',\n",
       " 'Rs. 10500',\n",
       " 'Rs. 7739',\n",
       " 'Rs. 8399',\n",
       " 'Rs. 7739',\n",
       " 'Rs. 8399']"
      ]
     },
     "execution_count": 103,
     "metadata": {},
     "output_type": "execute_result"
    }
   ],
   "source": [
    "priceofshoes=driver.find_elements_by_xpath('//span[@class=\"product-discountedPrice\"]')\n",
    "shoes_price=[]\n",
    "for i in priceofshoes:\n",
    "    shoes_price.append(i.text)\n",
    "shoes_price    "
   ]
  },
  {
   "cell_type": "code",
   "execution_count": null,
   "id": "01a84192",
   "metadata": {},
   "outputs": [],
   "source": []
  },
  {
   "cell_type": "code",
   "execution_count": null,
   "id": "56e61895",
   "metadata": {},
   "outputs": [],
   "source": []
  },
  {
   "cell_type": "markdown",
   "id": "86193ac7",
   "metadata": {},
   "source": [
    "Q8: Go to webpage https://www.amazon.in/\n",
    "Enter “Laptop” in the search field and then click the search icon.\n",
    "Then set CPU Type filter to “Intel Core i7” and “Intel Core i9” as shown in the below image:\n",
    "After"
   ]
  },
  {
   "cell_type": "code",
   "execution_count": null,
   "id": "6981e4a5",
   "metadata": {},
   "outputs": [],
   "source": []
  },
  {
   "cell_type": "code",
   "execution_count": null,
   "id": "02d8396f",
   "metadata": {},
   "outputs": [],
   "source": []
  },
  {
   "cell_type": "code",
   "execution_count": 5,
   "id": "ed45ced5",
   "metadata": {},
   "outputs": [],
   "source": [
    "url='https://www.amazon.in/'\n",
    "driver.get(url)"
   ]
  },
  {
   "cell_type": "code",
   "execution_count": 6,
   "id": "23c57662",
   "metadata": {},
   "outputs": [],
   "source": [
    "search_field=driver.find_element_by_xpath('/html/body/div[1]/header/div/div[1]/div[2]/div/form/div[2]/div[1]/input')\n",
    "search_field\n",
    "search_field.send_keys(\"Laptop\")\n",
    "search_btn=driver.find_element_by_xpath('/html/body/div[1]/header/div/div[1]/div[2]/div/form/div[3]/div/span/input')\n",
    "search_btn.click()"
   ]
  },
  {
   "cell_type": "code",
   "execution_count": 7,
   "id": "b40192ee",
   "metadata": {},
   "outputs": [],
   "source": [
    "filter_check=driver.find_element_by_xpath('/html/body/div[1]/div[2]/div[1]/div[2]/div/div[3]/span/div[1]/div/div/div[5]/ul[4]/li[13]/span/a/div/label/i')\n",
    "filter_check.click()\n",
    "\n"
   ]
  },
  {
   "cell_type": "code",
   "execution_count": 20,
   "id": "2a1de2fd",
   "metadata": {},
   "outputs": [
    {
     "data": {
      "text/plain": [
       "['Fujitsu UH-X 11th Gen Intel Core i7 13.3” FHD IPS 400Nits Thin & Light Laptop(16GB/512GB SSD/Windows 11/Office 2021/Iris Xe Graphics/Backlit Kb/Fingerprint Reader/2Yr Warranty/Black/878gms),4ZR1F38024',\n",
       " 'ASUS TUF Gaming F15 (2021), 15.6\" (39.62 cms) FHD 144Hz, Intel Core i7-11600H 11th Gen, 4GB RTX 3050 Graphics, Gaming Laptop (16GB/512GB SSD/Windows 10/Office 2019/Gray/2.3 Kg), FX566HCB-HN299TS',\n",
       " 'ASUS VivoBook 14 (2021), 14-inch (35.56 cms) FHD, Intel Core i7-1065G7 10th Gen, Thin and Light Laptop (16GB/512GB SSD/Integrated Graphics/Office 2021/Windows 11/Silver/1.6 Kg), X415JA-EK701WS',\n",
       " 'Mi Notebook Ultra 3.2K Resolution Display Intel Core i7-11370H 11th Gen 15.6-inch(39.62 cm) Thin and Light Laptop (16GB/512GB SSD/Iris Xe Graphic/Win 10/MS Office/Backlit KB/Fingerprint Sensor/1.7Kg)',\n",
       " 'HP Pavilion x360 11th Gen Intel Core i7 14 inches FHD, IPS, Convertible Laptop (16 GB RAM/512GB SSD, B&O/Win 11 Home/Backlit keyboard/FPR/ Alexa-Built in/MS Office/Natural Silver/1.52 Kg) -14-dy1013TU',\n",
       " 'Microsoft Surface Studio 14.4 inches Touchscreen Intel ® Core i7 Laptop (32GB Memory, Windows 11 Home, 2TB SSD - Platinum, 2.664Kg)',\n",
       " 'Dell 14 (2021) i7-1195G7 2in1 Touch Screen Laptop, 16GB, 512Gb SSD, Win 11 + MSO\\'21, 14\" (35.56 cms) FHD, Platinum Silver Color, FPR + Backlit KB & Active Pen (Inspiron 5410, D560629WIN9S)',\n",
       " 'ASUS TUF Gaming F15 (2021), 15.6\" (39.62 cms) FHD 144Hz, Intel Core i7-11600H 11th Gen, 4GB RTX 3050 Graphics, Gaming Laptop (16GB/512GB SSD/Windows 10/Office 2019/Gray/2.3 Kg), FX566HCB-HN299TS',\n",
       " '(Renewed) Acer Nitro 5 11th Gen Intel Core i5-11400H 15.6\" (39.62cms) FHD 144Hz Gaming Laptop (8 GB/512GB SSD/Win 10/4 GB Graphics/NVIDIA GeForce GTX 1650/Shale Black, 2.2 kg/RGB Backlit Keyboard) AN515-57',\n",
       " 'Lenovo ThinkBook Yoga 14s Intel Core i7 11th Gen 14\"(35.56cm) FHD IPS 300 nits 100% sRGB Dolby Vision 2-in-1 Touchscreen Laptop (16GB RAM/512GB SSD/Windows 10/MS Office/Active Pen/1.50 kg) 20WEA01EIH',\n",
       " '(Renewed) HP Elitebook 840 G4 Notebook PC Intel i7-7500U, 8GB RAM, 256GB SSD, Win10 Pro-64, 14-inch Touch screen Full HD.',\n",
       " 'Lenovo IdeaPad 5 Pro 11th Gen Intel Core i7 14 inches QHD IPS Thin and Light Laptop (16GB/512GB SSD/Iris Xe Graphics/Windows 11/Office 2021/Backlit/300Nits/Storm Grey/1.41Kg), 82L3006YIN',\n",
       " 'Lenovo ThinkBook 13s Intel 11th Gen Core i7 13.3\"(33.78 cm) WQXGA IPS 300 nits 100% sRGB Dolby Vision Thin and Light Laptop (16GB/512GB SSD/Windows 10/MS Office/FPR/Mineral Grey/1.26 Kg), 20V9A05FIH',\n",
       " 'LG Gram 14 inches Ultra-Light Intel Evo 11th Gen Core i7 Laptop (16 GB RAM, 512 GB SSD, New Windows 11 Home Preload, Iris Xe Graphics, USC -C x 2 (with Power), 0.999Kg, (14Z90P-G.AH85A2, Black)',\n",
       " 'Dell G15 5511 Intel i7-11800H Gaming Laptop,16GB DDR4,512GB SSD, Win 11+MSO\\'21, NVIDIA RTX 3060 6GB GDDR6,15.6\" (39.62cm) FHD AG 300 nits 165Hz, Backlit KB RGB, Black (D560670WIN9B), 2.6kg',\n",
       " 'HP Pavilion x360 11th Gen Intel Core i7 14 inches FHD, IPS, Convertible Laptop (16 GB RAM/512GB SSD, B&O/Win 11 Home/Backlit keyboard/FPR/ Alexa-Built in/MS Office/Natural Silver/1.52 Kg) -14-dy1013TU',\n",
       " 'Dell G15 Intel i7-11800H Gaming Laptop, 16GB DDR4, 512GB SSD, Win 10+MSO, NVIDIA RTX 3050 Ti 4GB GDDR6, 15.6\" (39.62cm) FHD AG 250 nits 120Hz, Backlit KB Orange, Grey (G15 5511, D560640WIN9B), 2.6kg',\n",
       " 'Dell 15 (2021) i7-11390H, 16GB, 1TB SSD, Win 11 + MS Office\\'21, NVIDIA MX450 2GB, 15.6\" (39.62 cms) FHD Display, Silver Color, FPR + Backlit KB (Inspiron 5518, D560636WIN9S)',\n",
       " 'HP Pavilion 14, 11th Gen Intel Core i7-16GB RAM/1TB SSD 14 inch(35.6 cm) Laptop/Intel Iris Xe Graphics/Backlit Keyboard/Alexa/B&O Audio/Fast Charge/FPR/Win 11/MS Office, 14-dv1029TU',\n",
       " 'MSI Katana GF66 Gaming, Intel i7-11800H, 15.6\" FHD IPS-Level 144Hz Panel Laptop (16GB/512GB NVMe SSD/Windows 10 Home/Nvidia RTX3050Ti 4GB GDDR6/Black/2.25Kg), 11UD-476IN',\n",
       " 'Dell Inspiron 13 5310 , 13.3 inch QHD (Quad High Definition) Non-Touch Laptop, Slim and Light Laptop - Intel Core i7 Evo, 16GB LPDDR4x RAM, 512GB SSD, Windows 10 - Platinum Silver (Latest Model)',\n",
       " '(Renewed) HP 840g3 Elitebook 14 Inch Screen Laptop (6th Gen Intel Core i7 - 6600u /4 GB/180 GB SSD/Windows 10 Pro), Black',\n",
       " '(Renewed) Dell Intel Core i7 4th Gen 14 Inch(35.56 cms) 1366x768 HD Laptop (8GB RAM/500GB HDD/Windows 10 Pro/MS Office 2019/Intel Integrated HD Graphics 4600/2.1Kg,Silver) Latitude E6440',\n",
       " '(Renewed) Lenovo Intel 5th Gen Core i7 14 Inch(35.56 cms) 1366 x 768 HD Laptop (16GB RAM /1TB SSD/Windows 10 Pro/MS Office/ Intel HD graphics,Black,2.0kg) Lenovo ThinkPad T450',\n",
       " '(Renewed) Life Digital Laptop 15.6-inch (39.62 cms) (Intel Core i7, 8GB RAM, 512GB SSD, Windows 10), ZED AIR CX7',\n",
       " 'Lenovo Yoga Slim 7 11th Gen Intel Core i7 14 inches FHD IPS Touchscreen Fabric Surface Thin and Light Laptop (16GB/1TB SSD/Win 10 Home/Office/Iris Graphics/Fingerprint Reader/Slate Grey/1.33Kg)',\n",
       " '(Renewed) Lenovo Intel 4th Gen Core i7 15.6 Inch(39.62 cms) 1366 x 768 1366 X 768 Laptop (16GB RAM /1TB HDD/Windows 10 Pro/MS Office/ NVIDIA Graphics,Black,2.5kg) Lenovo ThinkPad w540',\n",
       " 'HP Envy x360 Convertible Touchscreen 33.78 cm (13.3-inch) FHD Laptop (11th Gen Intel Core i7-1165G7/16GB/512GB SSD/Win 10 Home/Alexa Built-in/Pale Gold/1.32kg), 13-bd0063TU',\n",
       " 'Acer Predator Helios 300 11th Gen Intel Core i9-11900H 15.6 inches FHD IPS Display Gaming Laptop (16GB/1TB SSD/Windows 11 Home/6GB Graphics/NVIDIA GeForce RTX 3060/300 Hz, Black, 2.3Kg) PH315-54',\n",
       " 'ASUS VivoBook 14 (2021), 14-inch (35.56 cms) FHD, Intel Core i7-1065G7 10th Gen, Thin and Light Laptop (16GB/512GB SSD/Integrated Graphics/Office 2021/Windows 11/Silver/1.6 Kg), X415JA-EK701WS']"
      ]
     },
     "execution_count": 20,
     "metadata": {},
     "output_type": "execute_result"
    }
   ],
   "source": [
    "title=driver.find_elements_by_xpath('//h2[@class=\"a-size-mini a-spacing-none a-color-base s-line-clamp-2\"]')\n",
    "Title=[]\n",
    "for i in title:\n",
    "    Title.append(i.text)\n",
    "Title"
   ]
  },
  {
   "cell_type": "code",
   "execution_count": 24,
   "id": "9ce245fd",
   "metadata": {},
   "outputs": [
    {
     "data": {
      "text/plain": [
       "['38',\n",
       " '3',\n",
       " '21',\n",
       " '904',\n",
       " '76',\n",
       " '44',\n",
       " '2',\n",
       " '3',\n",
       " '38',\n",
       " '9',\n",
       " '3',\n",
       " '47',\n",
       " '84',\n",
       " '76',\n",
       " '9',\n",
       " '1',\n",
       " '131',\n",
       " '7',\n",
       " '6',\n",
       " '4',\n",
       " '19',\n",
       " '27',\n",
       " '21']"
      ]
     },
     "execution_count": 24,
     "metadata": {},
     "output_type": "execute_result"
    }
   ],
   "source": [
    "ratings=driver.find_elements_by_xpath('//div[@class=\"a-row a-size-small\"]')\n",
    "Rating=[]\n",
    "for i in ratings:\n",
    "    Rating.append(i.text)\n",
    "Rating"
   ]
  },
  {
   "cell_type": "code",
   "execution_count": 22,
   "id": "51bf958e",
   "metadata": {},
   "outputs": [
    {
     "data": {
      "text/plain": [
       "['₹83,990',\n",
       " '₹89,490',\n",
       " '₹57,490',\n",
       " '₹77,499',\n",
       " '₹91,800',\n",
       " '₹3,73,999',\n",
       " '₹97,000',\n",
       " '₹89,490',\n",
       " '₹55,992',\n",
       " '₹87,990',\n",
       " '₹39,990',\n",
       " '₹80,900',\n",
       " '₹89,990',\n",
       " '₹81,999',\n",
       " '₹1,25,510',\n",
       " '₹91,800',\n",
       " '₹1,03,900',\n",
       " '₹99,700',\n",
       " '₹93,500',\n",
       " '₹99,999',\n",
       " '₹1,09,299',\n",
       " '₹38,290',\n",
       " '₹35,199',\n",
       " '₹47,199',\n",
       " '₹30,990',\n",
       " '₹1,08,999',\n",
       " '₹46,999',\n",
       " '₹1,10,500',\n",
       " '₹1,39,445',\n",
       " '₹57,490']"
      ]
     },
     "execution_count": 22,
     "metadata": {},
     "output_type": "execute_result"
    }
   ],
   "source": [
    "price=driver.find_elements_by_xpath('//span[@class=\"a-price\"]')\n",
    "Price=[]\n",
    "for i in price:\n",
    "    Price.append(i.text)\n",
    "Price    "
   ]
  },
  {
   "cell_type": "code",
   "execution_count": 25,
   "id": "5166ba5d",
   "metadata": {},
   "outputs": [],
   "source": [
    "clear_filter=driver.find_element_by_xpath('/html/body/div[1]/div[2]/div[1]/div[2]/div/div[3]/span/div[1]/div/div/div[5]/ul[4]/li[1]/span/a/span[2]')\n",
    "clear_filter.click()"
   ]
  },
  {
   "cell_type": "code",
   "execution_count": 26,
   "id": "2b93d63f",
   "metadata": {},
   "outputs": [],
   "source": [
    "filter_check2=driver.find_element_by_xpath('/html/body/div[1]/div[2]/div[1]/div[2]/div/div[3]/span/div[1]/div/div/div[5]/ul[4]/li[12]/span/a/div/label/i')\n",
    "filter_check2.click()"
   ]
  },
  {
   "cell_type": "code",
   "execution_count": 27,
   "id": "dcfd85d4",
   "metadata": {},
   "outputs": [
    {
     "data": {
      "text/plain": [
       "['HP Pavilion 14,11th Gen Intel Core i5 16GB RAM/512GB SSD 14 inch(35.6 cm),FHD IPS Anti-Glare Display/Intel Iris Xe Graphics/Backlit KB/B&O Audio/FPR/Win 11/Thin & Light/1.41kg, 14-dv1001TU',\n",
       " 'HP 15s- Ryzen 5- 8GB RAM/512GB SSD 15.6 inch(39.6cm) FHD,Micro-Edge, Anti-Glare Display (AMD Radeon Graphics/Alexa/Dual Speakers/Fast Charge/Win 11/MS Office), 15s-eq2144au, Natural Silver',\n",
       " 'ASUS ROG Strix Scar 17 (2022), 17.3-inch (43.94 cms) 2K WQHD 240Hz/3ms, Core i9-12900H 12th Gen, RTX 3070 Ti 8GB Graphics, Gaming Laptop (32GB/2TB SSD/Win 11/Office 2021/Black/2.9 Kg), G733ZW-LL105WS',\n",
       " 'ASUS TUF Gaming F15 (2021), 15.6-inch (39.62 cms) FHD 144Hz, Intel Core i9-11900H 11th Gen, RTX 3060 6GB Graphics Gaming Laptop (16GB RAM/1TB SSD/Office 2019/Windows 10/Gray/2.3 kg), FX566HM-HN097TS',\n",
       " 'ASUS TUF Gaming F15 (2021), 15.6-inch (39.62 cms) FHD 240Hz/3ms, Intel Core i9-11900H 11th Gen, RTX 3060 6GB Graphics Gaming Laptop (16GB/1TB SSD/Office 2019/Windows 10/Black/2.3 kg), FX506HM-AZ099TS',\n",
       " 'ASUS ROG Strix SCAR 15 (2022), 15.6-inch (39.62 cms) 2K WQHD 240Hz/3ms, Core i9-12900H 12th Gen, RTX 3080 Ti 16GB Graphics, Gaming Laptop (32GB/1TB SSD/Win 11/Office 2021/Black/2.3 Kg), G533ZX-LN024WS',\n",
       " 'ASUS TUF Gaming F15 (2021), 15.6\" (39.62 cms) FHD 240Hz, Intel Core i9-11900H 11th Gen, GeForce RTX 3060 6GB Graphics, Gaming Laptop(16GB/1TB SSD/Office 2019/Windows 10/Gray/2.3 Kg), FX566HM-AZ096TS',\n",
       " \"Dell 14 (2021) Intel i5-1135G7 14 inches FHD Display Laptop, 8GB, 1TB + 256Gb SSD, Windows 11 + MS Office'21, Integrated Graphics, Dune Color, Backlit KB (Vostro 3400, D552231WIN9D), 1.59Kg\",\n",
       " 'MSI Modern 14, Intel i5-10210U, 14\" FHD IPS-Level 60Hz Panel Laptop (8GB/512GB NVMe SSD/Windows 10 Home/Intel UHD Graphics/Carbon Grey/1.3Kg), B10MW-639IN',\n",
       " 'ASUS ROG Strix Scar 15 (2022), 15.6-inch (39.62 cms) 2K WQHD 240Hz/3ms, Core i9-12900H 12th Gen, RTX 3070 Ti 8GB Graphics, Gaming Laptop (32GB/2TB SSD/Win 11/Office 2021/Black/2.3 Kg), G533ZW-LN106WS',\n",
       " 'HP ZBOOK Power G8/ Intel core i9-11900H 8 Core/32GB DDR4 3200 RAM/1TB PCIe NVMe TLC SSD /15.6” FHD /Nvidia Quadro T1200 Dedicated Graphics 4GB DDR6 /Windows 10 Pro / 3 Year Warranty',\n",
       " '(Renewed) HP Omen 15-dh0139TX Gaming Laptop (9th Gen i9-9880H/16GB/1TB HDD + 512GB SSD/Win 10/8GB NVIDIA RTX 2080 Graphics) & Z3700 Wireless Mouse',\n",
       " 'HP ZBook Power G8/ Intel Core i9-11950H 2.5GHz 8 Core/64GB DDR4/ 2TB PCIe NVMe SSD /15.6” FHD/Nvidia Quadro RTX A2000 Graphics 4GB DDR6/ 1RJ45/ Windows 10 Pro/ 3 Year Warranty from HP',\n",
       " '(Renewed) Dell G7 7500 15.6inch FHD 300 Hz Display Gaming Laptop (10th Gen i9-10885H / 16 GB / 1TB SSD / NVIDIA RTX 2070 8GB Graphics / 1Yr Premium Warranty / Win 10 + MS Office H&S 2019) D560233WIN9B, Black',\n",
       " 'Dell Precision 5550 || i9 -10885H || 16GB || 1TB NVMe || T2000 4 GB || Win 10 Pro (Free Upgrade Win 11Pro) / 15.6 FHD+ / 3 Year ADP',\n",
       " 'MSI Modern 14, Intel i3-1115G4, 14\" FHD IPS-Level 60Hz Panel Laptop (8GB/512GB NVMe SSD/Windows 10 Home/Intel UHD Graphics/Carbon Grey/1.3Kg), B11MOU-862IN',\n",
       " 'MSI GF75 Thin, Intel i5-10300H, 17.3\" FHD IPS-Level 144Hz Panel Laptop (8GB/512GB NVMe SSD/Windows 10 Home/Nvidia GTX1650 4GB GDDR6/Black/2.2Kg), 10SC-095IN']"
      ]
     },
     "execution_count": 27,
     "metadata": {},
     "output_type": "execute_result"
    }
   ],
   "source": [
    "title2=driver.find_elements_by_xpath('//h2[@class=\"a-size-mini a-spacing-none a-color-base s-line-clamp-2\"]')\n",
    "Title2=[]\n",
    "for i in title2:\n",
    "    Title2.append(i.text)\n",
    "Title2\n",
    " "
   ]
  },
  {
   "cell_type": "code",
   "execution_count": 32,
   "id": "8052d756",
   "metadata": {},
   "outputs": [
    {
     "data": {
      "text/plain": [
       "['1,747', '302', '8', '8', '11', '22', '1', '1', '270']"
      ]
     },
     "execution_count": 32,
     "metadata": {},
     "output_type": "execute_result"
    }
   ],
   "source": [
    "ratings2=driver.find_elements_by_xpath('//div[@class=\"a-row a-size-small\"]')\n",
    "Rating2=[]\n",
    "for i in ratings2:\n",
    "    Rating2.append(i.text)\n",
    "Rating2"
   ]
  },
  {
   "cell_type": "code",
   "execution_count": 36,
   "id": "f80419ef",
   "metadata": {},
   "outputs": [
    {
     "data": {
      "text/plain": [
       "['₹67,490',\n",
       " '₹35,990',\n",
       " '₹2,79,135',\n",
       " '₹1,48,990',\n",
       " '₹1,43,990',\n",
       " '₹2,99,990',\n",
       " '₹1,54,879',\n",
       " '₹59,190',\n",
       " '₹47,990',\n",
       " '₹2,64,990',\n",
       " '₹2,32,000',\n",
       " '₹1,38,000',\n",
       " '₹2,93,000',\n",
       " '₹1,72,000',\n",
       " '₹2,25,000',\n",
       " '₹44,490',\n",
       " '₹59,990']"
      ]
     },
     "execution_count": 36,
     "metadata": {},
     "output_type": "execute_result"
    }
   ],
   "source": [
    "price2=driver.find_elements_by_xpath('//span[@class=\"a-price\"]')\n",
    "Price2=[]\n",
    "for i in price2:\n",
    "    Price2.append(i.text)\n",
    "Price2    \n"
   ]
  },
  {
   "cell_type": "code",
   "execution_count": null,
   "id": "0dc4e8a0",
   "metadata": {},
   "outputs": [],
   "source": []
  },
  {
   "cell_type": "code",
   "execution_count": null,
   "id": "b6ed2ee2",
   "metadata": {},
   "outputs": [],
   "source": []
  },
  {
   "cell_type": "code",
   "execution_count": null,
   "id": "95f851ee",
   "metadata": {},
   "outputs": [],
   "source": []
  },
  {
   "cell_type": "code",
   "execution_count": null,
   "id": "8149aabc",
   "metadata": {},
   "outputs": [],
   "source": []
  },
  {
   "cell_type": "markdown",
   "id": "c67a5b2e",
   "metadata": {},
   "source": [
    "Q9: Write a python program to scrape data for first 10 job results for Data Scientist Designation in Noida location. You have to scrape company name, No. of days ago when job was posted, Rating of the company. This task will be done in following steps:\n",
    "1. First get the webpage https://www.ambitionbox.com/"
   ]
  },
  {
   "cell_type": "code",
   "execution_count": 37,
   "id": "30b684bb",
   "metadata": {},
   "outputs": [],
   "source": [
    "url='https://www.ambitionbox.com/'\n",
    "driver.get(url)"
   ]
  },
  {
   "cell_type": "code",
   "execution_count": 47,
   "id": "48c0dffe",
   "metadata": {},
   "outputs": [],
   "source": [
    "job_tag=driver.find_element_by_xpath('/html/body/div[1]/nav/nav/a[6]')\n",
    "job_tag.click()"
   ]
  },
  {
   "cell_type": "code",
   "execution_count": 49,
   "id": "95bb1ee8",
   "metadata": {},
   "outputs": [],
   "source": [
    "search_place=driver.find_element_by_xpath('/html/body/div/div/div/div[2]/div[1]/div/div/div/div/span/input')\n",
    "search_place.send_keys(\"Data Scientist\")\n"
   ]
  },
  {
   "cell_type": "code",
   "execution_count": 50,
   "id": "fb10489c",
   "metadata": {},
   "outputs": [],
   "source": [
    "search_button=driver.find_element_by_xpath('/html/body/div/div/div/div[2]/div[1]/div/div/div/button/span')\n",
    "search_button.click()"
   ]
  },
  {
   "cell_type": "code",
   "execution_count": 54,
   "id": "4f2d8f5e",
   "metadata": {},
   "outputs": [],
   "source": [
    "location=driver.find_element_by_xpath('/html/body/div/div/div/div[2]/div[2]/div[1]/div/div/div/div[2]/div[1]/i')\n",
    "location.click()\n",
    "\n",
    "\n"
   ]
  },
  {
   "cell_type": "code",
   "execution_count": 56,
   "id": "bff0f71e",
   "metadata": {},
   "outputs": [],
   "source": [
    "srch_box=driver.find_element_by_xpath('/html/body/div/div/div/div[2]/div[2]/div[1]/div/div/div/div[2]/div[2]/div/div[2]/input')\n",
    "srch_box.click()"
   ]
  },
  {
   "cell_type": "code",
   "execution_count": 57,
   "id": "afc5bfe1",
   "metadata": {},
   "outputs": [],
   "source": [
    "srch_box.send_keys(\"Noida\")"
   ]
  },
  {
   "cell_type": "code",
   "execution_count": 58,
   "id": "0654a103",
   "metadata": {},
   "outputs": [],
   "source": [
    "slct_noida=driver.find_element_by_xpath('/html/body/div/div/div/div[2]/div[2]/div[1]/div/div/div/div[2]/div[2]/div/div[3]/div[1]/div[1]/div/label')\n",
    "slct_noida.click()"
   ]
  },
  {
   "cell_type": "code",
   "execution_count": 67,
   "id": "bc52ae80",
   "metadata": {},
   "outputs": [
    {
     "data": {
      "text/plain": [
       "['',\n",
       " '',\n",
       " '',\n",
       " '',\n",
       " '',\n",
       " '',\n",
       " '',\n",
       " '',\n",
       " 'Data Scientist with NLP & Python',\n",
       " 'Data Scientist']"
      ]
     },
     "execution_count": 67,
     "metadata": {},
     "output_type": "execute_result"
    }
   ],
   "source": [
    "jobs=driver.find_elements_by_xpath('//a[@class=\"title noclick\"]')\n",
    "job=[]\n",
    "for i in jobs:\n",
    "    job.append(i.text)\n",
    "job\n"
   ]
  },
  {
   "cell_type": "code",
   "execution_count": null,
   "id": "f1a32ac8",
   "metadata": {},
   "outputs": [],
   "source": []
  },
  {
   "cell_type": "code",
   "execution_count": 69,
   "id": "fdfbd3cd",
   "metadata": {},
   "outputs": [
    {
     "data": {
      "text/plain": [
       "['',\n",
       " '',\n",
       " '',\n",
       " '',\n",
       " '',\n",
       " '',\n",
       " '',\n",
       " '',\n",
       " 'RATEGAIN TRAVEL TECHNOLOGIES LIMITED',\n",
       " 'Hanu Software Solutions Pvt Ltd']"
      ]
     },
     "execution_count": 69,
     "metadata": {},
     "output_type": "execute_result"
    }
   ],
   "source": [
    "company_tag=driver.find_elements_by_xpath('//p[@class=\"company body-medium\"]')\n",
    "company_name=[]\n",
    "for i in company_tag:\n",
    "    company_name.append(i.text)\n",
    "company_name\n"
   ]
  },
  {
   "cell_type": "code",
   "execution_count": null,
   "id": "21c0eb36",
   "metadata": {},
   "outputs": [],
   "source": [
    "Jobs_name=pd.DataFrame(jobs_name)\n"
   ]
  },
  {
   "cell_type": "code",
   "execution_count": null,
   "id": "e51993d8",
   "metadata": {},
   "outputs": [],
   "source": []
  },
  {
   "cell_type": "markdown",
   "id": "5ca9659f",
   "metadata": {},
   "source": [
    "Q10: Write a python program to scrape the salary data for Data Scientist designation.\n",
    "You have to scrape Company name, Number of salaries, Average salary, Minsalary, Max Salary. The above task will be, done as shown in the below steps:\n",
    "1. First get the webpage https://www.ambitionbox.com/"
   ]
  },
  {
   "cell_type": "code",
   "execution_count": null,
   "id": "6be104d3",
   "metadata": {},
   "outputs": [],
   "source": []
  },
  {
   "cell_type": "code",
   "execution_count": null,
   "id": "0f4fa42e",
   "metadata": {},
   "outputs": [],
   "source": []
  },
  {
   "cell_type": "code",
   "execution_count": 3,
   "id": "9fb26d0d",
   "metadata": {},
   "outputs": [],
   "source": [
    "url='https://www.ambitionbox.com/'\n",
    "driver.get(url)"
   ]
  },
  {
   "cell_type": "code",
   "execution_count": 4,
   "id": "6f16c1c2",
   "metadata": {},
   "outputs": [],
   "source": [
    "salary_optn=driver.find_element_by_xpath('/html/body/div[1]/nav/nav/a[4]')\n",
    "salary_optn.click()"
   ]
  },
  {
   "cell_type": "code",
   "execution_count": 8,
   "id": "02f66198",
   "metadata": {},
   "outputs": [],
   "source": [
    "search_place2=driver.find_element_by_xpath('/html/body/div/div/div/main/section[1]/div[2]/div[1]/span/input')\n",
    "search_place2.send_keys(\"Data Scientist\")\n"
   ]
  },
  {
   "cell_type": "code",
   "execution_count": 9,
   "id": "c3dd2a0a",
   "metadata": {},
   "outputs": [],
   "source": [
    "click_data=driver.find_element_by_xpath('/html/body/div/div/div/main/section[1]/div[2]/div[1]/span/div/div/div[1]')\n",
    "click_data.click()"
   ]
  },
  {
   "cell_type": "code",
   "execution_count": 25,
   "id": "55f37451",
   "metadata": {},
   "outputs": [
    {
     "data": {
      "text/plain": [
       "['Ab Inbev\\nbased on 28 salaries',\n",
       " 'ZS\\nbased on 15 salaries',\n",
       " 'Optum\\nbased on 25 salaries',\n",
       " 'Fractal Analytics\\nbased on 77 salaries',\n",
       " 'Tiger Analytics\\nbased on 33 salaries',\n",
       " 'UnitedHealth\\nbased on 52 salaries',\n",
       " 'Verizon\\nbased on 14 salaries',\n",
       " 'Ganit Business Solutions\\nbased on 13 salaries',\n",
       " 'Ericsson\\nbased on 43 salaries',\n",
       " 'Deloitte\\nbased on 57 salaries']"
      ]
     },
     "execution_count": 25,
     "metadata": {},
     "output_type": "execute_result"
    }
   ],
   "source": [
    "cmpny_name=driver.find_elements_by_xpath('//div[@class=\"name\"]')\n",
    "company=[]\n",
    "for i in cmpny_name:\n",
    "    company.append(i.text)\n",
    "company"
   ]
  },
  {
   "cell_type": "code",
   "execution_count": 30,
   "id": "a8e54682",
   "metadata": {},
   "outputs": [
    {
     "data": {
      "text/plain": [
       "['Ab Inbev\\nbased on 28 salaries',\n",
       " 'ZS\\nbased on 15 salaries',\n",
       " 'Optum\\nbased on 25 salaries',\n",
       " 'Fractal Analytics\\nbased on 77 salaries',\n",
       " 'Tiger Analytics\\nbased on 33 salaries',\n",
       " 'UnitedHealth\\nbased on 52 salaries',\n",
       " 'Verizon\\nbased on 14 salaries',\n",
       " 'Ganit Business Solutions\\nbased on 13 salaries',\n",
       " 'Ericsson\\nbased on 43 salaries',\n",
       " 'Deloitte\\nbased on 57 salaries']"
      ]
     },
     "execution_count": 30,
     "metadata": {},
     "output_type": "execute_result"
    }
   ],
   "source": [
    "ttl_slry=driver.find_elements_by_xpath('//div[@class=\"name\"]')\n",
    "ttlslry=[]\n",
    "for i in ttl_slry:\n",
    "    ttlslry.append(i.text)\n",
    "ttlslry "
   ]
  },
  {
   "cell_type": "code",
   "execution_count": 34,
   "id": "f578fd22",
   "metadata": {},
   "outputs": [
    {
     "data": {
      "text/plain": [
       "['₹ 26.6L',\n",
       " '₹ 23.3L',\n",
       " '₹ 21.2L',\n",
       " '₹ 21.1L',\n",
       " '₹ 21.1L',\n",
       " '₹ 20.1L',\n",
       " '₹ 19.6L',\n",
       " '₹ 19.4L',\n",
       " '₹ 19.1L',\n",
       " '₹ 18.7L']"
      ]
     },
     "execution_count": 34,
     "metadata": {},
     "output_type": "execute_result"
    }
   ],
   "source": [
    "avg_slry=driver.find_elements_by_xpath('//p[@class=\"averageCtc\"]')\n",
    "avgslry=[]\n",
    "for i in avg_slry:\n",
    "    avgslry.append(i.text)\n",
    "avgslry  "
   ]
  },
  {
   "cell_type": "code",
   "execution_count": 37,
   "id": "f8c0fd8b",
   "metadata": {},
   "outputs": [
    {
     "data": {
      "text/plain": [
       "['₹ 10.4L',\n",
       " '₹ 40.0L',\n",
       " '₹ 13.0L',\n",
       " '₹ 45.0L',\n",
       " '₹ 12.0L',\n",
       " '₹ 30.0L',\n",
       " '₹ 12.5L',\n",
       " '₹ 32.0L',\n",
       " '₹ 7.5L',\n",
       " '₹ 31.0L',\n",
       " '₹ 12.0L',\n",
       " '₹ 30.0L',\n",
       " '₹ 12.0L',\n",
       " '₹ 26.0L',\n",
       " '₹ 8.0L',\n",
       " '₹ 43.0L',\n",
       " '₹ 10.1L',\n",
       " '₹ 32.5L',\n",
       " '₹ 12.0L',\n",
       " '₹ 30.0L']"
      ]
     },
     "execution_count": 37,
     "metadata": {},
     "output_type": "execute_result"
    }
   ],
   "source": [
    "min_slry=driver.find_elements_by_xpath('//div[@class=\"value body-medium\"]')\n",
    "minslry=[]\n",
    "for i in min_slry:\n",
    "    minslry.append(i.text)\n",
    "minslry  "
   ]
  },
  {
   "cell_type": "code",
   "execution_count": 38,
   "id": "a07128f9",
   "metadata": {},
   "outputs": [
    {
     "data": {
      "text/plain": [
       "['₹ 10.4L',\n",
       " '₹ 40.0L',\n",
       " '₹ 13.0L',\n",
       " '₹ 45.0L',\n",
       " '₹ 12.0L',\n",
       " '₹ 30.0L',\n",
       " '₹ 12.5L',\n",
       " '₹ 32.0L',\n",
       " '₹ 7.5L',\n",
       " '₹ 31.0L',\n",
       " '₹ 12.0L',\n",
       " '₹ 30.0L',\n",
       " '₹ 12.0L',\n",
       " '₹ 26.0L',\n",
       " '₹ 8.0L',\n",
       " '₹ 43.0L',\n",
       " '₹ 10.1L',\n",
       " '₹ 32.5L',\n",
       " '₹ 12.0L',\n",
       " '₹ 30.0L']"
      ]
     },
     "execution_count": 38,
     "metadata": {},
     "output_type": "execute_result"
    }
   ],
   "source": [
    "max_slry=driver.find_elements_by_xpath('//div[@class=\"value body-medium\"]')\n",
    "maxslry=[]\n",
    "for i in max_slry:\n",
    "    maxslry.append(i.text)\n",
    "maxslry  "
   ]
  },
  {
   "cell_type": "code",
   "execution_count": 42,
   "id": "8a138078",
   "metadata": {},
   "outputs": [
    {
     "data": {
      "text/plain": [
       "['1 yr exp',\n",
       " '1-4 yrs exp',\n",
       " '2 yrs exp',\n",
       " '3-4 yrs exp',\n",
       " '1-4 yrs exp',\n",
       " '1-2 yrs exp',\n",
       " '2-4 yrs exp',\n",
       " '1-4 yrs exp',\n",
       " '1-4 yrs exp',\n",
       " '1-2 yrs exp']"
      ]
     },
     "execution_count": 42,
     "metadata": {},
     "output_type": "execute_result"
    }
   ],
   "source": [
    "exp_tag=driver.find_elements_by_xpath('//div[@class=\"salaries sbold-list-header\"]')\n",
    "exp=[]\n",
    "for i in exp_tag:\n",
    "    exp.append(i.text.replace(\"Software Engineer\\n . \\n\",\"\"))\n",
    "exp  "
   ]
  },
  {
   "cell_type": "code",
   "execution_count": 43,
   "id": "32181857",
   "metadata": {},
   "outputs": [
    {
     "data": {
      "text/html": [
       "<div>\n",
       "<style scoped>\n",
       "    .dataframe tbody tr th:only-of-type {\n",
       "        vertical-align: middle;\n",
       "    }\n",
       "\n",
       "    .dataframe tbody tr th {\n",
       "        vertical-align: top;\n",
       "    }\n",
       "\n",
       "    .dataframe thead th {\n",
       "        text-align: right;\n",
       "    }\n",
       "</style>\n",
       "<table border=\"1\" class=\"dataframe\">\n",
       "  <thead>\n",
       "    <tr style=\"text-align: right;\">\n",
       "      <th></th>\n",
       "      <th>Job Titles</th>\n",
       "      <th>total salary</th>\n",
       "      <th>average salary</th>\n",
       "      <th>minimum salary</th>\n",
       "      <th>maximum salary</th>\n",
       "      <th>Experience</th>\n",
       "    </tr>\n",
       "  </thead>\n",
       "  <tbody>\n",
       "    <tr>\n",
       "      <th>0</th>\n",
       "      <td>Ab Inbev\\nbased on 28 salaries</td>\n",
       "      <td>Ab Inbev\\nbased on 28 salaries</td>\n",
       "      <td>₹ 26.6L</td>\n",
       "      <td>₹ 10.4L</td>\n",
       "      <td>₹ 10.4L</td>\n",
       "      <td>1 yr exp</td>\n",
       "    </tr>\n",
       "    <tr>\n",
       "      <th>1</th>\n",
       "      <td>ZS\\nbased on 15 salaries</td>\n",
       "      <td>ZS\\nbased on 15 salaries</td>\n",
       "      <td>₹ 23.3L</td>\n",
       "      <td>₹ 40.0L</td>\n",
       "      <td>₹ 40.0L</td>\n",
       "      <td>1-4 yrs exp</td>\n",
       "    </tr>\n",
       "    <tr>\n",
       "      <th>2</th>\n",
       "      <td>Optum\\nbased on 25 salaries</td>\n",
       "      <td>Optum\\nbased on 25 salaries</td>\n",
       "      <td>₹ 21.2L</td>\n",
       "      <td>₹ 13.0L</td>\n",
       "      <td>₹ 13.0L</td>\n",
       "      <td>2 yrs exp</td>\n",
       "    </tr>\n",
       "    <tr>\n",
       "      <th>3</th>\n",
       "      <td>Fractal Analytics\\nbased on 77 salaries</td>\n",
       "      <td>Fractal Analytics\\nbased on 77 salaries</td>\n",
       "      <td>₹ 21.1L</td>\n",
       "      <td>₹ 45.0L</td>\n",
       "      <td>₹ 45.0L</td>\n",
       "      <td>3-4 yrs exp</td>\n",
       "    </tr>\n",
       "    <tr>\n",
       "      <th>4</th>\n",
       "      <td>Tiger Analytics\\nbased on 33 salaries</td>\n",
       "      <td>Tiger Analytics\\nbased on 33 salaries</td>\n",
       "      <td>₹ 21.1L</td>\n",
       "      <td>₹ 12.0L</td>\n",
       "      <td>₹ 12.0L</td>\n",
       "      <td>1-4 yrs exp</td>\n",
       "    </tr>\n",
       "    <tr>\n",
       "      <th>5</th>\n",
       "      <td>UnitedHealth\\nbased on 52 salaries</td>\n",
       "      <td>UnitedHealth\\nbased on 52 salaries</td>\n",
       "      <td>₹ 20.1L</td>\n",
       "      <td>₹ 30.0L</td>\n",
       "      <td>₹ 30.0L</td>\n",
       "      <td>1-2 yrs exp</td>\n",
       "    </tr>\n",
       "    <tr>\n",
       "      <th>6</th>\n",
       "      <td>Verizon\\nbased on 14 salaries</td>\n",
       "      <td>Verizon\\nbased on 14 salaries</td>\n",
       "      <td>₹ 19.6L</td>\n",
       "      <td>₹ 12.5L</td>\n",
       "      <td>₹ 12.5L</td>\n",
       "      <td>2-4 yrs exp</td>\n",
       "    </tr>\n",
       "    <tr>\n",
       "      <th>7</th>\n",
       "      <td>Ganit Business Solutions\\nbased on 13 salaries</td>\n",
       "      <td>Ganit Business Solutions\\nbased on 13 salaries</td>\n",
       "      <td>₹ 19.4L</td>\n",
       "      <td>₹ 32.0L</td>\n",
       "      <td>₹ 32.0L</td>\n",
       "      <td>1-4 yrs exp</td>\n",
       "    </tr>\n",
       "    <tr>\n",
       "      <th>8</th>\n",
       "      <td>Ericsson\\nbased on 43 salaries</td>\n",
       "      <td>Ericsson\\nbased on 43 salaries</td>\n",
       "      <td>₹ 19.1L</td>\n",
       "      <td>₹ 7.5L</td>\n",
       "      <td>₹ 7.5L</td>\n",
       "      <td>1-4 yrs exp</td>\n",
       "    </tr>\n",
       "    <tr>\n",
       "      <th>9</th>\n",
       "      <td>Deloitte\\nbased on 57 salaries</td>\n",
       "      <td>Deloitte\\nbased on 57 salaries</td>\n",
       "      <td>₹ 18.7L</td>\n",
       "      <td>₹ 31.0L</td>\n",
       "      <td>₹ 31.0L</td>\n",
       "      <td>1-2 yrs exp</td>\n",
       "    </tr>\n",
       "  </tbody>\n",
       "</table>\n",
       "</div>"
      ],
      "text/plain": [
       "                                       Job Titles  \\\n",
       "0                  Ab Inbev\\nbased on 28 salaries   \n",
       "1                        ZS\\nbased on 15 salaries   \n",
       "2                     Optum\\nbased on 25 salaries   \n",
       "3         Fractal Analytics\\nbased on 77 salaries   \n",
       "4           Tiger Analytics\\nbased on 33 salaries   \n",
       "5              UnitedHealth\\nbased on 52 salaries   \n",
       "6                   Verizon\\nbased on 14 salaries   \n",
       "7  Ganit Business Solutions\\nbased on 13 salaries   \n",
       "8                  Ericsson\\nbased on 43 salaries   \n",
       "9                  Deloitte\\nbased on 57 salaries   \n",
       "\n",
       "                                     total salary average salary  \\\n",
       "0                  Ab Inbev\\nbased on 28 salaries        ₹ 26.6L   \n",
       "1                        ZS\\nbased on 15 salaries        ₹ 23.3L   \n",
       "2                     Optum\\nbased on 25 salaries        ₹ 21.2L   \n",
       "3         Fractal Analytics\\nbased on 77 salaries        ₹ 21.1L   \n",
       "4           Tiger Analytics\\nbased on 33 salaries        ₹ 21.1L   \n",
       "5              UnitedHealth\\nbased on 52 salaries        ₹ 20.1L   \n",
       "6                   Verizon\\nbased on 14 salaries        ₹ 19.6L   \n",
       "7  Ganit Business Solutions\\nbased on 13 salaries        ₹ 19.4L   \n",
       "8                  Ericsson\\nbased on 43 salaries        ₹ 19.1L   \n",
       "9                  Deloitte\\nbased on 57 salaries        ₹ 18.7L   \n",
       "\n",
       "  minimum salary maximum salary   Experience  \n",
       "0        ₹ 10.4L        ₹ 10.4L     1 yr exp  \n",
       "1        ₹ 40.0L        ₹ 40.0L  1-4 yrs exp  \n",
       "2        ₹ 13.0L        ₹ 13.0L    2 yrs exp  \n",
       "3        ₹ 45.0L        ₹ 45.0L  3-4 yrs exp  \n",
       "4        ₹ 12.0L        ₹ 12.0L  1-4 yrs exp  \n",
       "5        ₹ 30.0L        ₹ 30.0L  1-2 yrs exp  \n",
       "6        ₹ 12.5L        ₹ 12.5L  2-4 yrs exp  \n",
       "7        ₹ 32.0L        ₹ 32.0L  1-4 yrs exp  \n",
       "8         ₹ 7.5L         ₹ 7.5L  1-4 yrs exp  \n",
       "9        ₹ 31.0L        ₹ 31.0L  1-2 yrs exp  "
      ]
     },
     "execution_count": 43,
     "metadata": {},
     "output_type": "execute_result"
    }
   ],
   "source": [
    "jobs3=pd.DataFrame()\n",
    "jobs3['Job Titles']=company[0:10]\n",
    "jobs3['total salary']=ttlslry[0:10]\n",
    "jobs3['average salary']=avgslry[:10]\n",
    "jobs3['minimum salary']=minslry[:10]\n",
    "jobs3['maximum salary']=maxslry[:10]\n",
    "jobs3['Experience']=exp[:10]\n",
    "jobs3"
   ]
  },
  {
   "cell_type": "code",
   "execution_count": null,
   "id": "b8b9b51e",
   "metadata": {},
   "outputs": [],
   "source": []
  }
 ],
 "metadata": {
  "kernelspec": {
   "display_name": "Python 3 (ipykernel)",
   "language": "python",
   "name": "python3"
  },
  "language_info": {
   "codemirror_mode": {
    "name": "ipython",
    "version": 3
   },
   "file_extension": ".py",
   "mimetype": "text/x-python",
   "name": "python",
   "nbconvert_exporter": "python",
   "pygments_lexer": "ipython3",
   "version": "3.9.7"
  }
 },
 "nbformat": 4,
 "nbformat_minor": 5
}
