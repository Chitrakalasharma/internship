{
 "cells": [
  {
   "cell_type": "markdown",
   "id": "c34f8e23",
   "metadata": {},
   "source": [
    "Q.11 Write a python program to find the factorial of a number"
   ]
  },
  {
   "cell_type": "code",
   "execution_count": 1,
   "id": "a2049627",
   "metadata": {},
   "outputs": [],
   "source": [
    "import math\n",
    " \n",
    "def factorial(n):\n",
    "    return(math.factorial(n))\n",
    " \n",
    " "
   ]
  },
  {
   "cell_type": "code",
   "execution_count": 3,
   "id": "bd1f81a6",
   "metadata": {},
   "outputs": [
    {
     "name": "stdout",
     "output_type": "stream",
     "text": [
      "Factorial of 5 is 120\n"
     ]
    }
   ],
   "source": [
    "num =\n",
    "print(\"Factorial of\", num, \"is\",\n",
    "      factorial(num))"
   ]
  },
  {
   "cell_type": "markdown",
   "id": "f26416ac",
   "metadata": {},
   "source": [
    "Q12 Write a python program to find whether a number is prime or composite"
   ]
  },
  {
   "cell_type": "markdown",
   "id": "4428fae3",
   "metadata": {},
   "source": [
    "Q13. Write a python program to check whether a given string is palindrome or not.\n"
   ]
  },
  {
   "cell_type": "code",
   "execution_count": 4,
   "id": "476c09e4",
   "metadata": {},
   "outputs": [],
   "source": [
    "def isPalindrome(s):\n",
    "    return s == s[::-1]"
   ]
  },
  {
   "cell_type": "code",
   "execution_count": 10,
   "id": "dd5fa468",
   "metadata": {},
   "outputs": [
    {
     "name": "stdout",
     "output_type": "stream",
     "text": [
      "Yes\n"
     ]
    }
   ],
   "source": [
    "s = \"mom\"\n",
    "ans = isPalindrome(s)\n",
    " \n",
    "if ans:\n",
    "    print(\"Yes\")\n",
    "else:\n",
    "    print(\"No\")"
   ]
  },
  {
   "cell_type": "markdown",
   "id": "360df93f",
   "metadata": {},
   "source": [
    "Q14. Write a Python program to get the third side of right-angled triangle from two given sides."
   ]
  },
  {
   "cell_type": "code",
   "execution_count": 9,
   "id": "da4f8a4d",
   "metadata": {},
   "outputs": [
    {
     "name": "stdout",
     "output_type": "stream",
     "text": [
      "enter base:20\n",
      "Enter height: 40\n",
      "Enter angle: 90\n",
      "Hypotenuse = 44.721359549995796\n"
     ]
    }
   ],
   "source": [
    "import math\n",
    "l= int(input(\"enter base:\"))\n",
    "b = int(input(\"Enter height: \"))\n",
    "x = int(input(\"Enter angle: \"))\n",
    "\n",
    "c = math.sqrt(l** 2 + b ** 2)\n",
    "\n",
    "print(\"Hypotenuse =\", c)\n"
   ]
  },
  {
   "cell_type": "markdown",
   "id": "e355b1b3",
   "metadata": {},
   "source": [
    "Q15. Write a python program to print the frequency of each of the characters present in a given string."
   ]
  },
  {
   "cell_type": "code",
   "execution_count": 17,
   "id": "ace23dc9",
   "metadata": {},
   "outputs": [
    {
     "name": "stdout",
     "output_type": "stream",
     "text": [
      "Count of all characters in ilovemyindia is :\n",
      " Counter({'i': 3, ' ': 3, 'l': 1, 'o': 1, 'v': 1, 'e': 1, 'm': 1, 'y': 1, 'n': 1, 'd': 1, 'a': 1})\n"
     ]
    }
   ],
   "source": [
    "from collections import Counter \n",
    "test_str = \"i love my india\"\n",
    "res = Counter(test_str)\n",
    "print (\"Count of all characters in i love my india is :\\n \"+  str(res))"
   ]
  },
  {
   "cell_type": "code",
   "execution_count": null,
   "id": "a086d9e3",
   "metadata": {},
   "outputs": [],
   "source": []
  },
  {
   "cell_type": "code",
   "execution_count": null,
   "id": "49d2410d",
   "metadata": {},
   "outputs": [],
   "source": []
  }
 ],
 "metadata": {
  "kernelspec": {
   "display_name": "Python 3 (ipykernel)",
   "language": "python",
   "name": "python3"
  },
  "language_info": {
   "codemirror_mode": {
    "name": "ipython",
    "version": 3
   },
   "file_extension": ".py",
   "mimetype": "text/x-python",
   "name": "python",
   "nbconvert_exporter": "python",
   "pygments_lexer": "ipython3",
   "version": "3.9.7"
  }
 },
 "nbformat": 4,
 "nbformat_minor": 5
}
