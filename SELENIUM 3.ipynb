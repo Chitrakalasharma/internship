{
 "cells": [
  {
   "cell_type": "code",
   "execution_count": 1,
   "id": "8675995a",
   "metadata": {},
   "outputs": [],
   "source": [
    "import selenium\n",
    "from selenium import webdriver\n",
    "import pandas as pd\n",
    "import time\n",
    "from bs4 import BeautifulSoup\n",
    "from selenium.common.exceptions import StaleElementReferenceException, NoSuchElementException\n",
    "import re\n",
    "import requests\n",
    "import warnings\n",
    "warnings.filterwarnings(\"ignore\")"
   ]
  },
  {
   "cell_type": "code",
   "execution_count": 42,
   "id": "3afbc9ce",
   "metadata": {},
   "outputs": [],
   "source": [
    "driver=webdriver.Chrome('chromedriver.exe')\n"
   ]
  },
  {
   "cell_type": "markdown",
   "id": "cea58e99",
   "metadata": {},
   "source": [
    "1.)Write a python program which searches all the product under a particular product from www.amazon.in. The product to be searched will be taken as input from user. For e.g. If user input is ‘guitar’. Then search for guitars."
   ]
  },
  {
   "cell_type": "code",
   "execution_count": 43,
   "id": "f4fa9ef9",
   "metadata": {},
   "outputs": [],
   "source": [
    "url='https://www.amazon.in/'\n",
    "driver.get(url)\n",
    "    "
   ]
  },
  {
   "cell_type": "code",
   "execution_count": 44,
   "id": "cfc8b0f5",
   "metadata": {},
   "outputs": [
    {
     "data": {
      "text/plain": [
       "<selenium.webdriver.remote.webelement.WebElement (session=\"5fa575507152542b1099ad427a647a10\", element=\"3a952e5b-e5f4-42fe-b4bf-26a45b698014\")>"
      ]
     },
     "execution_count": 44,
     "metadata": {},
     "output_type": "execute_result"
    }
   ],
   "source": [
    "search_bar=driver.find_element_by_xpath('/html/body/div[1]/header/div/div[1]/div[2]/div/form/div[2]/div[1]/input')\n",
    "search_bar"
   ]
  },
  {
   "cell_type": "code",
   "execution_count": 45,
   "id": "ef302d53",
   "metadata": {},
   "outputs": [],
   "source": [
    "search_bar.send_keys(\"Guitar\")"
   ]
  },
  {
   "cell_type": "code",
   "execution_count": 46,
   "id": "50e35332",
   "metadata": {},
   "outputs": [
    {
     "data": {
      "text/plain": [
       "<selenium.webdriver.remote.webelement.WebElement (session=\"5fa575507152542b1099ad427a647a10\", element=\"eda17b37-13fd-4cef-a3d3-e2f199c99a20\")>"
      ]
     },
     "execution_count": 46,
     "metadata": {},
     "output_type": "execute_result"
    }
   ],
   "source": [
    "srch_btn=driver.find_element_by_xpath(\"/html/body/div[1]/header/div/div[1]/div[2]/div/form/div[3]/div/span/input\")\n",
    "srch_btn"
   ]
  },
  {
   "cell_type": "code",
   "execution_count": 47,
   "id": "ced4c283",
   "metadata": {},
   "outputs": [],
   "source": [
    "srch_btn.click()"
   ]
  },
  {
   "cell_type": "markdown",
   "id": "c49822a8",
   "metadata": {},
   "source": [
    "2.In the above question, now scrape the following details of each product listed in first 3 pages of your search results and save it in a data frame and csv. In case if any product has less than 3 pages in search results then scrape all the products available under that product name. Details to be scraped are: \"Brand Name\", \"Name of the Product\", \"Price\", \"Return/Exchange\", \"Expected Delivery\", \"Availability\" and “Product URL”. In case, if any of the details are missing for any of the product then replace it by “-“"
   ]
  },
  {
   "cell_type": "code",
   "execution_count": 48,
   "id": "386cc18d",
   "metadata": {
    "scrolled": true
   },
   "outputs": [
    {
     "data": {
      "text/plain": [
       "['Kadence Frontier guitar with Online Guitar learning course, Wine Red Acoustic Guitar with Die Cast Keys, Set of Strings, Strap, Picks and Bag (Wine Red, Acoustic)',\n",
       " 'Festra 38C, 38 Inch Acoustic Guitar Kit with Bag, Strap, One Pack Strings And 2 Picks (Black)',\n",
       " 'Vault Traveller 34 Inch Acoustic Guitar With Bag, Strap, Strings, Polishing Cloth, String Winder and Picks - Natural Gloss',\n",
       " 'GUITAR BRO - COMBO (Black Acoustic Guitar for Beginner, Guitar Learning Kit, Song Book, Video Lectures, Accessories like Pick, Bag)',\n",
       " 'Juarez Acoustic Guitar, 38 Inch Curved Body Cutaway, 38CUR with Bag, Strings, Pick and Strap, Black',\n",
       " 'Intern INT-38C Acoustic Guitar Kit, With Bag, Strings, Pick And Strap, Black',\n",
       " 'Juârez Acoustic Guitar, 38 Inch Cutaway, 038C with Bag, Strings, Pick and Strap, Black',\n",
       " 'Intern INT-38C Acoustic Guitar Kit, With Bag, Strings, Pick And Strap, Black',\n",
       " 'Kadence Frontier guitar with Online Guitar learning course, Wine Red Acoustic Guitar with Die Cast Keys, Set of Strings, Strap, Picks and Bag (Wine Red, Acoustic)',\n",
       " '',\n",
       " '',\n",
       " 'Epiphone PR-4E Acoustic-Electric Guitar Player Pack',\n",
       " 'Ibanez GRG170DX Electric Guitar, Black',\n",
       " 'Fender CD60s Dreadnought Acoustic Guitar (Mahagony)',\n",
       " '',\n",
       " '',\n",
       " '',\n",
       " '',\n",
       " '',\n",
       " 'Medellin 38\" Acoustic Guitar Blue Burst Carbon Fiber body+(Free Online Learning Course) - Durable Matt finish with handrest, strings, strap, bag, 3 Picks, capo, stand.',\n",
       " 'Intern 38C Cutaway Design Black Acoustic Guitar with Picks & Carry Bag',\n",
       " 'Photron Acoustic Guitar, 38 Inch Cutaway, PH38C/BK with Picks Only, Black (Without Bag, Strap and Extra Strings)',\n",
       " 'JUAREZ JRZ38C Right Handed Acoustic Guitar with Bag, Strings, Pick and Strap (Natural, 6 Strings)',\n",
       " 'Kadence Frontier guitar with Online Guitar learning course, Wine Red Acoustic Guitar with Die Cast Keys, Set of Strings, Strap, Picks and Bag (Wine Red, Acoustic)',\n",
       " 'Medellin 38\" Carbon Fiber Acoustic Guitar with free specailized learning course- MDCF38BK Heavy Weighted Carbon Fiber Matt White finish Body for beginners with handrest, set of Strings, Strap, Bag, 3 Picks, Capo, Guitar Wall Hanging Stand and Free GUITAR LEARNING COURSE (Special Learning Combo with Guitar)',\n",
       " 'Hovner 215 Black F-Cut Rosewood Fretboard Acoustic Guitar With Bag,Strap,1 Set of Extra Strings and 2 Picks By K-Retail',\n",
       " 'Intern INT-38C-BK-G Cutaway Right Handed Acoustic Guitar Kit, With Bag, Strings, Pick And Strap (Black, 6 Strings)',\n",
       " 'Kordz Luana Natural Wooden 41 Inch Rosewood Fretboard Acoustic Guitar With Bag,Strap,1 Set of Extra Strings and 2 Picks',\n",
       " 'Medellin 38\" Carbon Fiber Acoustic Guitar with free specailized learning course- MDCF38BK Durable Carbon Fiber Matt Sunburst finish Body for beginners with handrest, set of Strings, Strap, Bag, 3 Picks, Capo, Guitar Wall Hanging Stand and Free GUITAR LEARNING COURSE (Special Learning Combo with Guitar)',\n",
       " 'Juarez Acoustic Guitar Kit, 38 Inch Cutaway, 38C with Bag, Strings, Pick and Strap, TBS Transparent Blue Sunburst',\n",
       " 'Yamaha FS100C Acoustic Guitar, Black',\n",
       " 'Juarez Acoustic Guitar Kit, 38 Inch Cutaway, 38C with Bag, Strings, Pick and Strap, 3TS Sunburst',\n",
       " 'LAVINGSTON Givson Venus Special Guitar combo (black) Acoustic Guitar With Cover/Bag,rhythm string set, strap and 5 plectrums',\n",
       " \"MAA Enterprises 4 String Guitar Children's Musical Instrument Educational Toy Guitar Ukulele Instruments Beginner Musical Sound Toys Best Gift for Children\",\n",
       " 'LME Laxmi Musical Electronics - Acoustic Pickup for Violin, Veena, Guitar, Mandolin, Banjo and All Acoustic String Instruments',\n",
       " 'Mustang 46 PCS Guitar Strings Changing Kit Guitar Tool Kit Including Guitar Strings Guitar Tuner Picks Capo Pins Guitar String Cutter and Winder for Beginner',\n",
       " 'Kadence Guitar Acoustica Series A05, Electric Acoustic Guitar, Zebra Wood with Pickup, Inbuilt tuner and Bag (Zebra Wood, Electro Acoustic)',\n",
       " 'Medellin 38\" Acoustic Guitar Black Carbon Fiber body+(Free Online Learning Course) - Durable Matt finish with handrest, strings, strap, bag, 3 Picks, capo, stand.',\n",
       " 'JUAREZ JRZ38CTR/BK 38 Inch Acoustic Guitar with Dual Action Truss Rod, Bag, Picks, Allen Key, Extra String Set, Black',\n",
       " 'Hovner Carlton Special Quality Rosewood Fretboard Blue Semi Acoustic Guitar With Bag,Strap,1 Set of Extra Strings and 2 Picks By K-Retail (Blue)',\n",
       " 'Yamaha FSX80C Semi Acoustic Cutaway Guitar with Bag (Black)',\n",
       " 'Juarez Acoustic Guitar, [LEFT HANDED] 96.52 cm (38 Inch) Cutaway, 38CL/3TS with Bag, Strings, Pick and Strap, 3TS Sunburst',\n",
       " 'Giuson Venus Black 41 Inch Rosewood Fretboard Acoustic Guitar With Bag,Strap,1 Set of Extra Strings and 2 Picks by K-Retail',\n",
       " 'Acoustic Guitar Linden Wood, Rosewood Linden Wood Right Hand Orientation (Antique Natural)',\n",
       " 'Medellin 38\" Carbon Fiber Acoustic Guitar with free specailized learning course- MDCF38BK Durable Carbon Fiber Matt Brown finish Body for beginners with handrest, set of Strings, Strap, Bag, 3 Picks, Capo, Guitar Wall Hanging Stand and Free GUITAR LEARNING COURSE (Special Learning Combo with Guitar)',\n",
       " 'Yamaha FX280 Semi acoustic Dreadnought Guitar with Bag (Natural)',\n",
       " 'Yamaha F310 Acoustic Guitar, Natural',\n",
       " 'Yamaha Acoustic Guitar F280 Dreadnought With Mexa Sponge Bag Belt,Plectrums, String Set & Guitar Stand (Natural)',\n",
       " 'Blueberry R-34, 34 Inch Acoustic Guitar Kit Inbuilt Truss Rod, with Bag, Belt & One Pack Strings & Picks (Natural)',\n",
       " 'JUAREZ Acoustic Guitar 3xE 1st String & 2 Pick Set JRGSE32',\n",
       " 'Granada, Acoustic Guitar, Dreadnought PRLD-14C-F -Natural',\n",
       " 'INTERN Cutaway Design Acoustic Guitar Pack -Humidity Proof, Bend resistance, Durable Action, Natural tone & bright resonance. Black Carbon Fibre/Fiber Guitar with Bag, Strap, Strings set & Plectrums.',\n",
       " 'Kadence Acoustica Series, Semi Acoustic Guitar Spruce Top with Bag',\n",
       " 'RockJam RJEG02-SK-BB Electric Guitar Starter Kit (Blue Burst)',\n",
       " 'JUAREZ 96.52 cm (38 Inch) Acoustic Guitar with Dual Action Truss Rod, Bag, Picks, Allen Key, Extra String Set, 3TS Sunburst',\n",
       " 'Yamaha F310-TBS Right Handed Acoustic Guitar with Cover (Tobacco Sunburst, 6-Strings)',\n",
       " 'Blueberry 38C, 38\" Acoustic Guitar Kit with Bag, Strap, One Pack Strings And Picks (Natural)',\n",
       " 'Yamaha Electric-Acoustic Guitar FX280 Dreadnought With Mexa Sponge Guitar Bag, Belt,Plectrums & String Set.(Natural)',\n",
       " 'Yamaha F280 Acoustic Guitar, Tobacco Brown Sunburst with Bajaao Gig bag',\n",
       " 'Hertz HZA-3600 Mahogany Acoustic Guitar- Natural',\n",
       " 'Yamaha Classical Guitar C40//02',\n",
       " 'Belear MJT 38 Inch Black, Acoustic Guitar, With Dual Action Truss Rod',\n",
       " 'TECHBLAZE 6 Pcs Guitar Keys for Acoustic Guitar Chrome Tuning Pegs Keys 3 Left 3 Right Guitar Machine Heads Knobs With Strap Button Locks Guitar Keys 3R+3L 6 pieces- Chrome',\n",
       " 'Juarez JRZ-ST02 6-String Electric Guitar, Right Handed, Red, with Case/Bag and Picks',\n",
       " 'Tanglewood Crossroads TWCR D Acoustic Guitar, 6 Strings, Dreadnought, Whiskey Barrel Burst Satin Finish',\n",
       " 'A,Acoustio 41 inch 21 fret black matt finish venus acoustic guitar. with cover,1set string,2plectums, 1belt.',\n",
       " 'Kadence Guitar Frontier Series, Electric Acoustic Black Guitar With EQ, Die Cast Keys, Set of Strings, Strap, Picks and Bag (Black EQ, Electric Acoustic)',\n",
       " 'Ketostics™ Venus Special Cutaway Rosewood 41 Inch Givson Venus Special Semi-electric Acoustic Guitar Kit with Bag, Rhythm String Set, Strap and 5 Plectrums, (Black)',\n",
       " 'Guitar Straps Cool Skull Printed Polyster Soft Electric Bass Strap (Yellow)',\n",
       " 'Mustang Guitar Accessories Kit - Stand, Clip-on Tuner, Strap, Capo, 4 Assorted Picks, Holder - For Acoustic and Electric Instruments - Great Gift For Beginners and Advanced Players',\n",
       " 'Pack of 2 Universal Guitar Stand by Hola! Music Fits Acoustic Classical Electric Bass Guitars Mandolins Banjos Ukuleles and Other Stringed Instruments',\n",
       " 'KHUSHI MUSICALS 6 Pieces Semiclosed Tuners Tuning Pegs with Accs for Electric Acoustic Guitars',\n",
       " 'Kadence Frontier guitar with Online Guitar learning course, Wine Red Acoustic Guitar with Die Cast Keys, Set of Strings, Strap, Picks and Bag (Wine Red, Acoustic)',\n",
       " 'Festra 38C, 38 Inch Acoustic Guitar Kit with Bag, Strap, One Pack Strings And 2 Picks (Black)',\n",
       " 'Vault Traveller 34 Inch Acoustic Guitar With Bag, Strap, Strings, Polishing Cloth, String Winder and Picks - Natural Gloss',\n",
       " 'GUITAR BRO - COMBO (Black Acoustic Guitar for Beginner, Guitar Learning Kit, Song Book, Video Lectures, Accessories like Pick, Bag)',\n",
       " 'Juarez Acoustic Guitar, 38 Inch Curved Body Cutaway, 38CUR with Bag, Strings, Pick and Strap, Black',\n",
       " 'Intern INT-38C Acoustic Guitar Kit, With Bag, Strings, Pick And Strap, Black',\n",
       " 'Juârez Acoustic Guitar, 38 Inch Cutaway, 038C with Bag, Strings, Pick and Strap, Black',\n",
       " 'Intern INT-38C Acoustic Guitar Kit, With Bag, Strings, Pick And Strap, Black',\n",
       " 'Kadence Frontier guitar with Online Guitar learning course, Wine Red Acoustic Guitar with Die Cast Keys, Set of Strings, Strap, Picks and Bag (Wine Red, Acoustic)',\n",
       " '',\n",
       " '',\n",
       " 'Epiphone PR-4E Acoustic-Electric Guitar Player Pack',\n",
       " 'Ibanez GRG170DX Electric Guitar, Black',\n",
       " 'Fender CD60s Dreadnought Acoustic Guitar (Mahagony)',\n",
       " '',\n",
       " '',\n",
       " '',\n",
       " '',\n",
       " '',\n",
       " 'Medellin 38\" Acoustic Guitar Blue Burst Carbon Fiber body+(Free Online Learning Course) - Durable Matt finish with handrest, strings, strap, bag, 3 Picks, capo, stand.',\n",
       " 'Intern 38C Cutaway Design Black Acoustic Guitar with Picks & Carry Bag',\n",
       " 'Photron Acoustic Guitar, 38 Inch Cutaway, PH38C/BK with Picks Only, Black (Without Bag, Strap and Extra Strings)',\n",
       " 'JUAREZ JRZ38C Right Handed Acoustic Guitar with Bag, Strings, Pick and Strap (Natural, 6 Strings)',\n",
       " 'Kadence Frontier guitar with Online Guitar learning course, Wine Red Acoustic Guitar with Die Cast Keys, Set of Strings, Strap, Picks and Bag (Wine Red, Acoustic)',\n",
       " 'Medellin 38\" Carbon Fiber Acoustic Guitar with free specailized learning course- MDCF38BK Heavy Weighted Carbon Fiber Matt White finish Body for beginners with handrest, set of Strings, Strap, Bag, 3 Picks, Capo, Guitar Wall Hanging Stand and Free GUITAR LEARNING COURSE (Special Learning Combo with Guitar)',\n",
       " 'Hovner 215 Black F-Cut Rosewood Fretboard Acoustic Guitar With Bag,Strap,1 Set of Extra Strings and 2 Picks By K-Retail',\n",
       " 'Intern INT-38C-BK-G Cutaway Right Handed Acoustic Guitar Kit, With Bag, Strings, Pick And Strap (Black, 6 Strings)',\n",
       " 'Kordz Luana Natural Wooden 41 Inch Rosewood Fretboard Acoustic Guitar With Bag,Strap,1 Set of Extra Strings and 2 Picks',\n",
       " 'Medellin 38\" Carbon Fiber Acoustic Guitar with free specailized learning course- MDCF38BK Durable Carbon Fiber Matt Sunburst finish Body for beginners with handrest, set of Strings, Strap, Bag, 3 Picks, Capo, Guitar Wall Hanging Stand and Free GUITAR LEARNING COURSE (Special Learning Combo with Guitar)',\n",
       " 'Juarez Acoustic Guitar Kit, 38 Inch Cutaway, 38C with Bag, Strings, Pick and Strap, TBS Transparent Blue Sunburst',\n",
       " 'Yamaha FS100C Acoustic Guitar, Black',\n",
       " 'Juarez Acoustic Guitar Kit, 38 Inch Cutaway, 38C with Bag, Strings, Pick and Strap, 3TS Sunburst',\n",
       " 'LAVINGSTON Givson Venus Special Guitar combo (black) Acoustic Guitar With Cover/Bag,rhythm string set, strap and 5 plectrums',\n",
       " \"MAA Enterprises 4 String Guitar Children's Musical Instrument Educational Toy Guitar Ukulele Instruments Beginner Musical Sound Toys Best Gift for Children\",\n",
       " 'LME Laxmi Musical Electronics - Acoustic Pickup for Violin, Veena, Guitar, Mandolin, Banjo and All Acoustic String Instruments',\n",
       " 'Mustang 46 PCS Guitar Strings Changing Kit Guitar Tool Kit Including Guitar Strings Guitar Tuner Picks Capo Pins Guitar String Cutter and Winder for Beginner',\n",
       " 'Kadence Guitar Acoustica Series A05, Electric Acoustic Guitar, Zebra Wood with Pickup, Inbuilt tuner and Bag (Zebra Wood, Electro Acoustic)',\n",
       " 'Medellin 38\" Acoustic Guitar Black Carbon Fiber body+(Free Online Learning Course) - Durable Matt finish with handrest, strings, strap, bag, 3 Picks, capo, stand.',\n",
       " 'JUAREZ JRZ38CTR/BK 38 Inch Acoustic Guitar with Dual Action Truss Rod, Bag, Picks, Allen Key, Extra String Set, Black',\n",
       " 'Hovner Carlton Special Quality Rosewood Fretboard Blue Semi Acoustic Guitar With Bag,Strap,1 Set of Extra Strings and 2 Picks By K-Retail (Blue)',\n",
       " 'Yamaha FSX80C Semi Acoustic Cutaway Guitar with Bag (Black)',\n",
       " 'Juarez Acoustic Guitar, [LEFT HANDED] 96.52 cm (38 Inch) Cutaway, 38CL/3TS with Bag, Strings, Pick and Strap, 3TS Sunburst',\n",
       " 'Giuson Venus Black 41 Inch Rosewood Fretboard Acoustic Guitar With Bag,Strap,1 Set of Extra Strings and 2 Picks by K-Retail',\n",
       " 'Acoustic Guitar Linden Wood, Rosewood Linden Wood Right Hand Orientation (Antique Natural)',\n",
       " 'Medellin 38\" Carbon Fiber Acoustic Guitar with free specailized learning course- MDCF38BK Durable Carbon Fiber Matt Brown finish Body for beginners with handrest, set of Strings, Strap, Bag, 3 Picks, Capo, Guitar Wall Hanging Stand and Free GUITAR LEARNING COURSE (Special Learning Combo with Guitar)',\n",
       " 'Yamaha FX280 Semi acoustic Dreadnought Guitar with Bag (Natural)',\n",
       " 'Yamaha F310 Acoustic Guitar, Natural',\n",
       " 'Yamaha Acoustic Guitar F280 Dreadnought With Mexa Sponge Bag Belt,Plectrums, String Set & Guitar Stand (Natural)',\n",
       " 'Blueberry R-34, 34 Inch Acoustic Guitar Kit Inbuilt Truss Rod, with Bag, Belt & One Pack Strings & Picks (Natural)',\n",
       " 'JUAREZ Acoustic Guitar 3xE 1st String & 2 Pick Set JRGSE32',\n",
       " 'Granada, Acoustic Guitar, Dreadnought PRLD-14C-F -Natural',\n",
       " 'INTERN Cutaway Design Acoustic Guitar Pack -Humidity Proof, Bend resistance, Durable Action, Natural tone & bright resonance. Black Carbon Fibre/Fiber Guitar with Bag, Strap, Strings set & Plectrums.',\n",
       " 'Kadence Acoustica Series, Semi Acoustic Guitar Spruce Top with Bag',\n",
       " 'RockJam RJEG02-SK-BB Electric Guitar Starter Kit (Blue Burst)',\n",
       " 'JUAREZ 96.52 cm (38 Inch) Acoustic Guitar with Dual Action Truss Rod, Bag, Picks, Allen Key, Extra String Set, 3TS Sunburst',\n",
       " 'Yamaha F310-TBS Right Handed Acoustic Guitar with Cover (Tobacco Sunburst, 6-Strings)',\n",
       " 'Blueberry 38C, 38\" Acoustic Guitar Kit with Bag, Strap, One Pack Strings And Picks (Natural)',\n",
       " 'Yamaha Electric-Acoustic Guitar FX280 Dreadnought With Mexa Sponge Guitar Bag, Belt,Plectrums & String Set.(Natural)',\n",
       " 'Yamaha F280 Acoustic Guitar, Tobacco Brown Sunburst with Bajaao Gig bag',\n",
       " 'Hertz HZA-3600 Mahogany Acoustic Guitar- Natural',\n",
       " 'Yamaha Classical Guitar C40//02',\n",
       " 'Belear MJT 38 Inch Black, Acoustic Guitar, With Dual Action Truss Rod',\n",
       " 'TECHBLAZE 6 Pcs Guitar Keys for Acoustic Guitar Chrome Tuning Pegs Keys 3 Left 3 Right Guitar Machine Heads Knobs With Strap Button Locks Guitar Keys 3R+3L 6 pieces- Chrome',\n",
       " 'Juarez JRZ-ST02 6-String Electric Guitar, Right Handed, Red, with Case/Bag and Picks',\n",
       " 'Tanglewood Crossroads TWCR D Acoustic Guitar, 6 Strings, Dreadnought, Whiskey Barrel Burst Satin Finish',\n",
       " 'A,Acoustio 41 inch 21 fret black matt finish venus acoustic guitar. with cover,1set string,2plectums, 1belt.',\n",
       " 'Kadence Guitar Frontier Series, Electric Acoustic Black Guitar With EQ, Die Cast Keys, Set of Strings, Strap, Picks and Bag (Black EQ, Electric Acoustic)',\n",
       " 'Ketostics™ Venus Special Cutaway Rosewood 41 Inch Givson Venus Special Semi-electric Acoustic Guitar Kit with Bag, Rhythm String Set, Strap and 5 Plectrums, (Black)',\n",
       " 'Guitar Straps Cool Skull Printed Polyster Soft Electric Bass Strap (Yellow)',\n",
       " 'Mustang Guitar Accessories Kit - Stand, Clip-on Tuner, Strap, Capo, 4 Assorted Picks, Holder - For Acoustic and Electric Instruments - Great Gift For Beginners and Advanced Players',\n",
       " 'Pack of 2 Universal Guitar Stand by Hola! Music Fits Acoustic Classical Electric Bass Guitars Mandolins Banjos Ukuleles and Other Stringed Instruments',\n",
       " 'KHUSHI MUSICALS 6 Pieces Semiclosed Tuners Tuning Pegs with Accs for Electric Acoustic Guitars',\n",
       " 'Kadence Frontier guitar with Online Guitar learning course, Wine Red Acoustic Guitar with Die Cast Keys, Set of Strings, Strap, Picks and Bag (Wine Red, Acoustic)',\n",
       " 'Festra 38C, 38 Inch Acoustic Guitar Kit with Bag, Strap, One Pack Strings And 2 Picks (Black)',\n",
       " 'Vault Traveller 34 Inch Acoustic Guitar With Bag, Strap, Strings, Polishing Cloth, String Winder and Picks - Natural Gloss',\n",
       " 'GUITAR BRO - COMBO (Black Acoustic Guitar for Beginner, Guitar Learning Kit, Song Book, Video Lectures, Accessories like Pick, Bag)',\n",
       " 'Juarez Acoustic Guitar, 38 Inch Curved Body Cutaway, 38CUR with Bag, Strings, Pick and Strap, Black',\n",
       " 'Intern INT-38C Acoustic Guitar Kit, With Bag, Strings, Pick And Strap, Black',\n",
       " 'Juârez Acoustic Guitar, 38 Inch Cutaway, 038C with Bag, Strings, Pick and Strap, Black',\n",
       " 'Intern INT-38C Acoustic Guitar Kit, With Bag, Strings, Pick And Strap, Black',\n",
       " 'Kadence Frontier guitar with Online Guitar learning course, Wine Red Acoustic Guitar with Die Cast Keys, Set of Strings, Strap, Picks and Bag (Wine Red, Acoustic)',\n",
       " '',\n",
       " '',\n",
       " 'Epiphone PR-4E Acoustic-Electric Guitar Player Pack',\n",
       " 'Ibanez GRG170DX Electric Guitar, Black',\n",
       " 'Fender CD60s Dreadnought Acoustic Guitar (Mahagony)',\n",
       " '',\n",
       " '',\n",
       " '',\n",
       " '',\n",
       " '',\n",
       " 'Medellin 38\" Acoustic Guitar Blue Burst Carbon Fiber body+(Free Online Learning Course) - Durable Matt finish with handrest, strings, strap, bag, 3 Picks, capo, stand.',\n",
       " 'Intern 38C Cutaway Design Black Acoustic Guitar with Picks & Carry Bag',\n",
       " 'Photron Acoustic Guitar, 38 Inch Cutaway, PH38C/BK with Picks Only, Black (Without Bag, Strap and Extra Strings)',\n",
       " 'JUAREZ JRZ38C Right Handed Acoustic Guitar with Bag, Strings, Pick and Strap (Natural, 6 Strings)',\n",
       " 'Kadence Frontier guitar with Online Guitar learning course, Wine Red Acoustic Guitar with Die Cast Keys, Set of Strings, Strap, Picks and Bag (Wine Red, Acoustic)',\n",
       " 'Medellin 38\" Carbon Fiber Acoustic Guitar with free specailized learning course- MDCF38BK Heavy Weighted Carbon Fiber Matt White finish Body for beginners with handrest, set of Strings, Strap, Bag, 3 Picks, Capo, Guitar Wall Hanging Stand and Free GUITAR LEARNING COURSE (Special Learning Combo with Guitar)',\n",
       " 'Hovner 215 Black F-Cut Rosewood Fretboard Acoustic Guitar With Bag,Strap,1 Set of Extra Strings and 2 Picks By K-Retail',\n",
       " 'Intern INT-38C-BK-G Cutaway Right Handed Acoustic Guitar Kit, With Bag, Strings, Pick And Strap (Black, 6 Strings)',\n",
       " 'Kordz Luana Natural Wooden 41 Inch Rosewood Fretboard Acoustic Guitar With Bag,Strap,1 Set of Extra Strings and 2 Picks',\n",
       " 'Medellin 38\" Carbon Fiber Acoustic Guitar with free specailized learning course- MDCF38BK Durable Carbon Fiber Matt Sunburst finish Body for beginners with handrest, set of Strings, Strap, Bag, 3 Picks, Capo, Guitar Wall Hanging Stand and Free GUITAR LEARNING COURSE (Special Learning Combo with Guitar)',\n",
       " 'Juarez Acoustic Guitar Kit, 38 Inch Cutaway, 38C with Bag, Strings, Pick and Strap, TBS Transparent Blue Sunburst',\n",
       " 'Yamaha FS100C Acoustic Guitar, Black',\n",
       " 'Juarez Acoustic Guitar Kit, 38 Inch Cutaway, 38C with Bag, Strings, Pick and Strap, 3TS Sunburst',\n",
       " 'LAVINGSTON Givson Venus Special Guitar combo (black) Acoustic Guitar With Cover/Bag,rhythm string set, strap and 5 plectrums',\n",
       " \"MAA Enterprises 4 String Guitar Children's Musical Instrument Educational Toy Guitar Ukulele Instruments Beginner Musical Sound Toys Best Gift for Children\",\n",
       " 'LME Laxmi Musical Electronics - Acoustic Pickup for Violin, Veena, Guitar, Mandolin, Banjo and All Acoustic String Instruments',\n",
       " 'Mustang 46 PCS Guitar Strings Changing Kit Guitar Tool Kit Including Guitar Strings Guitar Tuner Picks Capo Pins Guitar String Cutter and Winder for Beginner',\n",
       " 'Kadence Guitar Acoustica Series A05, Electric Acoustic Guitar, Zebra Wood with Pickup, Inbuilt tuner and Bag (Zebra Wood, Electro Acoustic)',\n",
       " 'Medellin 38\" Acoustic Guitar Black Carbon Fiber body+(Free Online Learning Course) - Durable Matt finish with handrest, strings, strap, bag, 3 Picks, capo, stand.',\n",
       " 'JUAREZ JRZ38CTR/BK 38 Inch Acoustic Guitar with Dual Action Truss Rod, Bag, Picks, Allen Key, Extra String Set, Black',\n",
       " 'Hovner Carlton Special Quality Rosewood Fretboard Blue Semi Acoustic Guitar With Bag,Strap,1 Set of Extra Strings and 2 Picks By K-Retail (Blue)',\n",
       " 'Yamaha FSX80C Semi Acoustic Cutaway Guitar with Bag (Black)',\n",
       " 'Juarez Acoustic Guitar, [LEFT HANDED] 96.52 cm (38 Inch) Cutaway, 38CL/3TS with Bag, Strings, Pick and Strap, 3TS Sunburst',\n",
       " 'Giuson Venus Black 41 Inch Rosewood Fretboard Acoustic Guitar With Bag,Strap,1 Set of Extra Strings and 2 Picks by K-Retail',\n",
       " 'Acoustic Guitar Linden Wood, Rosewood Linden Wood Right Hand Orientation (Antique Natural)',\n",
       " 'Medellin 38\" Carbon Fiber Acoustic Guitar with free specailized learning course- MDCF38BK Durable Carbon Fiber Matt Brown finish Body for beginners with handrest, set of Strings, Strap, Bag, 3 Picks, Capo, Guitar Wall Hanging Stand and Free GUITAR LEARNING COURSE (Special Learning Combo with Guitar)',\n",
       " 'Yamaha FX280 Semi acoustic Dreadnought Guitar with Bag (Natural)',\n",
       " 'Yamaha F310 Acoustic Guitar, Natural',\n",
       " 'Yamaha Acoustic Guitar F280 Dreadnought With Mexa Sponge Bag Belt,Plectrums, String Set & Guitar Stand (Natural)',\n",
       " 'Blueberry R-34, 34 Inch Acoustic Guitar Kit Inbuilt Truss Rod, with Bag, Belt & One Pack Strings & Picks (Natural)',\n",
       " 'JUAREZ Acoustic Guitar 3xE 1st String & 2 Pick Set JRGSE32',\n",
       " 'Granada, Acoustic Guitar, Dreadnought PRLD-14C-F -Natural',\n",
       " 'INTERN Cutaway Design Acoustic Guitar Pack -Humidity Proof, Bend resistance, Durable Action, Natural tone & bright resonance. Black Carbon Fibre/Fiber Guitar with Bag, Strap, Strings set & Plectrums.',\n",
       " 'Kadence Acoustica Series, Semi Acoustic Guitar Spruce Top with Bag',\n",
       " 'RockJam RJEG02-SK-BB Electric Guitar Starter Kit (Blue Burst)',\n",
       " 'JUAREZ 96.52 cm (38 Inch) Acoustic Guitar with Dual Action Truss Rod, Bag, Picks, Allen Key, Extra String Set, 3TS Sunburst',\n",
       " 'Yamaha F310-TBS Right Handed Acoustic Guitar with Cover (Tobacco Sunburst, 6-Strings)',\n",
       " 'Blueberry 38C, 38\" Acoustic Guitar Kit with Bag, Strap, One Pack Strings And Picks (Natural)',\n",
       " 'Yamaha Electric-Acoustic Guitar FX280 Dreadnought With Mexa Sponge Guitar Bag, Belt,Plectrums & String Set.(Natural)',\n",
       " 'Yamaha F280 Acoustic Guitar, Tobacco Brown Sunburst with Bajaao Gig bag',\n",
       " 'Hertz HZA-3600 Mahogany Acoustic Guitar- Natural',\n",
       " 'Yamaha Classical Guitar C40//02',\n",
       " 'Belear MJT 38 Inch Black, Acoustic Guitar, With Dual Action Truss Rod',\n",
       " 'TECHBLAZE 6 Pcs Guitar Keys for Acoustic Guitar Chrome Tuning Pegs Keys 3 Left 3 Right Guitar Machine Heads Knobs With Strap Button Locks Guitar Keys 3R+3L 6 pieces- Chrome',\n",
       " 'Juarez JRZ-ST02 6-String Electric Guitar, Right Handed, Red, with Case/Bag and Picks',\n",
       " 'Tanglewood Crossroads TWCR D Acoustic Guitar, 6 Strings, Dreadnought, Whiskey Barrel Burst Satin Finish',\n",
       " 'A,Acoustio 41 inch 21 fret black matt finish venus acoustic guitar. with cover,1set string,2plectums, 1belt.',\n",
       " 'Kadence Guitar Frontier Series, Electric Acoustic Black Guitar With EQ, Die Cast Keys, Set of Strings, Strap, Picks and Bag (Black EQ, Electric Acoustic)',\n",
       " 'Ketostics™ Venus Special Cutaway Rosewood 41 Inch Givson Venus Special Semi-electric Acoustic Guitar Kit with Bag, Rhythm String Set, Strap and 5 Plectrums, (Black)',\n",
       " 'Guitar Straps Cool Skull Printed Polyster Soft Electric Bass Strap (Yellow)',\n",
       " 'Mustang Guitar Accessories Kit - Stand, Clip-on Tuner, Strap, Capo, 4 Assorted Picks, Holder - For Acoustic and Electric Instruments - Great Gift For Beginners and Advanced Players',\n",
       " 'Pack of 2 Universal Guitar Stand by Hola! Music Fits Acoustic Classical Electric Bass Guitars Mandolins Banjos Ukuleles and Other Stringed Instruments',\n",
       " 'KHUSHI MUSICALS 6 Pieces Semiclosed Tuners Tuning Pegs with Accs for Electric Acoustic Guitars']"
      ]
     },
     "execution_count": 48,
     "metadata": {},
     "output_type": "execute_result"
    }
   ],
   "source": [
    "Product_name=[]\n",
    "for page in range(0,3):\n",
    "    try:\n",
    "        product_name=driver.find_elements_by_xpath('//span[@class=\"a-size-base-plus a-color-base a-text-normal\"]')\n",
    "        for i in product_name:\n",
    "            Product_name.append(i.text)\n",
    "        next_btn=driver.find_elements_by_xpath('//a[@class=\"s-pagination-item s-pagination-button\"]')\n",
    "    except:\n",
    "        Product_name.append('-')\n",
    "Product_name    "
   ]
  },
  {
   "cell_type": "code",
   "execution_count": 49,
   "id": "e7818534",
   "metadata": {},
   "outputs": [
    {
     "data": {
      "text/plain": [
       "216"
      ]
     },
     "execution_count": 49,
     "metadata": {},
     "output_type": "execute_result"
    }
   ],
   "source": [
    "len(Product_name)"
   ]
  },
  {
   "cell_type": "code",
   "execution_count": 50,
   "id": "fbe42a1a",
   "metadata": {},
   "outputs": [],
   "source": [
    "Rating=[]\n",
    "Price=[]\n",
    "Delivry=[]\n",
    "Url=[]\n",
    "time.sleep(4)\n",
    "for page in range(0,3):\n",
    "    try:\n",
    "        rating=driver.find_elements_by_xpath('//a[@class=\"a-popover-trigger a-declarative\"]')\n",
    "        for i in rating:\n",
    "            Rating.append(i.text)\n",
    "        price=driver.find_elements_by_xpath('//span[@class=\"a-price\"]')\n",
    "        for i in price:\n",
    "            Price.append(i.text)\n",
    "        dlvry=driver.find_elements_by_xpath('//span[@class=\"a-color-base a-text-bold\"]')\n",
    "        for i in dlvry:\n",
    "            Delivry.append(i.text)\n",
    "        url=driver.find_elements_by_xpath('//a[@class=\"a-link-normal s-underline-text s-underline-link-text s-link-style a-text-normal\"]')    \n",
    "        for i in url:\n",
    "            Url.append(i.get_attribute('href'))\n",
    "        next_btn=driver.find_elements_by_xpath('//a[@class=\"s-pagination-item s-pagination-button\"]')       \n",
    "    except:\n",
    "        Url.append(\"-\")\n",
    "        Rating.append(\"-\")\n",
    "        Price.append(\"-\")\n",
    "        Delivry.append(\"-\")\n",
    "     "
   ]
  },
  {
   "cell_type": "code",
   "execution_count": 51,
   "id": "bcb3ad50",
   "metadata": {},
   "outputs": [
    {
     "data": {
      "text/plain": [
       "(66, 210, 177, 216)"
      ]
     },
     "execution_count": 51,
     "metadata": {},
     "output_type": "execute_result"
    }
   ],
   "source": [
    "len(rating),len(Price),len(Delivry),len(Url)"
   ]
  },
  {
   "cell_type": "code",
   "execution_count": 52,
   "id": "5528deb6",
   "metadata": {},
   "outputs": [
    {
     "data": {
      "text/html": [
       "<div>\n",
       "<style scoped>\n",
       "    .dataframe tbody tr th:only-of-type {\n",
       "        vertical-align: middle;\n",
       "    }\n",
       "\n",
       "    .dataframe tbody tr th {\n",
       "        vertical-align: top;\n",
       "    }\n",
       "\n",
       "    .dataframe thead th {\n",
       "        text-align: right;\n",
       "    }\n",
       "</style>\n",
       "<table border=\"1\" class=\"dataframe\">\n",
       "  <thead>\n",
       "    <tr style=\"text-align: right;\">\n",
       "      <th></th>\n",
       "      <th>Product_name</th>\n",
       "      <th>rating</th>\n",
       "      <th>Price</th>\n",
       "      <th>Delivery</th>\n",
       "      <th>Url</th>\n",
       "    </tr>\n",
       "  </thead>\n",
       "  <tbody>\n",
       "    <tr>\n",
       "      <th>0</th>\n",
       "      <td>Kadence Frontier guitar with Online Guitar lea...</td>\n",
       "      <td></td>\n",
       "      <td>₹5,299</td>\n",
       "      <td>Tomorrow, March 31</td>\n",
       "      <td>https://www.amazon.in/gp/slredirect/picassoRed...</td>\n",
       "    </tr>\n",
       "    <tr>\n",
       "      <th>1</th>\n",
       "      <td>Festra 38C, 38 Inch Acoustic Guitar Kit with B...</td>\n",
       "      <td></td>\n",
       "      <td>₹2,695</td>\n",
       "      <td>Friday, April 1</td>\n",
       "      <td>https://www.amazon.in/gp/slredirect/picassoRed...</td>\n",
       "    </tr>\n",
       "    <tr>\n",
       "      <th>2</th>\n",
       "      <td>Vault Traveller 34 Inch Acoustic Guitar With B...</td>\n",
       "      <td></td>\n",
       "      <td>₹3,999</td>\n",
       "      <td>Sunday, April 3</td>\n",
       "      <td>https://www.amazon.in/gp/slredirect/picassoRed...</td>\n",
       "    </tr>\n",
       "    <tr>\n",
       "      <th>3</th>\n",
       "      <td>GUITAR BRO - COMBO (Black Acoustic Guitar for ...</td>\n",
       "      <td></td>\n",
       "      <td>₹6,499</td>\n",
       "      <td>Friday, April 1</td>\n",
       "      <td>https://www.amazon.in/gp/slredirect/picassoRed...</td>\n",
       "    </tr>\n",
       "    <tr>\n",
       "      <th>4</th>\n",
       "      <td>Juarez Acoustic Guitar, 38 Inch Curved Body Cu...</td>\n",
       "      <td></td>\n",
       "      <td>₹2,520</td>\n",
       "      <td>Monday, April 4</td>\n",
       "      <td>https://www.amazon.in/Juarez-Acoustic-Guitar-C...</td>\n",
       "    </tr>\n",
       "    <tr>\n",
       "      <th>...</th>\n",
       "      <td>...</td>\n",
       "      <td>...</td>\n",
       "      <td>...</td>\n",
       "      <td>...</td>\n",
       "      <td>...</td>\n",
       "    </tr>\n",
       "    <tr>\n",
       "      <th>61</th>\n",
       "      <td>Belear MJT 38 Inch Black, Acoustic Guitar, Wit...</td>\n",
       "      <td></td>\n",
       "      <td>₹5,471</td>\n",
       "      <td>Sunday, April 3</td>\n",
       "      <td>https://www.amazon.in/Belear-MJT-Acoustic-Guit...</td>\n",
       "    </tr>\n",
       "    <tr>\n",
       "      <th>62</th>\n",
       "      <td>TECHBLAZE 6 Pcs Guitar Keys for Acoustic Guita...</td>\n",
       "      <td></td>\n",
       "      <td>₹9,999</td>\n",
       "      <td>Friday, April 1</td>\n",
       "      <td>https://www.amazon.in/TECHBLAZE-Guitar-Acousti...</td>\n",
       "    </tr>\n",
       "    <tr>\n",
       "      <th>63</th>\n",
       "      <td>Juarez JRZ-ST02 6-String Electric Guitar, Righ...</td>\n",
       "      <td></td>\n",
       "      <td>₹3,350</td>\n",
       "      <td>Monday, April 4</td>\n",
       "      <td>https://www.amazon.in/Juarez-JRZ-ST01-6-String...</td>\n",
       "    </tr>\n",
       "    <tr>\n",
       "      <th>64</th>\n",
       "      <td>Tanglewood Crossroads TWCR D Acoustic Guitar, ...</td>\n",
       "      <td></td>\n",
       "      <td>₹5,999</td>\n",
       "      <td>Tomorrow, March 31</td>\n",
       "      <td>https://www.amazon.in/Tanglewood-Crossroads-Ac...</td>\n",
       "    </tr>\n",
       "    <tr>\n",
       "      <th>65</th>\n",
       "      <td>A,Acoustio 41 inch 21 fret black matt finish v...</td>\n",
       "      <td></td>\n",
       "      <td>₹4,208</td>\n",
       "      <td>Tomorrow, March 31</td>\n",
       "      <td>https://www.amazon.in/Acoustio-venus-acoustic-...</td>\n",
       "    </tr>\n",
       "  </tbody>\n",
       "</table>\n",
       "<p>66 rows × 5 columns</p>\n",
       "</div>"
      ],
      "text/plain": [
       "                                         Product_name rating   Price  \\\n",
       "0   Kadence Frontier guitar with Online Guitar lea...         ₹5,299   \n",
       "1   Festra 38C, 38 Inch Acoustic Guitar Kit with B...         ₹2,695   \n",
       "2   Vault Traveller 34 Inch Acoustic Guitar With B...         ₹3,999   \n",
       "3   GUITAR BRO - COMBO (Black Acoustic Guitar for ...         ₹6,499   \n",
       "4   Juarez Acoustic Guitar, 38 Inch Curved Body Cu...         ₹2,520   \n",
       "..                                                ...    ...     ...   \n",
       "61  Belear MJT 38 Inch Black, Acoustic Guitar, Wit...         ₹5,471   \n",
       "62  TECHBLAZE 6 Pcs Guitar Keys for Acoustic Guita...         ₹9,999   \n",
       "63  Juarez JRZ-ST02 6-String Electric Guitar, Righ...         ₹3,350   \n",
       "64  Tanglewood Crossroads TWCR D Acoustic Guitar, ...         ₹5,999   \n",
       "65  A,Acoustio 41 inch 21 fret black matt finish v...         ₹4,208   \n",
       "\n",
       "              Delivery                                                Url  \n",
       "0   Tomorrow, March 31  https://www.amazon.in/gp/slredirect/picassoRed...  \n",
       "1      Friday, April 1  https://www.amazon.in/gp/slredirect/picassoRed...  \n",
       "2      Sunday, April 3  https://www.amazon.in/gp/slredirect/picassoRed...  \n",
       "3      Friday, April 1  https://www.amazon.in/gp/slredirect/picassoRed...  \n",
       "4      Monday, April 4  https://www.amazon.in/Juarez-Acoustic-Guitar-C...  \n",
       "..                 ...                                                ...  \n",
       "61     Sunday, April 3  https://www.amazon.in/Belear-MJT-Acoustic-Guit...  \n",
       "62     Friday, April 1  https://www.amazon.in/TECHBLAZE-Guitar-Acousti...  \n",
       "63     Monday, April 4  https://www.amazon.in/Juarez-JRZ-ST01-6-String...  \n",
       "64  Tomorrow, March 31  https://www.amazon.in/Tanglewood-Crossroads-Ac...  \n",
       "65  Tomorrow, March 31  https://www.amazon.in/Acoustio-venus-acoustic-...  \n",
       "\n",
       "[66 rows x 5 columns]"
      ]
     },
     "execution_count": 52,
     "metadata": {},
     "output_type": "execute_result"
    }
   ],
   "source": [
    "guitar=pd.DataFrame()\n",
    "guitar['Product_name']=Product_name[:66]\n",
    "guitar['rating']=Rating[:66]\n",
    "guitar['Price']=Price[:66]\n",
    "guitar['Delivery']=Delivry[:66]\n",
    "guitar['Url']=Url[:66]\n",
    "guitar"
   ]
  },
  {
   "cell_type": "code",
   "execution_count": 53,
   "id": "942c99eb",
   "metadata": {},
   "outputs": [],
   "source": [
    "guitar.to_csv(\"Guitar\")"
   ]
  },
  {
   "cell_type": "code",
   "execution_count": null,
   "id": "452382ad",
   "metadata": {},
   "outputs": [],
   "source": []
  },
  {
   "cell_type": "code",
   "execution_count": null,
   "id": "c381e769",
   "metadata": {},
   "outputs": [],
   "source": []
  },
  {
   "cell_type": "code",
   "execution_count": null,
   "id": "d9532f01",
   "metadata": {},
   "outputs": [],
   "source": []
  },
  {
   "cell_type": "code",
   "execution_count": null,
   "id": "01ee4047",
   "metadata": {},
   "outputs": [],
   "source": []
  },
  {
   "cell_type": "code",
   "execution_count": null,
   "id": "87d800d9",
   "metadata": {},
   "outputs": [],
   "source": []
  },
  {
   "cell_type": "code",
   "execution_count": null,
   "id": "be290022",
   "metadata": {},
   "outputs": [],
   "source": []
  },
  {
   "cell_type": "code",
   "execution_count": null,
   "id": "c894b840",
   "metadata": {},
   "outputs": [],
   "source": []
  },
  {
   "cell_type": "code",
   "execution_count": null,
   "id": "78c8dc57",
   "metadata": {},
   "outputs": [],
   "source": []
  },
  {
   "cell_type": "code",
   "execution_count": null,
   "id": "b21d9bc3",
   "metadata": {},
   "outputs": [],
   "source": []
  },
  {
   "cell_type": "code",
   "execution_count": null,
   "id": "6e246459",
   "metadata": {},
   "outputs": [],
   "source": []
  },
  {
   "cell_type": "markdown",
   "id": "cfcc3d31",
   "metadata": {},
   "source": [
    "3. Write a python program to access the search bar and search button on images.google.com and scrape 10 images each for keywords ‘fruits’, ‘cars’ and ‘Machine Learning’, ‘Guitar’, ‘Cakes’."
   ]
  },
  {
   "cell_type": "code",
   "execution_count": 54,
   "id": "bf5530c3",
   "metadata": {},
   "outputs": [],
   "source": [
    "url2='https://images.google.com/?gws_rd=ssl'\n",
    "driver.get(url2)\n",
    "    "
   ]
  },
  {
   "cell_type": "code",
   "execution_count": 55,
   "id": "0110fb80",
   "metadata": {},
   "outputs": [],
   "source": [
    "srch_bar=driver.find_element_by_xpath('//*[@id=\"sbtc\"]/div/div[2]/input')\n",
    "srch_bar.send_keys('fruits')"
   ]
  },
  {
   "cell_type": "code",
   "execution_count": 56,
   "id": "3822f6a0",
   "metadata": {},
   "outputs": [],
   "source": [
    "srch_btn=driver.find_element_by_xpath('//*[@id=\"sbtc\"]/button')\n",
    "srch_btn.click()"
   ]
  },
  {
   "cell_type": "code",
   "execution_count": 57,
   "id": "cf53dcc8",
   "metadata": {},
   "outputs": [],
   "source": [
    "driver.execute_script(\"window.scrollBy(0,80000)\" \"\")"
   ]
  },
  {
   "cell_type": "code",
   "execution_count": 58,
   "id": "630ee4d8",
   "metadata": {},
   "outputs": [],
   "source": [
    "fruits=[]\n",
    "frt=driver.find_elements_by_xpath(\"//img[@class='rg_i Q4LuWd']\")\n",
    "for i in frt[0:10]:\n",
    "    fruits.append(i.get_attribute('src'))\n"
   ]
  },
  {
   "cell_type": "code",
   "execution_count": 59,
   "id": "79709cbd",
   "metadata": {},
   "outputs": [
    {
     "data": {
      "text/plain": [
       "10"
      ]
     },
     "execution_count": 59,
     "metadata": {},
     "output_type": "execute_result"
    }
   ],
   "source": [
    "len(fruits)"
   ]
  },
  {
   "cell_type": "code",
   "execution_count": 62,
   "id": "a10d0dab",
   "metadata": {},
   "outputs": [],
   "source": [
    "srch_bar=driver.find_element_by_xpath('//*[@id=\"REsRA\"]')\n",
    "srch_bar.send_keys('Cars')"
   ]
  },
  {
   "cell_type": "code",
   "execution_count": 63,
   "id": "1e134663",
   "metadata": {},
   "outputs": [],
   "source": [
    "srch_btn=driver.find_element_by_xpath('//*[@id=\"BIqFsb\"]/div/span')\n",
    "srch_btn.click()"
   ]
  },
  {
   "cell_type": "code",
   "execution_count": 64,
   "id": "08ee1a96",
   "metadata": {},
   "outputs": [
    {
     "data": {
      "text/plain": [
       "10"
      ]
     },
     "execution_count": 64,
     "metadata": {},
     "output_type": "execute_result"
    }
   ],
   "source": [
    "Cars=[]\n",
    "car=driver.find_elements_by_xpath(\"//img[@class='rg_i Q4LuWd']\")\n",
    "for i in car[0:10]:\n",
    "    Cars.append(i.get_attribute('src'))\n",
    "len(Cars)"
   ]
  },
  {
   "cell_type": "code",
   "execution_count": 65,
   "id": "883ba792",
   "metadata": {},
   "outputs": [],
   "source": [
    "srch_bar=driver.find_element_by_xpath('//*[@id=\"REsRA\"]')\n",
    "srch_bar.send_keys('Machine Learning')"
   ]
  },
  {
   "cell_type": "code",
   "execution_count": 66,
   "id": "1f98267c",
   "metadata": {},
   "outputs": [],
   "source": [
    "srch_btn=driver.find_element_by_xpath('//*[@id=\"BIqFsb\"]/div/span')\n",
    "srch_btn.click()"
   ]
  },
  {
   "cell_type": "code",
   "execution_count": 67,
   "id": "3761d79a",
   "metadata": {},
   "outputs": [
    {
     "data": {
      "text/plain": [
       "10"
      ]
     },
     "execution_count": 67,
     "metadata": {},
     "output_type": "execute_result"
    }
   ],
   "source": [
    "Machine=[]\n",
    "machine=driver.find_elements_by_xpath(\"//img[@class='rg_i Q4LuWd']\")\n",
    "for i in machine[0:10]:\n",
    "    Machine.append(i.get_attribute('src'))\n",
    "len(Machine)"
   ]
  },
  {
   "cell_type": "code",
   "execution_count": 68,
   "id": "257f1005",
   "metadata": {},
   "outputs": [],
   "source": [
    "srch_bar=driver.find_element_by_xpath('//*[@id=\"REsRA\"]')\n",
    "srch_bar.send_keys('Guitar')\n",
    "srch_btn=driver.find_element_by_xpath('//*[@id=\"BIqFsb\"]/div/span')\n",
    "srch_btn.click()"
   ]
  },
  {
   "cell_type": "code",
   "execution_count": 69,
   "id": "7332a241",
   "metadata": {},
   "outputs": [
    {
     "data": {
      "text/plain": [
       "10"
      ]
     },
     "execution_count": 69,
     "metadata": {},
     "output_type": "execute_result"
    }
   ],
   "source": [
    "Guitar=[]\n",
    "guitar=driver.find_elements_by_xpath(\"//img[@class='rg_i Q4LuWd']\")\n",
    "for i in guitar[0:10]:\n",
    "    Guitar.append(i.get_attribute('src'))\n",
    "len(Guitar)"
   ]
  },
  {
   "cell_type": "code",
   "execution_count": 70,
   "id": "c3bd6604",
   "metadata": {},
   "outputs": [],
   "source": [
    "srch_bar=driver.find_element_by_xpath('//*[@id=\"REsRA\"]')\n",
    "srch_bar.send_keys('Cakes')\n",
    "srch_btn=driver.find_element_by_xpath('//*[@id=\"BIqFsb\"]/div/span')\n",
    "srch_btn.click()"
   ]
  },
  {
   "cell_type": "code",
   "execution_count": 71,
   "id": "e7b19acd",
   "metadata": {},
   "outputs": [
    {
     "data": {
      "text/plain": [
       "10"
      ]
     },
     "execution_count": 71,
     "metadata": {},
     "output_type": "execute_result"
    }
   ],
   "source": [
    "Cakes=[]\n",
    "cakes=driver.find_elements_by_xpath(\"//img[@class='rg_i Q4LuWd']\")\n",
    "for i in cakes[0:10]:\n",
    "    Cakes.append(i.get_attribute('src'))\n",
    "len(Cakes)"
   ]
  },
  {
   "cell_type": "markdown",
   "id": "40bbadf5",
   "metadata": {},
   "source": [
    "4. Write a python program to search for a smartphone(e.g.: Oneplus Nord, pixel 4A, etc.) on www.flipkart.com and scrape following details for all the search results displayed on 1st page. Details to be scraped: “Brand Name”, “Smartphone name”, “Colour”, “RAM”, “Storage(ROM)”, “Primary Camera”, “Secondary Camera”, “Display Size”, “Battery Capacity”, “Price”, “Product URL”. Incase if any of the details is missing then replace it by “- “. Save your results in a dataframe and CSV."
   ]
  },
  {
   "cell_type": "code",
   "execution_count": 72,
   "id": "5f447372",
   "metadata": {},
   "outputs": [],
   "source": [
    "url3='https://www.flipkart.com/'\n",
    "driver.get(url3)"
   ]
  },
  {
   "cell_type": "code",
   "execution_count": 73,
   "id": "cd4efa00",
   "metadata": {},
   "outputs": [],
   "source": [
    "srch_bar=driver.find_element_by_xpath('//*[@id=\"container\"]/div/div[1]/div[1]/div[2]/div[2]/form/div/div/input')"
   ]
  },
  {
   "cell_type": "code",
   "execution_count": 74,
   "id": "7ec6e37a",
   "metadata": {},
   "outputs": [],
   "source": [
    "srch_bar.send_keys('Smart phones')"
   ]
  },
  {
   "cell_type": "code",
   "execution_count": 75,
   "id": "45c8c420",
   "metadata": {},
   "outputs": [],
   "source": [
    "cross_btn=driver.find_element_by_xpath('/html/body/div[2]/div/div/button').click()"
   ]
  },
  {
   "cell_type": "code",
   "execution_count": 76,
   "id": "9b6396f3",
   "metadata": {},
   "outputs": [],
   "source": [
    "srch_btn=driver.find_element_by_xpath('//*[@id=\"container\"]/div/div[1]/div[1]/div[2]/div[2]/form/div/button')\n",
    "srch_btn.click()"
   ]
  },
  {
   "cell_type": "code",
   "execution_count": 79,
   "id": "2bbea1e9",
   "metadata": {},
   "outputs": [],
   "source": [
    "prolink=[]\n",
    "pro_url=driver.find_elements_by_xpath('//a[@class=\"_1fQZEK\"]')\n",
    "for i in pro_url:\n",
    "    prolink.append(i.get_attribute('href'))"
   ]
  },
  {
   "cell_type": "code",
   "execution_count": 80,
   "id": "fd27edc2",
   "metadata": {},
   "outputs": [
    {
     "data": {
      "text/plain": [
       "24"
      ]
     },
     "execution_count": 80,
     "metadata": {},
     "output_type": "execute_result"
    }
   ],
   "source": [
    "len(prolink)"
   ]
  },
  {
   "cell_type": "code",
   "execution_count": 81,
   "id": "a686f431",
   "metadata": {},
   "outputs": [],
   "source": [
    "from selenium.common.exceptions import StaleElementReferenceException, NoSuchElementException"
   ]
  },
  {
   "cell_type": "code",
   "execution_count": 82,
   "id": "05727391",
   "metadata": {},
   "outputs": [],
   "source": [
    "product_name=[]\n",
    "prdct=driver.find_elements_by_xpath('//div[@class=\"_4rR01T\"]')\n",
    "for i in prdct:\n",
    "    try:\n",
    "        product_name.append(i.text)\n",
    "    except:\n",
    "        product_name.append(\"_\")\n",
    "        "
   ]
  },
  {
   "cell_type": "code",
   "execution_count": 83,
   "id": "943676ff",
   "metadata": {},
   "outputs": [
    {
     "data": {
      "text/plain": [
       "24"
      ]
     },
     "execution_count": 83,
     "metadata": {},
     "output_type": "execute_result"
    }
   ],
   "source": [
    "product_name\n",
    "len(product_name)"
   ]
  },
  {
   "cell_type": "code",
   "execution_count": 84,
   "id": "e88db3b2",
   "metadata": {},
   "outputs": [
    {
     "data": {
      "text/plain": [
       "24"
      ]
     },
     "execution_count": 84,
     "metadata": {},
     "output_type": "execute_result"
    }
   ],
   "source": [
    "price=[]\n",
    "prs=driver.find_elements_by_xpath('//div[@class=\"_30jeq3 _1_WHN1\"]')\n",
    "for i in prs:\n",
    "        price.append(i.text)\n",
    "    \n",
    "len(price)        "
   ]
  },
  {
   "cell_type": "code",
   "execution_count": 86,
   "id": "ab2e1ca1",
   "metadata": {},
   "outputs": [
    {
     "data": {
      "text/plain": [
       "24"
      ]
     },
     "execution_count": 86,
     "metadata": {},
     "output_type": "execute_result"
    }
   ],
   "source": [
    "Ram=[]\n",
    "rm=driver.find_elements_by_xpath('//ul[@class=\"_1xgFaf\"]/li[1]')\n",
    "for i in rm:\n",
    "    Ram.append(i.text)\n",
    "    \n",
    "len(Ram)        "
   ]
  },
  {
   "cell_type": "code",
   "execution_count": 87,
   "id": "b942a42d",
   "metadata": {},
   "outputs": [
    {
     "data": {
      "text/plain": [
       "24"
      ]
     },
     "execution_count": 87,
     "metadata": {},
     "output_type": "execute_result"
    }
   ],
   "source": [
    "display=[]\n",
    "dis=driver.find_elements_by_xpath('//ul[@class=\"_1xgFaf\"]/li[2]')\n",
    "for i in dis:\n",
    "    display.append(i.text)\n",
    "    \n",
    "len(display)        "
   ]
  },
  {
   "cell_type": "code",
   "execution_count": 88,
   "id": "3c86851c",
   "metadata": {},
   "outputs": [
    {
     "data": {
      "text/plain": [
       "24"
      ]
     },
     "execution_count": 88,
     "metadata": {},
     "output_type": "execute_result"
    }
   ],
   "source": [
    "Camera=[]\n",
    "cm=driver.find_elements_by_xpath('//ul[@class=\"_1xgFaf\"]/li[3]')\n",
    "for i in cm:\n",
    "    Camera.append(i.text)\n",
    "    \n",
    "len(Camera)        "
   ]
  },
  {
   "cell_type": "code",
   "execution_count": 89,
   "id": "afcaa19e",
   "metadata": {},
   "outputs": [
    {
     "data": {
      "text/plain": [
       "24"
      ]
     },
     "execution_count": 89,
     "metadata": {},
     "output_type": "execute_result"
    }
   ],
   "source": [
    "battery=[]\n",
    "bt=driver.find_elements_by_xpath('//ul[@class=\"_1xgFaf\"]/li[4]')\n",
    "for i in bt:\n",
    "     battery.append(i.text)\n",
    "    \n",
    "len(battery)        "
   ]
  },
  {
   "cell_type": "code",
   "execution_count": 90,
   "id": "6e98f01e",
   "metadata": {},
   "outputs": [
    {
     "data": {
      "text/plain": [
       "24"
      ]
     },
     "execution_count": 90,
     "metadata": {},
     "output_type": "execute_result"
    }
   ],
   "source": [
    "processor=[]\n",
    "proce=driver.find_elements_by_xpath('//ul[@class=\"_1xgFaf\"]/li[5]')\n",
    "for i in proce:\n",
    "     processor.append(i.text)\n",
    "    \n",
    "len(processor)        "
   ]
  },
  {
   "cell_type": "code",
   "execution_count": 91,
   "id": "9a0488a6",
   "metadata": {},
   "outputs": [
    {
     "data": {
      "text/plain": [
       "24"
      ]
     },
     "execution_count": 91,
     "metadata": {},
     "output_type": "execute_result"
    }
   ],
   "source": [
    "warranty=[]\n",
    "wrn=driver.find_elements_by_xpath('//ul[@class=\"_1xgFaf\"]/li[6]')\n",
    "for i in wrn:\n",
    "    warranty.append(i.text)\n",
    "    \n",
    "len(warranty)        "
   ]
  },
  {
   "cell_type": "code",
   "execution_count": 92,
   "id": "433ea6b4",
   "metadata": {},
   "outputs": [],
   "source": [
    "smartphone=pd.DataFrame({})"
   ]
  },
  {
   "cell_type": "code",
   "execution_count": 93,
   "id": "fa138c47",
   "metadata": {},
   "outputs": [],
   "source": [
    "smartphone['Name']=product_name\n",
    "smartphone['Price']=price\n",
    "smartphone['RAM/ROM']=Ram\n",
    "smartphone['Display']=display\n",
    "smartphone['Camera']=Camera\n",
    "smartphone['Battery']=battery\n",
    "smartphone['processor']=processor\n",
    "smartphone['Warranty']=warranty\n",
    "smartphone['Url']=prolink"
   ]
  },
  {
   "cell_type": "code",
   "execution_count": 94,
   "id": "2e543395",
   "metadata": {},
   "outputs": [
    {
     "data": {
      "text/html": [
       "<div>\n",
       "<style scoped>\n",
       "    .dataframe tbody tr th:only-of-type {\n",
       "        vertical-align: middle;\n",
       "    }\n",
       "\n",
       "    .dataframe tbody tr th {\n",
       "        vertical-align: top;\n",
       "    }\n",
       "\n",
       "    .dataframe thead th {\n",
       "        text-align: right;\n",
       "    }\n",
       "</style>\n",
       "<table border=\"1\" class=\"dataframe\">\n",
       "  <thead>\n",
       "    <tr style=\"text-align: right;\">\n",
       "      <th></th>\n",
       "      <th>Name</th>\n",
       "      <th>Price</th>\n",
       "      <th>RAM/ROM</th>\n",
       "      <th>Display</th>\n",
       "      <th>Camera</th>\n",
       "      <th>Battery</th>\n",
       "      <th>processor</th>\n",
       "      <th>Warranty</th>\n",
       "      <th>Url</th>\n",
       "    </tr>\n",
       "  </thead>\n",
       "  <tbody>\n",
       "    <tr>\n",
       "      <th>0</th>\n",
       "      <td>realme C11 2021 (Cool Blue, 64 GB)</td>\n",
       "      <td>₹8,999</td>\n",
       "      <td>4 GB RAM | 64 GB ROM | Expandable Upto 256 GB</td>\n",
       "      <td>16.51 cm (6.5 inch) HD+ Display</td>\n",
       "      <td>8MP Rear Camera | 5MP Front Camera</td>\n",
       "      <td>5000 mAh Battery</td>\n",
       "      <td>Octa-core Processor</td>\n",
       "      <td>1 Year Warranty for Mobile and 6 Months for Ac...</td>\n",
       "      <td>https://www.flipkart.com/realme-c11-2021-cool-...</td>\n",
       "    </tr>\n",
       "    <tr>\n",
       "      <th>1</th>\n",
       "      <td>realme C11 2021 (Cool Grey, 64 GB)</td>\n",
       "      <td>₹8,999</td>\n",
       "      <td>4 GB RAM | 64 GB ROM | Expandable Upto 256 GB</td>\n",
       "      <td>16.51 cm (6.5 inch) HD+ Display</td>\n",
       "      <td>8MP Rear Camera | 5MP Front Camera</td>\n",
       "      <td>5000 mAh Battery</td>\n",
       "      <td>Octa-core Processor</td>\n",
       "      <td>1 Year Warranty for Mobile and 6 Months for Ac...</td>\n",
       "      <td>https://www.flipkart.com/realme-c11-2021-cool-...</td>\n",
       "    </tr>\n",
       "    <tr>\n",
       "      <th>2</th>\n",
       "      <td>REDMI 9i Sport (Carbon Black, 64 GB)</td>\n",
       "      <td>₹8,399</td>\n",
       "      <td>4 GB RAM | 64 GB ROM | Expandable Upto 512 GB</td>\n",
       "      <td>16.59 cm (6.53 inch) HD+ Display</td>\n",
       "      <td>13MP Rear Camera | 5MP Front Camera</td>\n",
       "      <td>5000 mAh Li-Polymer Battery</td>\n",
       "      <td>MediaTek Helio G25 Processor</td>\n",
       "      <td>Brand Warranty of 1 Year Available for Mobile ...</td>\n",
       "      <td>https://www.flipkart.com/redmi-9i-sport-carbon...</td>\n",
       "    </tr>\n",
       "    <tr>\n",
       "      <th>3</th>\n",
       "      <td>REDMI 9i Sport (Coral Green, 64 GB)</td>\n",
       "      <td>₹8,399</td>\n",
       "      <td>4 GB RAM | 64 GB ROM | Expandable Upto 512 GB</td>\n",
       "      <td>16.59 cm (6.53 inch) HD+ Display</td>\n",
       "      <td>13MP Rear Camera | 5MP Front Camera</td>\n",
       "      <td>5000 mAh Li-Polymer Battery</td>\n",
       "      <td>MediaTek Helio G25 Processor</td>\n",
       "      <td>Brand Warranty of 1 Year Available for Mobile ...</td>\n",
       "      <td>https://www.flipkart.com/redmi-9i-sport-coral-...</td>\n",
       "    </tr>\n",
       "    <tr>\n",
       "      <th>4</th>\n",
       "      <td>POCO C31 (Royal Blue, 64 GB)</td>\n",
       "      <td>₹8,999</td>\n",
       "      <td>4 GB RAM | 64 GB ROM | Expandable Upto 512 GB</td>\n",
       "      <td>16.59 cm (6.53 inch) HD+ Display</td>\n",
       "      <td>13MP + 2MP + 2MP | 5MP Front Camera</td>\n",
       "      <td>5000 mAh Lithium-ion Polymer Battery</td>\n",
       "      <td>MediaTek Helio G35 Processor</td>\n",
       "      <td>1 Year Warranty for Handset, 6 Months for Acce...</td>\n",
       "      <td>https://www.flipkart.com/poco-c31-royal-blue-6...</td>\n",
       "    </tr>\n",
       "    <tr>\n",
       "      <th>5</th>\n",
       "      <td>realme C20 (Cool Blue, 32 GB)</td>\n",
       "      <td>₹7,499</td>\n",
       "      <td>2 GB RAM | 32 GB ROM | Expandable Upto 256 GB</td>\n",
       "      <td>16.51 cm (6.5 inch) HD+ Display</td>\n",
       "      <td>8MP Rear Camera | 5MP Front Camera</td>\n",
       "      <td>5000 mAh Battery</td>\n",
       "      <td>MediaTek Helio G35 Processor</td>\n",
       "      <td>1 Year Warranty for Mobile and 6 Months for Ac...</td>\n",
       "      <td>https://www.flipkart.com/realme-c20-cool-blue-...</td>\n",
       "    </tr>\n",
       "    <tr>\n",
       "      <th>6</th>\n",
       "      <td>realme C20 (Cool Grey, 32 GB)</td>\n",
       "      <td>₹7,499</td>\n",
       "      <td>2 GB RAM | 32 GB ROM | Expandable Upto 256 GB</td>\n",
       "      <td>16.51 cm (6.5 inch) HD+ Display</td>\n",
       "      <td>8MP Rear Camera | 5MP Front Camera</td>\n",
       "      <td>5000 mAh Battery</td>\n",
       "      <td>MediaTek Helio G35 Processor</td>\n",
       "      <td>1 Year Warranty for Mobile and 6 Months for Ac...</td>\n",
       "      <td>https://www.flipkart.com/realme-c20-cool-grey-...</td>\n",
       "    </tr>\n",
       "    <tr>\n",
       "      <th>7</th>\n",
       "      <td>realme C25Y (Metal Grey, 64 GB)</td>\n",
       "      <td>₹10,999</td>\n",
       "      <td>4 GB RAM | 64 GB ROM | Expandable Upto 256 GB</td>\n",
       "      <td>16.51 cm (6.5 inch) HD+ Display</td>\n",
       "      <td>50MP + 2MP + 2MP | 8MP Front Camera</td>\n",
       "      <td>5000 mAh Battery</td>\n",
       "      <td>Unisoc T610 Octa Core Processor</td>\n",
       "      <td>1 Year Warranty for Mobile and 6 Months for Ac...</td>\n",
       "      <td>https://www.flipkart.com/realme-c25y-metal-gre...</td>\n",
       "    </tr>\n",
       "    <tr>\n",
       "      <th>8</th>\n",
       "      <td>POCO C31 (Shadow Gray, 64 GB)</td>\n",
       "      <td>₹8,999</td>\n",
       "      <td>4 GB RAM | 64 GB ROM | Expandable Upto 512 GB</td>\n",
       "      <td>16.59 cm (6.53 inch) HD+ Display</td>\n",
       "      <td>13MP + 2MP + 2MP | 5MP Front Camera</td>\n",
       "      <td>5000 mAh Lithium-ion Polymer Battery</td>\n",
       "      <td>MediaTek Helio G35 Processor</td>\n",
       "      <td>1 Year Warranty for Handset, 6 Months for Acce...</td>\n",
       "      <td>https://www.flipkart.com/poco-c31-shadow-gray-...</td>\n",
       "    </tr>\n",
       "    <tr>\n",
       "      <th>9</th>\n",
       "      <td>realme C21Y (Cross Black, 64 GB)</td>\n",
       "      <td>₹10,499</td>\n",
       "      <td>4 GB RAM | 64 GB ROM | Expandable Upto 256 GB</td>\n",
       "      <td>16.51 cm (6.5 inch) HD+ Display</td>\n",
       "      <td>13MP + 2MP + 2MP | 5MP Front Camera</td>\n",
       "      <td>5000 mAh Battery</td>\n",
       "      <td>Unisoc T610 Processor</td>\n",
       "      <td>1 Year Warranty for Mobile and 6 Months for Ac...</td>\n",
       "      <td>https://www.flipkart.com/realme-c21y-cross-bla...</td>\n",
       "    </tr>\n",
       "    <tr>\n",
       "      <th>10</th>\n",
       "      <td>realme C21Y (Cross Blue, 64 GB)</td>\n",
       "      <td>₹10,499</td>\n",
       "      <td>4 GB RAM | 64 GB ROM | Expandable Upto 256 GB</td>\n",
       "      <td>16.51 cm (6.5 inch) HD+ Display</td>\n",
       "      <td>13MP + 2MP + 2MP | 5MP Front Camera</td>\n",
       "      <td>5000 mAh Battery</td>\n",
       "      <td>Unisoc T610 Processor</td>\n",
       "      <td>1 Year Warranty for Mobile and 6 Months for Ac...</td>\n",
       "      <td>https://www.flipkart.com/realme-c21y-cross-blu...</td>\n",
       "    </tr>\n",
       "    <tr>\n",
       "      <th>11</th>\n",
       "      <td>MOTOROLA G60 (Moonless, 128 GB)</td>\n",
       "      <td>₹17,499</td>\n",
       "      <td>6 GB RAM | 128 GB ROM</td>\n",
       "      <td>17.22 cm (6.78 inch) Full HD+ Display</td>\n",
       "      <td>108MP + 8MP + 2MP | 32MP Front Camera</td>\n",
       "      <td>6000 mAh Battery</td>\n",
       "      <td>Qualcomm Snapdragon 732G Processor</td>\n",
       "      <td>120Hz Refresh Rate</td>\n",
       "      <td>https://www.flipkart.com/motorola-g60-moonless...</td>\n",
       "    </tr>\n",
       "    <tr>\n",
       "      <th>12</th>\n",
       "      <td>realme C21Y (Cross Blue, 32 GB)</td>\n",
       "      <td>₹9,275</td>\n",
       "      <td>3 GB RAM | 32 GB ROM | Expandable Upto 256 GB</td>\n",
       "      <td>16.51 cm (6.5 inch) HD+ Display</td>\n",
       "      <td>13MP + 2MP + 2MP | 5MP Front Camera</td>\n",
       "      <td>5000 mAh Battery</td>\n",
       "      <td>Unisoc T610 Processor</td>\n",
       "      <td>1 Year Warranty for Mobile and 6 Months for Ac...</td>\n",
       "      <td>https://www.flipkart.com/realme-c21y-cross-blu...</td>\n",
       "    </tr>\n",
       "    <tr>\n",
       "      <th>13</th>\n",
       "      <td>MOTOROLA G60 (Soft Silver, 128 GB)</td>\n",
       "      <td>₹17,499</td>\n",
       "      <td>6 GB RAM | 128 GB ROM</td>\n",
       "      <td>17.22 cm (6.78 inch) Full HD+ Display</td>\n",
       "      <td>108MP + 8MP + 2MP | 32MP Front Camera</td>\n",
       "      <td>6000 mAh Battery</td>\n",
       "      <td>Qualcomm Snapdragon 732G Processor</td>\n",
       "      <td>120Hz Refresh Rate</td>\n",
       "      <td>https://www.flipkart.com/motorola-g60-soft-sil...</td>\n",
       "    </tr>\n",
       "    <tr>\n",
       "      <th>14</th>\n",
       "      <td>POCO M3 Pro 5G (Yellow, 64 GB)</td>\n",
       "      <td>₹11,999</td>\n",
       "      <td>4 GB RAM | 64 GB ROM | Expandable Upto 1 TB</td>\n",
       "      <td>16.51 cm (6.5 inch) Full HD+ Display</td>\n",
       "      <td>48MP + 2MP + 2MP | 8MP Front Camera</td>\n",
       "      <td>5000 mAh Lithium-ion Polymer Battery</td>\n",
       "      <td>MediaTek Dimensity 700 Processor</td>\n",
       "      <td>Multiple Hands-free Voice Assistant</td>\n",
       "      <td>https://www.flipkart.com/poco-m3-pro-5g-yellow...</td>\n",
       "    </tr>\n",
       "    <tr>\n",
       "      <th>15</th>\n",
       "      <td>Infinix Note 11 (Graphite Black, 64 GB)</td>\n",
       "      <td>₹10,499</td>\n",
       "      <td>4 GB RAM | 64 GB ROM | Expandable Upto 512 GB</td>\n",
       "      <td>17.02 cm (6.7 inch) Full HD+ AMOLED Display</td>\n",
       "      <td>50 MP + 2 MP + AI Lens | 16MP Front Camera</td>\n",
       "      <td>5000 mAh Li-ion Polymer Battery</td>\n",
       "      <td>Mediatek Helio G88 Processor</td>\n",
       "      <td>1 Year on Handset and 6 Months on Accessories</td>\n",
       "      <td>https://www.flipkart.com/infinix-note-11-graph...</td>\n",
       "    </tr>\n",
       "    <tr>\n",
       "      <th>16</th>\n",
       "      <td>POCO C31 (Royal Blue, 32 GB)</td>\n",
       "      <td>₹7,999</td>\n",
       "      <td>3 GB RAM | 32 GB ROM | Expandable Upto 512 GB</td>\n",
       "      <td>16.59 cm (6.53 inch) HD+ Display</td>\n",
       "      <td>13MP + 2MP + 2MP | 5MP Front Camera</td>\n",
       "      <td>5000 mAh Lithium-ion Polymer Battery</td>\n",
       "      <td>MediaTek Helio G35 Processor</td>\n",
       "      <td>1 Year Warranty for Handset, 6 Months for Acce...</td>\n",
       "      <td>https://www.flipkart.com/poco-c31-royal-blue-3...</td>\n",
       "    </tr>\n",
       "    <tr>\n",
       "      <th>17</th>\n",
       "      <td>REDMI 10 (Caribbean Green, 128 GB)</td>\n",
       "      <td>₹12,999</td>\n",
       "      <td>6 GB RAM | 128 GB ROM | Expandable Upto 1 TB</td>\n",
       "      <td>17.02 cm (6.7 inch) HD+ Display</td>\n",
       "      <td>50MP + 2MP | 5MP Front Camera</td>\n",
       "      <td>6000 mAh Lithium Polymer Battery</td>\n",
       "      <td>Qualcomm Snapdragon 680 Processor</td>\n",
       "      <td>1 Year Warranty for Phone and 6 Months Warrant...</td>\n",
       "      <td>https://www.flipkart.com/redmi-10-caribbean-gr...</td>\n",
       "    </tr>\n",
       "    <tr>\n",
       "      <th>18</th>\n",
       "      <td>REDMI 10 (Midnight Black, 128 GB)</td>\n",
       "      <td>₹12,999</td>\n",
       "      <td>6 GB RAM | 128 GB ROM | Expandable Upto 1 TB</td>\n",
       "      <td>17.02 cm (6.7 inch) HD+ Display</td>\n",
       "      <td>50MP + 2MP | 5MP Front Camera</td>\n",
       "      <td>6000 mAh Lithium Polymer Battery</td>\n",
       "      <td>Qualcomm Snapdragon 680 Processor</td>\n",
       "      <td>1 Year Warranty for Phone and 6 Months Warrant...</td>\n",
       "      <td>https://www.flipkart.com/redmi-10-midnight-bla...</td>\n",
       "    </tr>\n",
       "    <tr>\n",
       "      <th>19</th>\n",
       "      <td>POCO M3 Pro 5G (Cool Blue, 128 GB)</td>\n",
       "      <td>₹13,999</td>\n",
       "      <td>6 GB RAM | 128 GB ROM | Expandable Upto 1 TB</td>\n",
       "      <td>16.51 cm (6.5 inch) Full HD+ Display</td>\n",
       "      <td>48MP + 2MP + 2MP | 8MP Front Camera</td>\n",
       "      <td>5000 mAh Lithium-ion Polymer Battery</td>\n",
       "      <td>MediaTek Dimensity 700 Processor</td>\n",
       "      <td>Multiple Hands-free Voice Assistant</td>\n",
       "      <td>https://www.flipkart.com/poco-m3-pro-5g-cool-b...</td>\n",
       "    </tr>\n",
       "    <tr>\n",
       "      <th>20</th>\n",
       "      <td>Infinix Note 11 (Graphite Black, 128 GB)</td>\n",
       "      <td>₹12,499</td>\n",
       "      <td>6 GB RAM | 128 GB ROM | Expandable Upto 512 GB</td>\n",
       "      <td>17.02 cm (6.7 inch) Full HD+ AMOLED Display</td>\n",
       "      <td>50 MP + 2 MP Depth Lens + AI Lens | 16MP Front...</td>\n",
       "      <td>5000 mAh Li-ion Polymer Battery</td>\n",
       "      <td>Mediatek Helio G88 Processor</td>\n",
       "      <td>1 Year on Handset and 6 Months on Accessories</td>\n",
       "      <td>https://www.flipkart.com/infinix-note-11-graph...</td>\n",
       "    </tr>\n",
       "    <tr>\n",
       "      <th>21</th>\n",
       "      <td>realme 9i (Prism Black, 128 GB)</td>\n",
       "      <td>₹14,999</td>\n",
       "      <td>4 GB RAM | 128 GB ROM | Expandable Upto 1 TB</td>\n",
       "      <td>16.76 cm (6.6 inch) Full HD+ Display</td>\n",
       "      <td>50MP + 2MP + 2MP | 16MP Front Camera</td>\n",
       "      <td>5000 mAh Lithium ion Battery</td>\n",
       "      <td>Qualcomm Snapdragon 680 (SM6225) Processor</td>\n",
       "      <td>1 Year Manufacturer Warranty for Phone and 6 M...</td>\n",
       "      <td>https://www.flipkart.com/realme-9i-prism-black...</td>\n",
       "    </tr>\n",
       "    <tr>\n",
       "      <th>22</th>\n",
       "      <td>realme 8 (Cyber Silver, 128 GB)</td>\n",
       "      <td>₹15,999</td>\n",
       "      <td>4 GB RAM | 128 GB ROM | Expandable Upto 256 GB</td>\n",
       "      <td>16.26 cm (6.4 inch) Full HD+ Display</td>\n",
       "      <td>64MP + 8MP + 2MP + 2MP | 16MP Front Camera</td>\n",
       "      <td>5000 mAh Battery</td>\n",
       "      <td>MediaTek Helio G95 Processor</td>\n",
       "      <td>Super AMOLED Display</td>\n",
       "      <td>https://www.flipkart.com/realme-8-cyber-silver...</td>\n",
       "    </tr>\n",
       "    <tr>\n",
       "      <th>23</th>\n",
       "      <td>realme 8 (Cyber Black, 128 GB)</td>\n",
       "      <td>₹15,999</td>\n",
       "      <td>4 GB RAM | 128 GB ROM | Expandable Upto 256 GB</td>\n",
       "      <td>16.26 cm (6.4 inch) Full HD+ Display</td>\n",
       "      <td>64MP + 8MP + 2MP + 2MP | 16MP Front Camera</td>\n",
       "      <td>5000 mAh Battery</td>\n",
       "      <td>MediaTek Helio G95 Processor</td>\n",
       "      <td>Super AMOLED Display</td>\n",
       "      <td>https://www.flipkart.com/realme-8-cyber-black-...</td>\n",
       "    </tr>\n",
       "  </tbody>\n",
       "</table>\n",
       "</div>"
      ],
      "text/plain": [
       "                                        Name    Price  \\\n",
       "0         realme C11 2021 (Cool Blue, 64 GB)   ₹8,999   \n",
       "1         realme C11 2021 (Cool Grey, 64 GB)   ₹8,999   \n",
       "2       REDMI 9i Sport (Carbon Black, 64 GB)   ₹8,399   \n",
       "3        REDMI 9i Sport (Coral Green, 64 GB)   ₹8,399   \n",
       "4               POCO C31 (Royal Blue, 64 GB)   ₹8,999   \n",
       "5              realme C20 (Cool Blue, 32 GB)   ₹7,499   \n",
       "6              realme C20 (Cool Grey, 32 GB)   ₹7,499   \n",
       "7            realme C25Y (Metal Grey, 64 GB)  ₹10,999   \n",
       "8              POCO C31 (Shadow Gray, 64 GB)   ₹8,999   \n",
       "9           realme C21Y (Cross Black, 64 GB)  ₹10,499   \n",
       "10           realme C21Y (Cross Blue, 64 GB)  ₹10,499   \n",
       "11           MOTOROLA G60 (Moonless, 128 GB)  ₹17,499   \n",
       "12           realme C21Y (Cross Blue, 32 GB)   ₹9,275   \n",
       "13        MOTOROLA G60 (Soft Silver, 128 GB)  ₹17,499   \n",
       "14            POCO M3 Pro 5G (Yellow, 64 GB)  ₹11,999   \n",
       "15   Infinix Note 11 (Graphite Black, 64 GB)  ₹10,499   \n",
       "16              POCO C31 (Royal Blue, 32 GB)   ₹7,999   \n",
       "17        REDMI 10 (Caribbean Green, 128 GB)  ₹12,999   \n",
       "18         REDMI 10 (Midnight Black, 128 GB)  ₹12,999   \n",
       "19        POCO M3 Pro 5G (Cool Blue, 128 GB)  ₹13,999   \n",
       "20  Infinix Note 11 (Graphite Black, 128 GB)  ₹12,499   \n",
       "21           realme 9i (Prism Black, 128 GB)  ₹14,999   \n",
       "22           realme 8 (Cyber Silver, 128 GB)  ₹15,999   \n",
       "23            realme 8 (Cyber Black, 128 GB)  ₹15,999   \n",
       "\n",
       "                                           RAM/ROM  \\\n",
       "0    4 GB RAM | 64 GB ROM | Expandable Upto 256 GB   \n",
       "1    4 GB RAM | 64 GB ROM | Expandable Upto 256 GB   \n",
       "2    4 GB RAM | 64 GB ROM | Expandable Upto 512 GB   \n",
       "3    4 GB RAM | 64 GB ROM | Expandable Upto 512 GB   \n",
       "4    4 GB RAM | 64 GB ROM | Expandable Upto 512 GB   \n",
       "5    2 GB RAM | 32 GB ROM | Expandable Upto 256 GB   \n",
       "6    2 GB RAM | 32 GB ROM | Expandable Upto 256 GB   \n",
       "7    4 GB RAM | 64 GB ROM | Expandable Upto 256 GB   \n",
       "8    4 GB RAM | 64 GB ROM | Expandable Upto 512 GB   \n",
       "9    4 GB RAM | 64 GB ROM | Expandable Upto 256 GB   \n",
       "10   4 GB RAM | 64 GB ROM | Expandable Upto 256 GB   \n",
       "11                           6 GB RAM | 128 GB ROM   \n",
       "12   3 GB RAM | 32 GB ROM | Expandable Upto 256 GB   \n",
       "13                           6 GB RAM | 128 GB ROM   \n",
       "14     4 GB RAM | 64 GB ROM | Expandable Upto 1 TB   \n",
       "15   4 GB RAM | 64 GB ROM | Expandable Upto 512 GB   \n",
       "16   3 GB RAM | 32 GB ROM | Expandable Upto 512 GB   \n",
       "17    6 GB RAM | 128 GB ROM | Expandable Upto 1 TB   \n",
       "18    6 GB RAM | 128 GB ROM | Expandable Upto 1 TB   \n",
       "19    6 GB RAM | 128 GB ROM | Expandable Upto 1 TB   \n",
       "20  6 GB RAM | 128 GB ROM | Expandable Upto 512 GB   \n",
       "21    4 GB RAM | 128 GB ROM | Expandable Upto 1 TB   \n",
       "22  4 GB RAM | 128 GB ROM | Expandable Upto 256 GB   \n",
       "23  4 GB RAM | 128 GB ROM | Expandable Upto 256 GB   \n",
       "\n",
       "                                        Display  \\\n",
       "0               16.51 cm (6.5 inch) HD+ Display   \n",
       "1               16.51 cm (6.5 inch) HD+ Display   \n",
       "2              16.59 cm (6.53 inch) HD+ Display   \n",
       "3              16.59 cm (6.53 inch) HD+ Display   \n",
       "4              16.59 cm (6.53 inch) HD+ Display   \n",
       "5               16.51 cm (6.5 inch) HD+ Display   \n",
       "6               16.51 cm (6.5 inch) HD+ Display   \n",
       "7               16.51 cm (6.5 inch) HD+ Display   \n",
       "8              16.59 cm (6.53 inch) HD+ Display   \n",
       "9               16.51 cm (6.5 inch) HD+ Display   \n",
       "10              16.51 cm (6.5 inch) HD+ Display   \n",
       "11        17.22 cm (6.78 inch) Full HD+ Display   \n",
       "12              16.51 cm (6.5 inch) HD+ Display   \n",
       "13        17.22 cm (6.78 inch) Full HD+ Display   \n",
       "14         16.51 cm (6.5 inch) Full HD+ Display   \n",
       "15  17.02 cm (6.7 inch) Full HD+ AMOLED Display   \n",
       "16             16.59 cm (6.53 inch) HD+ Display   \n",
       "17              17.02 cm (6.7 inch) HD+ Display   \n",
       "18              17.02 cm (6.7 inch) HD+ Display   \n",
       "19         16.51 cm (6.5 inch) Full HD+ Display   \n",
       "20  17.02 cm (6.7 inch) Full HD+ AMOLED Display   \n",
       "21         16.76 cm (6.6 inch) Full HD+ Display   \n",
       "22         16.26 cm (6.4 inch) Full HD+ Display   \n",
       "23         16.26 cm (6.4 inch) Full HD+ Display   \n",
       "\n",
       "                                               Camera  \\\n",
       "0                  8MP Rear Camera | 5MP Front Camera   \n",
       "1                  8MP Rear Camera | 5MP Front Camera   \n",
       "2                 13MP Rear Camera | 5MP Front Camera   \n",
       "3                 13MP Rear Camera | 5MP Front Camera   \n",
       "4                 13MP + 2MP + 2MP | 5MP Front Camera   \n",
       "5                  8MP Rear Camera | 5MP Front Camera   \n",
       "6                  8MP Rear Camera | 5MP Front Camera   \n",
       "7                 50MP + 2MP + 2MP | 8MP Front Camera   \n",
       "8                 13MP + 2MP + 2MP | 5MP Front Camera   \n",
       "9                 13MP + 2MP + 2MP | 5MP Front Camera   \n",
       "10                13MP + 2MP + 2MP | 5MP Front Camera   \n",
       "11              108MP + 8MP + 2MP | 32MP Front Camera   \n",
       "12                13MP + 2MP + 2MP | 5MP Front Camera   \n",
       "13              108MP + 8MP + 2MP | 32MP Front Camera   \n",
       "14                48MP + 2MP + 2MP | 8MP Front Camera   \n",
       "15         50 MP + 2 MP + AI Lens | 16MP Front Camera   \n",
       "16                13MP + 2MP + 2MP | 5MP Front Camera   \n",
       "17                      50MP + 2MP | 5MP Front Camera   \n",
       "18                      50MP + 2MP | 5MP Front Camera   \n",
       "19                48MP + 2MP + 2MP | 8MP Front Camera   \n",
       "20  50 MP + 2 MP Depth Lens + AI Lens | 16MP Front...   \n",
       "21               50MP + 2MP + 2MP | 16MP Front Camera   \n",
       "22         64MP + 8MP + 2MP + 2MP | 16MP Front Camera   \n",
       "23         64MP + 8MP + 2MP + 2MP | 16MP Front Camera   \n",
       "\n",
       "                                 Battery  \\\n",
       "0                       5000 mAh Battery   \n",
       "1                       5000 mAh Battery   \n",
       "2            5000 mAh Li-Polymer Battery   \n",
       "3            5000 mAh Li-Polymer Battery   \n",
       "4   5000 mAh Lithium-ion Polymer Battery   \n",
       "5                       5000 mAh Battery   \n",
       "6                       5000 mAh Battery   \n",
       "7                       5000 mAh Battery   \n",
       "8   5000 mAh Lithium-ion Polymer Battery   \n",
       "9                       5000 mAh Battery   \n",
       "10                      5000 mAh Battery   \n",
       "11                      6000 mAh Battery   \n",
       "12                      5000 mAh Battery   \n",
       "13                      6000 mAh Battery   \n",
       "14  5000 mAh Lithium-ion Polymer Battery   \n",
       "15       5000 mAh Li-ion Polymer Battery   \n",
       "16  5000 mAh Lithium-ion Polymer Battery   \n",
       "17      6000 mAh Lithium Polymer Battery   \n",
       "18      6000 mAh Lithium Polymer Battery   \n",
       "19  5000 mAh Lithium-ion Polymer Battery   \n",
       "20       5000 mAh Li-ion Polymer Battery   \n",
       "21          5000 mAh Lithium ion Battery   \n",
       "22                      5000 mAh Battery   \n",
       "23                      5000 mAh Battery   \n",
       "\n",
       "                                     processor  \\\n",
       "0                          Octa-core Processor   \n",
       "1                          Octa-core Processor   \n",
       "2                 MediaTek Helio G25 Processor   \n",
       "3                 MediaTek Helio G25 Processor   \n",
       "4                 MediaTek Helio G35 Processor   \n",
       "5                 MediaTek Helio G35 Processor   \n",
       "6                 MediaTek Helio G35 Processor   \n",
       "7              Unisoc T610 Octa Core Processor   \n",
       "8                 MediaTek Helio G35 Processor   \n",
       "9                        Unisoc T610 Processor   \n",
       "10                       Unisoc T610 Processor   \n",
       "11          Qualcomm Snapdragon 732G Processor   \n",
       "12                       Unisoc T610 Processor   \n",
       "13          Qualcomm Snapdragon 732G Processor   \n",
       "14            MediaTek Dimensity 700 Processor   \n",
       "15                Mediatek Helio G88 Processor   \n",
       "16                MediaTek Helio G35 Processor   \n",
       "17           Qualcomm Snapdragon 680 Processor   \n",
       "18           Qualcomm Snapdragon 680 Processor   \n",
       "19            MediaTek Dimensity 700 Processor   \n",
       "20                Mediatek Helio G88 Processor   \n",
       "21  Qualcomm Snapdragon 680 (SM6225) Processor   \n",
       "22                MediaTek Helio G95 Processor   \n",
       "23                MediaTek Helio G95 Processor   \n",
       "\n",
       "                                             Warranty  \\\n",
       "0   1 Year Warranty for Mobile and 6 Months for Ac...   \n",
       "1   1 Year Warranty for Mobile and 6 Months for Ac...   \n",
       "2   Brand Warranty of 1 Year Available for Mobile ...   \n",
       "3   Brand Warranty of 1 Year Available for Mobile ...   \n",
       "4   1 Year Warranty for Handset, 6 Months for Acce...   \n",
       "5   1 Year Warranty for Mobile and 6 Months for Ac...   \n",
       "6   1 Year Warranty for Mobile and 6 Months for Ac...   \n",
       "7   1 Year Warranty for Mobile and 6 Months for Ac...   \n",
       "8   1 Year Warranty for Handset, 6 Months for Acce...   \n",
       "9   1 Year Warranty for Mobile and 6 Months for Ac...   \n",
       "10  1 Year Warranty for Mobile and 6 Months for Ac...   \n",
       "11                                 120Hz Refresh Rate   \n",
       "12  1 Year Warranty for Mobile and 6 Months for Ac...   \n",
       "13                                 120Hz Refresh Rate   \n",
       "14                Multiple Hands-free Voice Assistant   \n",
       "15      1 Year on Handset and 6 Months on Accessories   \n",
       "16  1 Year Warranty for Handset, 6 Months for Acce...   \n",
       "17  1 Year Warranty for Phone and 6 Months Warrant...   \n",
       "18  1 Year Warranty for Phone and 6 Months Warrant...   \n",
       "19                Multiple Hands-free Voice Assistant   \n",
       "20      1 Year on Handset and 6 Months on Accessories   \n",
       "21  1 Year Manufacturer Warranty for Phone and 6 M...   \n",
       "22                               Super AMOLED Display   \n",
       "23                               Super AMOLED Display   \n",
       "\n",
       "                                                  Url  \n",
       "0   https://www.flipkart.com/realme-c11-2021-cool-...  \n",
       "1   https://www.flipkart.com/realme-c11-2021-cool-...  \n",
       "2   https://www.flipkart.com/redmi-9i-sport-carbon...  \n",
       "3   https://www.flipkart.com/redmi-9i-sport-coral-...  \n",
       "4   https://www.flipkart.com/poco-c31-royal-blue-6...  \n",
       "5   https://www.flipkart.com/realme-c20-cool-blue-...  \n",
       "6   https://www.flipkart.com/realme-c20-cool-grey-...  \n",
       "7   https://www.flipkart.com/realme-c25y-metal-gre...  \n",
       "8   https://www.flipkart.com/poco-c31-shadow-gray-...  \n",
       "9   https://www.flipkart.com/realme-c21y-cross-bla...  \n",
       "10  https://www.flipkart.com/realme-c21y-cross-blu...  \n",
       "11  https://www.flipkart.com/motorola-g60-moonless...  \n",
       "12  https://www.flipkart.com/realme-c21y-cross-blu...  \n",
       "13  https://www.flipkart.com/motorola-g60-soft-sil...  \n",
       "14  https://www.flipkart.com/poco-m3-pro-5g-yellow...  \n",
       "15  https://www.flipkart.com/infinix-note-11-graph...  \n",
       "16  https://www.flipkart.com/poco-c31-royal-blue-3...  \n",
       "17  https://www.flipkart.com/redmi-10-caribbean-gr...  \n",
       "18  https://www.flipkart.com/redmi-10-midnight-bla...  \n",
       "19  https://www.flipkart.com/poco-m3-pro-5g-cool-b...  \n",
       "20  https://www.flipkart.com/infinix-note-11-graph...  \n",
       "21  https://www.flipkart.com/realme-9i-prism-black...  \n",
       "22  https://www.flipkart.com/realme-8-cyber-silver...  \n",
       "23  https://www.flipkart.com/realme-8-cyber-black-...  "
      ]
     },
     "execution_count": 94,
     "metadata": {},
     "output_type": "execute_result"
    }
   ],
   "source": [
    "smartphone\n"
   ]
  },
  {
   "cell_type": "code",
   "execution_count": 95,
   "id": "bfac83c2",
   "metadata": {},
   "outputs": [],
   "source": [
    "smartphone.to_csv(\"Smartphone\")"
   ]
  },
  {
   "cell_type": "markdown",
   "id": "2e18f617",
   "metadata": {},
   "source": [
    "5. Write a program to scrap geospatial coordinates (latitude, longitude) of a city searched on google maps."
   ]
  },
  {
   "cell_type": "code",
   "execution_count": null,
   "id": "4191de38",
   "metadata": {},
   "outputs": [],
   "source": [
    "driver2=webdriver.Chrome('chromedriver.exe')"
   ]
  },
  {
   "cell_type": "code",
   "execution_count": null,
   "id": "58edaa1b",
   "metadata": {},
   "outputs": [],
   "source": [
    "url='https://www.google.com/maps/@20.9880135,82.7525294,5z'\n",
    "driver2.get(url)"
   ]
  },
  {
   "cell_type": "code",
   "execution_count": null,
   "id": "12a0be8c",
   "metadata": {},
   "outputs": [],
   "source": [
    "srch=driver2.find_element_by_xpath('//*[@id=\"searchboxinput\"]')\n",
    "srch.send_keys('city')"
   ]
  },
  {
   "cell_type": "code",
   "execution_count": null,
   "id": "77c2fef7",
   "metadata": {},
   "outputs": [],
   "source": [
    "srch_bt=driver2.find_element_by_xpath('//*[@id=\"searchbox-searchbutton\"]').click()"
   ]
  },
  {
   "cell_type": "code",
   "execution_count": null,
   "id": "e2e67a86",
   "metadata": {},
   "outputs": [],
   "source": []
  },
  {
   "cell_type": "code",
   "execution_count": null,
   "id": "4d661044",
   "metadata": {},
   "outputs": [],
   "source": []
  },
  {
   "cell_type": "code",
   "execution_count": null,
   "id": "dfa134c5",
   "metadata": {},
   "outputs": [],
   "source": []
  },
  {
   "cell_type": "code",
   "execution_count": null,
   "id": "f0323c63",
   "metadata": {},
   "outputs": [],
   "source": []
  },
  {
   "cell_type": "markdown",
   "id": "e2f26f6a",
   "metadata": {},
   "source": [
    "6. Write a program to scrap details of all the funding deals for second quarter (i.e Jan 21 – March 21) from trak.in."
   ]
  },
  {
   "cell_type": "code",
   "execution_count": 2,
   "id": "486a3b0a",
   "metadata": {},
   "outputs": [],
   "source": [
    "driver3=webdriver.Chrome('chromedriver.exe')"
   ]
  },
  {
   "cell_type": "code",
   "execution_count": null,
   "id": "5476c1b4",
   "metadata": {},
   "outputs": [],
   "source": [
    "url='https://trak.in/india-startup-funding-investment-2015/'\n",
    "driver3.get(url)"
   ]
  },
  {
   "cell_type": "markdown",
   "id": "4feb70fb",
   "metadata": {},
   "source": [
    "7. Write a program to scrap all the available details of best gaming laptops from digit.in."
   ]
  },
  {
   "cell_type": "code",
   "execution_count": 3,
   "id": "d5b831cb",
   "metadata": {},
   "outputs": [],
   "source": [
    "link='https://www.digit.in/'\n",
    "driver3.get(link)"
   ]
  },
  {
   "cell_type": "code",
   "execution_count": 16,
   "id": "6deac943",
   "metadata": {},
   "outputs": [],
   "source": [
    "srch=driver3.find_element_by_xpath('//div[@class=\"listing_container\"]//ul//li[9]')"
   ]
  },
  {
   "cell_type": "code",
   "execution_count": 17,
   "id": "e2cca2b4",
   "metadata": {},
   "outputs": [],
   "source": [
    "srch.click()"
   ]
  },
  {
   "cell_type": "code",
   "execution_count": 19,
   "id": "84f73066",
   "metadata": {},
   "outputs": [
    {
     "data": {
      "text/plain": [
       "['HP Victus 16',\n",
       " 'HP Omen 15',\n",
       " 'Acer Nitro 5',\n",
       " 'MSI Stealth 15M',\n",
       " 'ASUS ROG Strix Scar 15',\n",
       " 'ASUS ROG Strix Scar 15',\n",
       " 'ASUS ZEPHYRUS G14',\n",
       " 'Lenovo Legion 5i',\n",
       " 'ASUS ROG ZEPHYRUS DUO 15',\n",
       " 'Acer Aspire 7 gaming laptop']"
      ]
     },
     "execution_count": 19,
     "metadata": {},
     "output_type": "execute_result"
    }
   ],
   "source": [
    "lptp=[]\n",
    "lp_nme=driver3.find_elements_by_xpath(\"//table[@id='summtable']//tr//td[1]\")\n",
    "for i in lp_nme:\n",
    "    lptp.append(i.text)\n",
    "lptp    "
   ]
  },
  {
   "cell_type": "code",
   "execution_count": null,
   "id": "c0779df3",
   "metadata": {},
   "outputs": [],
   "source": []
  },
  {
   "cell_type": "code",
   "execution_count": 20,
   "id": "307f9b08",
   "metadata": {},
   "outputs": [
    {
     "data": {
      "text/plain": [
       "['Windows 10',\n",
       " 'Windows 10 Home',\n",
       " 'Windows 10',\n",
       " 'Windows 10',\n",
       " 'Windows 10',\n",
       " 'Windows 10 Home',\n",
       " 'Windows 10 Home',\n",
       " 'Windows 10 Pro',\n",
       " 'Windows 10',\n",
       " 'Windows 10 Home']"
      ]
     },
     "execution_count": 20,
     "metadata": {},
     "output_type": "execute_result"
    }
   ],
   "source": [
    "Os=[]\n",
    "ostag=driver3.find_elements_by_xpath('//div[@class=\"Spcs-details\"]//tr[3]//td[3]')\n",
    "for i in ostag:\n",
    "    Os.append(i.text)\n",
    "Os    "
   ]
  },
  {
   "cell_type": "code",
   "execution_count": 21,
   "id": "e23d13cc",
   "metadata": {},
   "outputs": [
    {
     "data": {
      "text/plain": [
       "['16.1\" (1920 x 1200)',\n",
       " '15.6\" (1920 x 1080)',\n",
       " '15.6\" (1920 x 1080)',\n",
       " '15.6\" (1920 x 1080)',\n",
       " '15.6\" (2560 x 1440)',\n",
       " '15.6\" (1920 x 1080)',\n",
       " '14\" (1920 x 1080)',\n",
       " '15.6\" (1920 x 1080)',\n",
       " '15.6\" (3840 x 1100)',\n",
       " '15.6\" (1920 x 1080)']"
      ]
     },
     "execution_count": 21,
     "metadata": {},
     "output_type": "execute_result"
    }
   ],
   "source": [
    "dis=[]\n",
    "dsp=driver3.find_elements_by_xpath('//div[@class=\"Spcs-details\"]//tr[4]//td[3]')\n",
    "for i in dsp:\n",
    "    dis.append(i.text)\n",
    "dis    "
   ]
  },
  {
   "cell_type": "code",
   "execution_count": 22,
   "id": "c43a3595",
   "metadata": {},
   "outputs": [
    {
     "data": {
      "text/plain": [
       "['5th Gen AMD Ryzen 7 5800H | 3.2GHz',\n",
       " 'AMD Ryzen 7 Octa Core-5800H | 4.4 GHz',\n",
       " 'AMD Ryzen 9 Octa Core | 2.4 GHz',\n",
       " 'Intel Core i7 11th Gen - 11375H | NA',\n",
       " 'AMD Ryzen 9 Octa Core - 5900HX | 3.3 GHz',\n",
       " 'AMD Ryzen™ 9 5900HX | 3.3 GHz',\n",
       " 'AMD 3rd Gen Ryzen 9 | 3.3 GHz',\n",
       " '10th Gen Intel® Core™ i5-10300H | 2.50 GHz',\n",
       " 'Intel Core i7 10th Gen 10875H | NA',\n",
       " 'AMD Ryzen™ 5-5500U hexa-core | NA']"
      ]
     },
     "execution_count": 22,
     "metadata": {},
     "output_type": "execute_result"
    }
   ],
   "source": [
    "process=[]\n",
    "pro=driver3.find_elements_by_xpath('//div[@class=\"Spcs-details\"]//tr[5]//td[3]')\n",
    "for i in pro:\n",
    "    process.append(i.text)\n",
    "process    "
   ]
  },
  {
   "cell_type": "code",
   "execution_count": 23,
   "id": "208a28f2",
   "metadata": {},
   "outputs": [
    {
     "data": {
      "text/plain": [
       "['512 GB SSD/16 GBGB DDR4',\n",
       " '1 TB SSD/16 GBGB DDR4',\n",
       " '1 TB HDD/16 GBGB DDR4',\n",
       " '1 TB SSD/16 GBGB DDR4',\n",
       " '2 TB SSD/32 GBGB DDR4',\n",
       " '1 TB SSD/16 GBGB DDR4',\n",
       " '1 TB SSD/16 GBGB DDR4',\n",
       " '1 TB SSD/16 GBGB DDR4',\n",
       " '512 GB SSD/4 GBGB DDR4',\n",
       " '512 GB SSD/8 GBGB DDR4']"
      ]
     },
     "execution_count": 23,
     "metadata": {},
     "output_type": "execute_result"
    }
   ],
   "source": [
    "mem=[]\n",
    "mm=driver3.find_elements_by_xpath('//div[@class=\"Spcs-details\"]//tr[6]//td[3]')\n",
    "for i in mm:\n",
    "    mem.append(i.text)\n",
    "mem    "
   ]
  },
  {
   "cell_type": "code",
   "execution_count": 24,
   "id": "01adbfb3",
   "metadata": {},
   "outputs": [
    {
     "data": {
      "text/plain": [
       "['2.48', '2.37', '2.4', '1.7', '2.30', '2.30', '1.65', '2.3', '2.4', '2.15']"
      ]
     },
     "execution_count": 24,
     "metadata": {},
     "output_type": "execute_result"
    }
   ],
   "source": [
    "weight=[]\n",
    "wt=driver3.find_elements_by_xpath('//div[@class=\"Spcs-details\"]//tr[7]//td[3]')\n",
    "for i in wt:\n",
    "    weight.append(i.text)\n",
    "weight    "
   ]
  },
  {
   "cell_type": "code",
   "execution_count": 25,
   "id": "a343fe41",
   "metadata": {},
   "outputs": [
    {
     "data": {
      "text/plain": [
       "['37 x 26.2 x 2.4',\n",
       " '357.9 x 239.7 x 22.5',\n",
       " '363.4 x 255 x 23.9',\n",
       " '358.3 x 248 x 16.15',\n",
       " '354 x 259 x 22.6',\n",
       " '35.4 x 25.9 x 2.26',\n",
       " '32.5 x 22.1 x 1.8',\n",
       " '363.06 x 259.61 x 23.57',\n",
       " '268.30 x 360.00 x 20.90',\n",
       " '2.29 x 36.3 x 25.4']"
      ]
     },
     "execution_count": 25,
     "metadata": {},
     "output_type": "execute_result"
    }
   ],
   "source": [
    "dimen=[]\n",
    "dm=driver3.find_elements_by_xpath('//div[@class=\"Spcs-details\"]//tr[8]//td[3]')\n",
    "for i in dm:\n",
    "    dimen.append(i.text)\n",
    "dimen    "
   ]
  },
  {
   "cell_type": "code",
   "execution_count": 27,
   "id": "8e6c2fdb",
   "metadata": {},
   "outputs": [
    {
     "data": {
      "text/plain": [
       "['NVIDIA GeForce RTX 3060',\n",
       " 'NVIDIA GeForce RTX 3060',\n",
       " 'NVIDIA GeForce RTX 3070',\n",
       " 'NVIDIA GeForce RTX 3060',\n",
       " 'NVIDIA GeForce RTX 3080',\n",
       " 'NVIDIA® GeForce RTX™ 3070',\n",
       " 'NVIDIA GeForce RTX 2060',\n",
       " 'NVIDIA® GeForce® GTX 1650 4GB',\n",
       " 'NVIDIA GeForce RTX 2070 Max-Q',\n",
       " 'NVIDIA® GeForce® GTX 1650']"
      ]
     },
     "execution_count": 27,
     "metadata": {},
     "output_type": "execute_result"
    }
   ],
   "source": [
    "grap_pro=[]\n",
    "grphpro=driver3.find_elements_by_xpath('//div[@class=\"Spcs-details\"]//tr[9]//td[3]')\n",
    "for i in grphpro:\n",
    "    grap_pro.append(i.text)\n",
    "grap_pro    "
   ]
  },
  {
   "cell_type": "code",
   "execution_count": 29,
   "id": "fea6cc1f",
   "metadata": {},
   "outputs": [
    {
     "data": {
      "text/plain": [
       "['₹ 104,990',\n",
       " '₹ 110,790',\n",
       " '₹ 129,990',\n",
       " '₹ 134,990',\n",
       " '₹ 193,990',\n",
       " '₹ 215,990',\n",
       " '₹ 144,990',\n",
       " '₹ 76,988',\n",
       " '₹ 185,000',\n",
       " '₹ 53,490']"
      ]
     },
     "execution_count": 29,
     "metadata": {},
     "output_type": "execute_result"
    }
   ],
   "source": [
    "price=[]\n",
    "prc=driver3.find_elements_by_xpath('//td[@class=\"smprice\"]')\n",
    "for i in prc:\n",
    "    price.append(i.text)\n",
    "price    "
   ]
  },
  {
   "cell_type": "code",
   "execution_count": 31,
   "id": "6d54c873",
   "metadata": {},
   "outputs": [],
   "source": [
    "Best_Laptop=pd.DataFrame({})\n",
    "Best_Laptop['Laptops_Brand']=lptp\n",
    "Best_Laptop['operating_system']=Os\n",
    "Best_Laptop['Display']=dis\n",
    "Best_Laptop['processor']=process\n",
    "Best_Laptop['memory']=mem\n",
    "Best_Laptop['weight']=weight\n",
    "Best_Laptop['Dimensions']=dimen\n",
    "Best_Laptop['graphic processor']=grap_pro\n",
    "Best_Laptop['Price']=price"
   ]
  },
  {
   "cell_type": "code",
   "execution_count": 32,
   "id": "08e610cf",
   "metadata": {},
   "outputs": [
    {
     "data": {
      "text/html": [
       "<div>\n",
       "<style scoped>\n",
       "    .dataframe tbody tr th:only-of-type {\n",
       "        vertical-align: middle;\n",
       "    }\n",
       "\n",
       "    .dataframe tbody tr th {\n",
       "        vertical-align: top;\n",
       "    }\n",
       "\n",
       "    .dataframe thead th {\n",
       "        text-align: right;\n",
       "    }\n",
       "</style>\n",
       "<table border=\"1\" class=\"dataframe\">\n",
       "  <thead>\n",
       "    <tr style=\"text-align: right;\">\n",
       "      <th></th>\n",
       "      <th>Laptops_Brand</th>\n",
       "      <th>operating_system</th>\n",
       "      <th>Display</th>\n",
       "      <th>processor</th>\n",
       "      <th>memory</th>\n",
       "      <th>weight</th>\n",
       "      <th>Dimensions</th>\n",
       "      <th>graphic processor</th>\n",
       "      <th>Price</th>\n",
       "    </tr>\n",
       "  </thead>\n",
       "  <tbody>\n",
       "    <tr>\n",
       "      <th>0</th>\n",
       "      <td>HP Victus 16</td>\n",
       "      <td>Windows 10</td>\n",
       "      <td>16.1\" (1920 x 1200)</td>\n",
       "      <td>5th Gen AMD Ryzen 7 5800H | 3.2GHz</td>\n",
       "      <td>512 GB SSD/16 GBGB DDR4</td>\n",
       "      <td>2.48</td>\n",
       "      <td>37 x 26.2 x 2.4</td>\n",
       "      <td>NVIDIA GeForce RTX 3060</td>\n",
       "      <td>₹ 104,990</td>\n",
       "    </tr>\n",
       "    <tr>\n",
       "      <th>1</th>\n",
       "      <td>HP Omen 15</td>\n",
       "      <td>Windows 10 Home</td>\n",
       "      <td>15.6\" (1920 x 1080)</td>\n",
       "      <td>AMD Ryzen 7 Octa Core-5800H | 4.4 GHz</td>\n",
       "      <td>1 TB SSD/16 GBGB DDR4</td>\n",
       "      <td>2.37</td>\n",
       "      <td>357.9 x 239.7 x 22.5</td>\n",
       "      <td>NVIDIA GeForce RTX 3060</td>\n",
       "      <td>₹ 110,790</td>\n",
       "    </tr>\n",
       "    <tr>\n",
       "      <th>2</th>\n",
       "      <td>Acer Nitro 5</td>\n",
       "      <td>Windows 10</td>\n",
       "      <td>15.6\" (1920 x 1080)</td>\n",
       "      <td>AMD Ryzen 9 Octa Core | 2.4 GHz</td>\n",
       "      <td>1 TB HDD/16 GBGB DDR4</td>\n",
       "      <td>2.4</td>\n",
       "      <td>363.4 x 255 x 23.9</td>\n",
       "      <td>NVIDIA GeForce RTX 3070</td>\n",
       "      <td>₹ 129,990</td>\n",
       "    </tr>\n",
       "    <tr>\n",
       "      <th>3</th>\n",
       "      <td>MSI Stealth 15M</td>\n",
       "      <td>Windows 10</td>\n",
       "      <td>15.6\" (1920 x 1080)</td>\n",
       "      <td>Intel Core i7 11th Gen - 11375H | NA</td>\n",
       "      <td>1 TB SSD/16 GBGB DDR4</td>\n",
       "      <td>1.7</td>\n",
       "      <td>358.3 x 248 x 16.15</td>\n",
       "      <td>NVIDIA GeForce RTX 3060</td>\n",
       "      <td>₹ 134,990</td>\n",
       "    </tr>\n",
       "    <tr>\n",
       "      <th>4</th>\n",
       "      <td>ASUS ROG Strix Scar 15</td>\n",
       "      <td>Windows 10</td>\n",
       "      <td>15.6\" (2560 x 1440)</td>\n",
       "      <td>AMD Ryzen 9 Octa Core - 5900HX | 3.3 GHz</td>\n",
       "      <td>2 TB SSD/32 GBGB DDR4</td>\n",
       "      <td>2.30</td>\n",
       "      <td>354 x 259 x 22.6</td>\n",
       "      <td>NVIDIA GeForce RTX 3080</td>\n",
       "      <td>₹ 193,990</td>\n",
       "    </tr>\n",
       "    <tr>\n",
       "      <th>5</th>\n",
       "      <td>ASUS ROG Strix Scar 15</td>\n",
       "      <td>Windows 10 Home</td>\n",
       "      <td>15.6\" (1920 x 1080)</td>\n",
       "      <td>AMD Ryzen™ 9 5900HX | 3.3 GHz</td>\n",
       "      <td>1 TB SSD/16 GBGB DDR4</td>\n",
       "      <td>2.30</td>\n",
       "      <td>35.4 x 25.9 x 2.26</td>\n",
       "      <td>NVIDIA® GeForce RTX™ 3070</td>\n",
       "      <td>₹ 215,990</td>\n",
       "    </tr>\n",
       "    <tr>\n",
       "      <th>6</th>\n",
       "      <td>ASUS ZEPHYRUS G14</td>\n",
       "      <td>Windows 10 Home</td>\n",
       "      <td>14\" (1920 x 1080)</td>\n",
       "      <td>AMD 3rd Gen Ryzen 9 | 3.3 GHz</td>\n",
       "      <td>1 TB SSD/16 GBGB DDR4</td>\n",
       "      <td>1.65</td>\n",
       "      <td>32.5 x 22.1 x 1.8</td>\n",
       "      <td>NVIDIA GeForce RTX 2060</td>\n",
       "      <td>₹ 144,990</td>\n",
       "    </tr>\n",
       "    <tr>\n",
       "      <th>7</th>\n",
       "      <td>Lenovo Legion 5i</td>\n",
       "      <td>Windows 10 Pro</td>\n",
       "      <td>15.6\" (1920 x 1080)</td>\n",
       "      <td>10th Gen Intel® Core™ i5-10300H | 2.50 GHz</td>\n",
       "      <td>1 TB SSD/16 GBGB DDR4</td>\n",
       "      <td>2.3</td>\n",
       "      <td>363.06 x 259.61 x 23.57</td>\n",
       "      <td>NVIDIA® GeForce® GTX 1650 4GB</td>\n",
       "      <td>₹ 76,988</td>\n",
       "    </tr>\n",
       "    <tr>\n",
       "      <th>8</th>\n",
       "      <td>ASUS ROG ZEPHYRUS DUO 15</td>\n",
       "      <td>Windows 10</td>\n",
       "      <td>15.6\" (3840 x 1100)</td>\n",
       "      <td>Intel Core i7 10th Gen 10875H | NA</td>\n",
       "      <td>512 GB SSD/4 GBGB DDR4</td>\n",
       "      <td>2.4</td>\n",
       "      <td>268.30 x 360.00 x 20.90</td>\n",
       "      <td>NVIDIA GeForce RTX 2070 Max-Q</td>\n",
       "      <td>₹ 185,000</td>\n",
       "    </tr>\n",
       "    <tr>\n",
       "      <th>9</th>\n",
       "      <td>Acer Aspire 7 gaming laptop</td>\n",
       "      <td>Windows 10 Home</td>\n",
       "      <td>15.6\" (1920 x 1080)</td>\n",
       "      <td>AMD Ryzen™ 5-5500U hexa-core | NA</td>\n",
       "      <td>512 GB SSD/8 GBGB DDR4</td>\n",
       "      <td>2.15</td>\n",
       "      <td>2.29 x 36.3 x 25.4</td>\n",
       "      <td>NVIDIA® GeForce® GTX 1650</td>\n",
       "      <td>₹ 53,490</td>\n",
       "    </tr>\n",
       "  </tbody>\n",
       "</table>\n",
       "</div>"
      ],
      "text/plain": [
       "                 Laptops_Brand operating_system              Display  \\\n",
       "0                 HP Victus 16       Windows 10  16.1\" (1920 x 1200)   \n",
       "1                   HP Omen 15  Windows 10 Home  15.6\" (1920 x 1080)   \n",
       "2                 Acer Nitro 5       Windows 10  15.6\" (1920 x 1080)   \n",
       "3              MSI Stealth 15M       Windows 10  15.6\" (1920 x 1080)   \n",
       "4       ASUS ROG Strix Scar 15       Windows 10  15.6\" (2560 x 1440)   \n",
       "5       ASUS ROG Strix Scar 15  Windows 10 Home  15.6\" (1920 x 1080)   \n",
       "6            ASUS ZEPHYRUS G14  Windows 10 Home    14\" (1920 x 1080)   \n",
       "7             Lenovo Legion 5i   Windows 10 Pro  15.6\" (1920 x 1080)   \n",
       "8     ASUS ROG ZEPHYRUS DUO 15       Windows 10  15.6\" (3840 x 1100)   \n",
       "9  Acer Aspire 7 gaming laptop  Windows 10 Home  15.6\" (1920 x 1080)   \n",
       "\n",
       "                                    processor                   memory weight  \\\n",
       "0          5th Gen AMD Ryzen 7 5800H | 3.2GHz  512 GB SSD/16 GBGB DDR4   2.48   \n",
       "1       AMD Ryzen 7 Octa Core-5800H | 4.4 GHz    1 TB SSD/16 GBGB DDR4   2.37   \n",
       "2             AMD Ryzen 9 Octa Core | 2.4 GHz    1 TB HDD/16 GBGB DDR4    2.4   \n",
       "3        Intel Core i7 11th Gen - 11375H | NA    1 TB SSD/16 GBGB DDR4    1.7   \n",
       "4    AMD Ryzen 9 Octa Core - 5900HX | 3.3 GHz    2 TB SSD/32 GBGB DDR4   2.30   \n",
       "5               AMD Ryzen™ 9 5900HX | 3.3 GHz    1 TB SSD/16 GBGB DDR4   2.30   \n",
       "6               AMD 3rd Gen Ryzen 9 | 3.3 GHz    1 TB SSD/16 GBGB DDR4   1.65   \n",
       "7  10th Gen Intel® Core™ i5-10300H | 2.50 GHz    1 TB SSD/16 GBGB DDR4    2.3   \n",
       "8          Intel Core i7 10th Gen 10875H | NA   512 GB SSD/4 GBGB DDR4    2.4   \n",
       "9           AMD Ryzen™ 5-5500U hexa-core | NA   512 GB SSD/8 GBGB DDR4   2.15   \n",
       "\n",
       "                Dimensions              graphic processor      Price  \n",
       "0          37 x 26.2 x 2.4        NVIDIA GeForce RTX 3060  ₹ 104,990  \n",
       "1     357.9 x 239.7 x 22.5        NVIDIA GeForce RTX 3060  ₹ 110,790  \n",
       "2       363.4 x 255 x 23.9        NVIDIA GeForce RTX 3070  ₹ 129,990  \n",
       "3      358.3 x 248 x 16.15        NVIDIA GeForce RTX 3060  ₹ 134,990  \n",
       "4         354 x 259 x 22.6        NVIDIA GeForce RTX 3080  ₹ 193,990  \n",
       "5       35.4 x 25.9 x 2.26      NVIDIA® GeForce RTX™ 3070  ₹ 215,990  \n",
       "6        32.5 x 22.1 x 1.8        NVIDIA GeForce RTX 2060  ₹ 144,990  \n",
       "7  363.06 x 259.61 x 23.57  NVIDIA® GeForce® GTX 1650 4GB   ₹ 76,988  \n",
       "8  268.30 x 360.00 x 20.90  NVIDIA GeForce RTX 2070 Max-Q  ₹ 185,000  \n",
       "9       2.29 x 36.3 x 25.4      NVIDIA® GeForce® GTX 1650   ₹ 53,490  "
      ]
     },
     "execution_count": 32,
     "metadata": {},
     "output_type": "execute_result"
    }
   ],
   "source": [
    "Best_Laptop"
   ]
  },
  {
   "cell_type": "markdown",
   "id": "5284f724",
   "metadata": {},
   "source": [
    "8. Write a python program to scrape the details for all billionaires from www.forbes.com. Details to be scrapped: “Rank”, “Name”, “Net worth”, “Age”, “Citizenship”, “Source”, “Industry”."
   ]
  },
  {
   "cell_type": "code",
   "execution_count": 43,
   "id": "2ce79559",
   "metadata": {},
   "outputs": [],
   "source": [
    "driver=webdriver.Chrome('chromedriver.exe')"
   ]
  },
  {
   "cell_type": "code",
   "execution_count": 44,
   "id": "110c87a2",
   "metadata": {},
   "outputs": [],
   "source": [
    "url='https://www.forbes.com/?sh=5b22c33a2254'\n",
    "driver.get(url)"
   ]
  },
  {
   "cell_type": "code",
   "execution_count": 45,
   "id": "e32cbe75",
   "metadata": {},
   "outputs": [],
   "source": [
    "menu=driver.find_element_by_xpath('/html/body/div[1]/header/nav/div[1]/button[1]').click()"
   ]
  },
  {
   "cell_type": "code",
   "execution_count": 46,
   "id": "2602cf67",
   "metadata": {},
   "outputs": [],
   "source": [
    "bill=driver.find_element_by_xpath('/html/body/div[1]/header/nav/div[3]/ul/li[1]').click()"
   ]
  },
  {
   "cell_type": "code",
   "execution_count": 47,
   "id": "4755531c",
   "metadata": {},
   "outputs": [],
   "source": [
    "world_bill=driver.find_element_by_xpath('/html/body/div[1]/header/nav/div[3]/ul/li[1]/div[2]/ul/li[2]/a').click()"
   ]
  },
  {
   "cell_type": "code",
   "execution_count": 48,
   "id": "fc354eab",
   "metadata": {},
   "outputs": [
    {
     "data": {
      "text/plain": [
       "['1.',\n",
       " '2.',\n",
       " '3.',\n",
       " '4.',\n",
       " '5.',\n",
       " '6.',\n",
       " '7.',\n",
       " '8.',\n",
       " '9.',\n",
       " '10.',\n",
       " '11.',\n",
       " '12.',\n",
       " '13.',\n",
       " '14.',\n",
       " '15.',\n",
       " '16.',\n",
       " '17.',\n",
       " '18.',\n",
       " '19.',\n",
       " '20.',\n",
       " '21.',\n",
       " '22.',\n",
       " '23.',\n",
       " '24.',\n",
       " '25.',\n",
       " '26.',\n",
       " '27.',\n",
       " '27.',\n",
       " '29.',\n",
       " '30.',\n",
       " '31.',\n",
       " '32.',\n",
       " '33.',\n",
       " '34.',\n",
       " '35.',\n",
       " '36.',\n",
       " '37.',\n",
       " '38.',\n",
       " '39.',\n",
       " '40.',\n",
       " '41.',\n",
       " '41.',\n",
       " '43.',\n",
       " '44.',\n",
       " '45.',\n",
       " '46.',\n",
       " '47.',\n",
       " '48.',\n",
       " '48.',\n",
       " '50.',\n",
       " '51.',\n",
       " '52.',\n",
       " '53.',\n",
       " '53.',\n",
       " '55.',\n",
       " '56.',\n",
       " '57.',\n",
       " '58.',\n",
       " '59.',\n",
       " '60.',\n",
       " '61.',\n",
       " '62.',\n",
       " '62.',\n",
       " '64.',\n",
       " '65.',\n",
       " '66.',\n",
       " '66.',\n",
       " '68.',\n",
       " '69.',\n",
       " '70.',\n",
       " '71.',\n",
       " '71.',\n",
       " '73.',\n",
       " '74.',\n",
       " '75.',\n",
       " '75.',\n",
       " '77.',\n",
       " '78.',\n",
       " '79.',\n",
       " '80.',\n",
       " '81.',\n",
       " '82.',\n",
       " '83.',\n",
       " '84.',\n",
       " '85.',\n",
       " '86.',\n",
       " '87.',\n",
       " '88.',\n",
       " '89.',\n",
       " '89.',\n",
       " '89.',\n",
       " '92.',\n",
       " '93.',\n",
       " '94.',\n",
       " '95.',\n",
       " '96.',\n",
       " '96.',\n",
       " '98.',\n",
       " '99.',\n",
       " '100.',\n",
       " '100.',\n",
       " '102.',\n",
       " '103.',\n",
       " '104.',\n",
       " '105.',\n",
       " '105.',\n",
       " '107.',\n",
       " '107.',\n",
       " '109.',\n",
       " '110.',\n",
       " '111.',\n",
       " '112.',\n",
       " '113.',\n",
       " '114.',\n",
       " '115.',\n",
       " '116.',\n",
       " '117.',\n",
       " '118.',\n",
       " '119.',\n",
       " '119.',\n",
       " '121.',\n",
       " '121.',\n",
       " '121.',\n",
       " '124.',\n",
       " '124.',\n",
       " '126.',\n",
       " '127.',\n",
       " '128.',\n",
       " '128.',\n",
       " '128.',\n",
       " '131.',\n",
       " '132.',\n",
       " '133.',\n",
       " '133.',\n",
       " '133.',\n",
       " '133.',\n",
       " '137.',\n",
       " '138.',\n",
       " '138.',\n",
       " '140.',\n",
       " '140.',\n",
       " '142.',\n",
       " '142.',\n",
       " '144.',\n",
       " '145.',\n",
       " '145.',\n",
       " '145.',\n",
       " '148.',\n",
       " '148.',\n",
       " '150.',\n",
       " '151.',\n",
       " '151.',\n",
       " '151.',\n",
       " '154.',\n",
       " '155.',\n",
       " '156.',\n",
       " '156.',\n",
       " '158.',\n",
       " '158.',\n",
       " '158.',\n",
       " '161.',\n",
       " '161.',\n",
       " '163.',\n",
       " '164.',\n",
       " '164.',\n",
       " '166.',\n",
       " '166.',\n",
       " '168.',\n",
       " '169.',\n",
       " '169.',\n",
       " '171.',\n",
       " '171.',\n",
       " '173.',\n",
       " '173.',\n",
       " '173.',\n",
       " '173.',\n",
       " '177.',\n",
       " '177.',\n",
       " '177.',\n",
       " '177.',\n",
       " '181.',\n",
       " '182.',\n",
       " '182.',\n",
       " '184.',\n",
       " '185.',\n",
       " '186.',\n",
       " '186.',\n",
       " '186.',\n",
       " '189.',\n",
       " '189.',\n",
       " '191.',\n",
       " '191.',\n",
       " '193.',\n",
       " '194.',\n",
       " '195.',\n",
       " '195.',\n",
       " '197.',\n",
       " '197.',\n",
       " '197.',\n",
       " '200.']"
      ]
     },
     "execution_count": 48,
     "metadata": {},
     "output_type": "execute_result"
    }
   ],
   "source": [
    "rank=[]\n",
    "Rtag=driver.find_elements_by_xpath('//div[@class=\"rank\"]')\n",
    "for i in Rtag:\n",
    "    rank.append(i.text)\n",
    "time.sleep(2)\n",
    "rank\n"
   ]
  },
  {
   "cell_type": "code",
   "execution_count": 58,
   "id": "5be34740",
   "metadata": {},
   "outputs": [],
   "source": [
    "name=[]\n",
    "nametag=driver.find_elements_by_xpath('//div[@class=\"personName\"]')\n",
    "for i in nametag:\n",
    "    name.append(i.text)\n",
    "   "
   ]
  },
  {
   "cell_type": "code",
   "execution_count": 59,
   "id": "2fa8e0a4",
   "metadata": {},
   "outputs": [
    {
     "data": {
      "text/plain": [
       "200"
      ]
     },
     "execution_count": 59,
     "metadata": {},
     "output_type": "execute_result"
    }
   ],
   "source": [
    "len(name)"
   ]
  },
  {
   "cell_type": "code",
   "execution_count": 50,
   "id": "68487dc9",
   "metadata": {},
   "outputs": [
    {
     "data": {
      "text/plain": [
       "200"
      ]
     },
     "execution_count": 50,
     "metadata": {},
     "output_type": "execute_result"
    }
   ],
   "source": [
    "Net=[]\n",
    "nt=driver.find_elements_by_xpath('//div[@class=\"netWorth\"]')\n",
    "for i in nt:\n",
    "    Net.append(i.text)\n",
    "len(Net)    \n",
    "    "
   ]
  },
  {
   "cell_type": "code",
   "execution_count": 75,
   "id": "3c15e41a",
   "metadata": {},
   "outputs": [
    {
     "data": {
      "text/plain": [
       "200"
      ]
     },
     "execution_count": 75,
     "metadata": {},
     "output_type": "execute_result"
    }
   ],
   "source": [
    "age=[]\n",
    "ag=driver.find_elements_by_xpath('//div[@class=\"age\"]//div[1]')\n",
    "for i in ag:\n",
    "    age.append(i.text)\n",
    "len(age)    \n",
    "    "
   ]
  },
  {
   "cell_type": "code",
   "execution_count": 54,
   "id": "3d2b72fe",
   "metadata": {},
   "outputs": [
    {
     "data": {
      "text/plain": [
       "200"
      ]
     },
     "execution_count": 54,
     "metadata": {},
     "output_type": "execute_result"
    }
   ],
   "source": [
    "citizen=[]\n",
    "ct=driver.find_elements_by_xpath('//div[@class=\"countryOfCitizenship\"]')\n",
    "for i in ct:\n",
    "    citizen.append(i.text)\n",
    "len(citizen)    \n",
    "    "
   ]
  },
  {
   "cell_type": "code",
   "execution_count": 55,
   "id": "1498340e",
   "metadata": {},
   "outputs": [
    {
     "data": {
      "text/plain": [
       "200"
      ]
     },
     "execution_count": 55,
     "metadata": {},
     "output_type": "execute_result"
    }
   ],
   "source": [
    "source=[]\n",
    "src=driver.find_elements_by_xpath('//div[@class=\"source\"]')\n",
    "for i in src:\n",
    "    source.append(i.text)\n",
    "len(source)    \n",
    "    "
   ]
  },
  {
   "cell_type": "code",
   "execution_count": 76,
   "id": "d26c07bd",
   "metadata": {},
   "outputs": [
    {
     "data": {
      "text/plain": [
       "200"
      ]
     },
     "execution_count": 76,
     "metadata": {},
     "output_type": "execute_result"
    }
   ],
   "source": [
    "inds=[]\n",
    "ind=driver.find_elements_by_xpath('//div[@class=\"category\"]//div[1]')\n",
    "for i in ind:\n",
    "    inds.append(i.text)\n",
    "len(inds)    \n",
    "    "
   ]
  },
  {
   "cell_type": "code",
   "execution_count": 64,
   "id": "a965a682",
   "metadata": {},
   "outputs": [],
   "source": [
    "World_Billionaires=pd.DataFrame({})\n"
   ]
  },
  {
   "cell_type": "code",
   "execution_count": 77,
   "id": "ba63e340",
   "metadata": {},
   "outputs": [],
   "source": [
    "World_Billionaires['Rank']=rank\n",
    "World_Billionaires['Name']=name\n",
    "World_Billionaires['Age']=age\n",
    "World_Billionaires['Net Worth']=Net\n",
    "World_Billionaires['Citizen']=citizen\n",
    "World_Billionaires['Source']=source\n",
    "World_Billionaires['Industry']=inds"
   ]
  },
  {
   "cell_type": "code",
   "execution_count": 78,
   "id": "ac083cfa",
   "metadata": {},
   "outputs": [
    {
     "data": {
      "text/html": [
       "<div>\n",
       "<style scoped>\n",
       "    .dataframe tbody tr th:only-of-type {\n",
       "        vertical-align: middle;\n",
       "    }\n",
       "\n",
       "    .dataframe tbody tr th {\n",
       "        vertical-align: top;\n",
       "    }\n",
       "\n",
       "    .dataframe thead th {\n",
       "        text-align: right;\n",
       "    }\n",
       "</style>\n",
       "<table border=\"1\" class=\"dataframe\">\n",
       "  <thead>\n",
       "    <tr style=\"text-align: right;\">\n",
       "      <th></th>\n",
       "      <th>Rank</th>\n",
       "      <th>Name</th>\n",
       "      <th>Age</th>\n",
       "      <th>Net Worth</th>\n",
       "      <th>Citizen</th>\n",
       "      <th>Source</th>\n",
       "      <th>Industry</th>\n",
       "    </tr>\n",
       "  </thead>\n",
       "  <tbody>\n",
       "    <tr>\n",
       "      <th>0</th>\n",
       "      <td>1.</td>\n",
       "      <td>Jeff Bezos</td>\n",
       "      <td></td>\n",
       "      <td>$177 B</td>\n",
       "      <td>United States</td>\n",
       "      <td>Amazon</td>\n",
       "      <td></td>\n",
       "    </tr>\n",
       "    <tr>\n",
       "      <th>1</th>\n",
       "      <td>2.</td>\n",
       "      <td>Elon Musk</td>\n",
       "      <td></td>\n",
       "      <td>$151 B</td>\n",
       "      <td>United States</td>\n",
       "      <td>Tesla, SpaceX</td>\n",
       "      <td></td>\n",
       "    </tr>\n",
       "    <tr>\n",
       "      <th>2</th>\n",
       "      <td>3.</td>\n",
       "      <td>Bernard Arnault &amp; family</td>\n",
       "      <td></td>\n",
       "      <td>$150 B</td>\n",
       "      <td>France</td>\n",
       "      <td>LVMH</td>\n",
       "      <td></td>\n",
       "    </tr>\n",
       "    <tr>\n",
       "      <th>3</th>\n",
       "      <td>4.</td>\n",
       "      <td>Bill Gates</td>\n",
       "      <td></td>\n",
       "      <td>$124 B</td>\n",
       "      <td>United States</td>\n",
       "      <td>Microsoft</td>\n",
       "      <td></td>\n",
       "    </tr>\n",
       "    <tr>\n",
       "      <th>4</th>\n",
       "      <td>5.</td>\n",
       "      <td>Mark Zuckerberg</td>\n",
       "      <td></td>\n",
       "      <td>$97 B</td>\n",
       "      <td>United States</td>\n",
       "      <td>Facebook</td>\n",
       "      <td></td>\n",
       "    </tr>\n",
       "    <tr>\n",
       "      <th>...</th>\n",
       "      <td>...</td>\n",
       "      <td>...</td>\n",
       "      <td>...</td>\n",
       "      <td>...</td>\n",
       "      <td>...</td>\n",
       "      <td>...</td>\n",
       "      <td>...</td>\n",
       "    </tr>\n",
       "    <tr>\n",
       "      <th>195</th>\n",
       "      <td>195.</td>\n",
       "      <td>Harry Triguboff</td>\n",
       "      <td></td>\n",
       "      <td>$11.2 B</td>\n",
       "      <td>Australia</td>\n",
       "      <td>real estate</td>\n",
       "      <td></td>\n",
       "    </tr>\n",
       "    <tr>\n",
       "      <th>196</th>\n",
       "      <td>197.</td>\n",
       "      <td>Leonid Fedun</td>\n",
       "      <td></td>\n",
       "      <td>$11.1 B</td>\n",
       "      <td>Russia</td>\n",
       "      <td>oil</td>\n",
       "      <td></td>\n",
       "    </tr>\n",
       "    <tr>\n",
       "      <th>197</th>\n",
       "      <td>197.</td>\n",
       "      <td>Eyal Ofer</td>\n",
       "      <td></td>\n",
       "      <td>$11.1 B</td>\n",
       "      <td>Israel</td>\n",
       "      <td>real estate, shipping</td>\n",
       "      <td></td>\n",
       "    </tr>\n",
       "    <tr>\n",
       "      <th>198</th>\n",
       "      <td>197.</td>\n",
       "      <td>Evan Spiegel</td>\n",
       "      <td></td>\n",
       "      <td>$11.1 B</td>\n",
       "      <td>United States</td>\n",
       "      <td>Snapchat</td>\n",
       "      <td></td>\n",
       "    </tr>\n",
       "    <tr>\n",
       "      <th>199</th>\n",
       "      <td>200.</td>\n",
       "      <td>Luis Carlos Sarmiento</td>\n",
       "      <td></td>\n",
       "      <td>$11 B</td>\n",
       "      <td>Colombia</td>\n",
       "      <td>banking</td>\n",
       "      <td></td>\n",
       "    </tr>\n",
       "  </tbody>\n",
       "</table>\n",
       "<p>200 rows × 7 columns</p>\n",
       "</div>"
      ],
      "text/plain": [
       "     Rank                      Name Age Net Worth        Citizen  \\\n",
       "0      1.                Jeff Bezos        $177 B  United States   \n",
       "1      2.                 Elon Musk        $151 B  United States   \n",
       "2      3.  Bernard Arnault & family        $150 B         France   \n",
       "3      4.                Bill Gates        $124 B  United States   \n",
       "4      5.           Mark Zuckerberg         $97 B  United States   \n",
       "..    ...                       ...  ..       ...            ...   \n",
       "195  195.           Harry Triguboff       $11.2 B      Australia   \n",
       "196  197.              Leonid Fedun       $11.1 B         Russia   \n",
       "197  197.                 Eyal Ofer       $11.1 B         Israel   \n",
       "198  197.              Evan Spiegel       $11.1 B  United States   \n",
       "199  200.     Luis Carlos Sarmiento         $11 B       Colombia   \n",
       "\n",
       "                    Source Industry  \n",
       "0                   Amazon           \n",
       "1            Tesla, SpaceX           \n",
       "2                     LVMH           \n",
       "3                Microsoft           \n",
       "4                 Facebook           \n",
       "..                     ...      ...  \n",
       "195            real estate           \n",
       "196                    oil           \n",
       "197  real estate, shipping           \n",
       "198               Snapchat           \n",
       "199                banking           \n",
       "\n",
       "[200 rows x 7 columns]"
      ]
     },
     "execution_count": 78,
     "metadata": {},
     "output_type": "execute_result"
    }
   ],
   "source": [
    "World_Billionaires"
   ]
  },
  {
   "cell_type": "markdown",
   "id": "bbec825e",
   "metadata": {},
   "source": [
    "9. Write a program to extract at least 500 Comments, Comment upvote and time when comment was posted from any YouTube Video."
   ]
  },
  {
   "cell_type": "code",
   "execution_count": 3,
   "id": "bb0a0403",
   "metadata": {},
   "outputs": [],
   "source": [
    "url2='https://www.youtube.com/'\n",
    "driver.get(url2)"
   ]
  },
  {
   "cell_type": "code",
   "execution_count": 10,
   "id": "95d7a068",
   "metadata": {},
   "outputs": [],
   "source": [
    "from selenium.common.exceptions import ElementNotInteractableException"
   ]
  },
  {
   "cell_type": "code",
   "execution_count": 11,
   "id": "9521b615",
   "metadata": {},
   "outputs": [
    {
     "ename": "NameError",
     "evalue": "name 'ElementNotEnteractableException' is not defined",
     "output_type": "error",
     "traceback": [
      "\u001b[1;31m---------------------------------------------------------------------------\u001b[0m",
      "\u001b[1;31mElementNotInteractableException\u001b[0m           Traceback (most recent call last)",
      "\u001b[1;32m~\\AppData\\Local\\Temp/ipykernel_8064/1544669488.py\u001b[0m in \u001b[0;36m<module>\u001b[1;34m\u001b[0m\n\u001b[0;32m      2\u001b[0m     \u001b[0msearch_bar\u001b[0m \u001b[1;33m=\u001b[0m \u001b[0mdriver\u001b[0m\u001b[1;33m.\u001b[0m\u001b[0mfind_element_by_xpath\u001b[0m\u001b[1;33m(\u001b[0m\u001b[1;34m'//*[@id=\"search-input\"]'\u001b[0m\u001b[1;33m)\u001b[0m\u001b[1;33m\u001b[0m\u001b[1;33m\u001b[0m\u001b[0m\n\u001b[1;32m----> 3\u001b[1;33m     \u001b[0msearch_bar\u001b[0m\u001b[1;33m.\u001b[0m\u001b[0msend_keys\u001b[0m\u001b[1;33m(\u001b[0m\u001b[1;34m'kgf'\u001b[0m\u001b[1;33m)\u001b[0m\u001b[1;33m\u001b[0m\u001b[1;33m\u001b[0m\u001b[0m\n\u001b[0m\u001b[0;32m      4\u001b[0m \u001b[1;32mexcept\u001b[0m \u001b[0mElementNotEnteractableException\u001b[0m \u001b[1;32mas\u001b[0m \u001b[0me\u001b[0m\u001b[1;33m:\u001b[0m\u001b[1;33m\u001b[0m\u001b[1;33m\u001b[0m\u001b[0m\n",
      "\u001b[1;32mC:\\ProgramData\\Anaconda3\\lib\\site-packages\\selenium\\webdriver\\remote\\webelement.py\u001b[0m in \u001b[0;36msend_keys\u001b[1;34m(self, *value)\u001b[0m\n\u001b[0;32m    539\u001b[0m \u001b[1;33m\u001b[0m\u001b[0m\n\u001b[1;32m--> 540\u001b[1;33m         self._execute(Command.SEND_KEYS_TO_ELEMENT,\n\u001b[0m\u001b[0;32m    541\u001b[0m                       {'text': \"\".join(keys_to_typing(value)),\n",
      "\u001b[1;32mC:\\ProgramData\\Anaconda3\\lib\\site-packages\\selenium\\webdriver\\remote\\webelement.py\u001b[0m in \u001b[0;36m_execute\u001b[1;34m(self, command, params)\u001b[0m\n\u001b[0;32m    709\u001b[0m         \u001b[0mparams\u001b[0m\u001b[1;33m[\u001b[0m\u001b[1;34m'id'\u001b[0m\u001b[1;33m]\u001b[0m \u001b[1;33m=\u001b[0m \u001b[0mself\u001b[0m\u001b[1;33m.\u001b[0m\u001b[0m_id\u001b[0m\u001b[1;33m\u001b[0m\u001b[1;33m\u001b[0m\u001b[0m\n\u001b[1;32m--> 710\u001b[1;33m         \u001b[1;32mreturn\u001b[0m \u001b[0mself\u001b[0m\u001b[1;33m.\u001b[0m\u001b[0m_parent\u001b[0m\u001b[1;33m.\u001b[0m\u001b[0mexecute\u001b[0m\u001b[1;33m(\u001b[0m\u001b[0mcommand\u001b[0m\u001b[1;33m,\u001b[0m \u001b[0mparams\u001b[0m\u001b[1;33m)\u001b[0m\u001b[1;33m\u001b[0m\u001b[1;33m\u001b[0m\u001b[0m\n\u001b[0m\u001b[0;32m    711\u001b[0m \u001b[1;33m\u001b[0m\u001b[0m\n",
      "\u001b[1;32mC:\\ProgramData\\Anaconda3\\lib\\site-packages\\selenium\\webdriver\\remote\\webdriver.py\u001b[0m in \u001b[0;36mexecute\u001b[1;34m(self, driver_command, params)\u001b[0m\n\u001b[0;32m    424\u001b[0m         \u001b[1;32mif\u001b[0m \u001b[0mresponse\u001b[0m\u001b[1;33m:\u001b[0m\u001b[1;33m\u001b[0m\u001b[1;33m\u001b[0m\u001b[0m\n\u001b[1;32m--> 425\u001b[1;33m             \u001b[0mself\u001b[0m\u001b[1;33m.\u001b[0m\u001b[0merror_handler\u001b[0m\u001b[1;33m.\u001b[0m\u001b[0mcheck_response\u001b[0m\u001b[1;33m(\u001b[0m\u001b[0mresponse\u001b[0m\u001b[1;33m)\u001b[0m\u001b[1;33m\u001b[0m\u001b[1;33m\u001b[0m\u001b[0m\n\u001b[0m\u001b[0;32m    426\u001b[0m             response['value'] = self._unwrap_value(\n",
      "\u001b[1;32mC:\\ProgramData\\Anaconda3\\lib\\site-packages\\selenium\\webdriver\\remote\\errorhandler.py\u001b[0m in \u001b[0;36mcheck_response\u001b[1;34m(self, response)\u001b[0m\n\u001b[0;32m    246\u001b[0m             \u001b[1;32mraise\u001b[0m \u001b[0mexception_class\u001b[0m\u001b[1;33m(\u001b[0m\u001b[0mmessage\u001b[0m\u001b[1;33m,\u001b[0m \u001b[0mscreen\u001b[0m\u001b[1;33m,\u001b[0m \u001b[0mstacktrace\u001b[0m\u001b[1;33m,\u001b[0m \u001b[0malert_text\u001b[0m\u001b[1;33m)\u001b[0m  \u001b[1;31m# type: ignore[call-arg]  # mypy is not smart enough here\u001b[0m\u001b[1;33m\u001b[0m\u001b[1;33m\u001b[0m\u001b[0m\n\u001b[1;32m--> 247\u001b[1;33m         \u001b[1;32mraise\u001b[0m \u001b[0mexception_class\u001b[0m\u001b[1;33m(\u001b[0m\u001b[0mmessage\u001b[0m\u001b[1;33m,\u001b[0m \u001b[0mscreen\u001b[0m\u001b[1;33m,\u001b[0m \u001b[0mstacktrace\u001b[0m\u001b[1;33m)\u001b[0m\u001b[1;33m\u001b[0m\u001b[1;33m\u001b[0m\u001b[0m\n\u001b[0m\u001b[0;32m    248\u001b[0m \u001b[1;33m\u001b[0m\u001b[0m\n",
      "\u001b[1;31mElementNotInteractableException\u001b[0m: Message: element not interactable\n  (Session info: chrome=100.0.4896.60)\nStacktrace:\nBacktrace:\n\tOrdinal0 [0x01109943+2595139]\n\tOrdinal0 [0x0109C9F1+2148849]\n\tOrdinal0 [0x00F943F0+1065968]\n\tOrdinal0 [0x00FBC4D3+1230035]\n\tOrdinal0 [0x00FBBB8B+1227659]\n\tOrdinal0 [0x00FDB9EC+1358316]\n\tOrdinal0 [0x00FB7474+1209460]\n\tOrdinal0 [0x00FDBC04+1358852]\n\tOrdinal0 [0x00FEBAF2+1424114]\n\tOrdinal0 [0x00FDB806+1357830]\n\tOrdinal0 [0x00FB6086+1204358]\n\tOrdinal0 [0x00FB6F96+1208214]\n\tGetHandleVerifier [0x012AB232+1658114]\n\tGetHandleVerifier [0x0136312C+2411516]\n\tGetHandleVerifier [0x0119F261+560433]\n\tGetHandleVerifier [0x0119E366+556598]\n\tOrdinal0 [0x010A286B+2173035]\n\tOrdinal0 [0x010A75F8+2192888]\n\tOrdinal0 [0x010A76E5+2193125]\n\tOrdinal0 [0x010B11FC+2232828]\n\tBaseThreadInitThunk [0x74E38744+36]\n\tRtlGetAppContainerNamedObjectPath [0x77EA582D+253]\n\tRtlGetAppContainerNamedObjectPath [0x77EA57FD+205]\n",
      "\nDuring handling of the above exception, another exception occurred:\n",
      "\u001b[1;31mNameError\u001b[0m                                 Traceback (most recent call last)",
      "\u001b[1;32m~\\AppData\\Local\\Temp/ipykernel_8064/1544669488.py\u001b[0m in \u001b[0;36m<module>\u001b[1;34m\u001b[0m\n\u001b[0;32m      2\u001b[0m     \u001b[0msearch_bar\u001b[0m \u001b[1;33m=\u001b[0m \u001b[0mdriver\u001b[0m\u001b[1;33m.\u001b[0m\u001b[0mfind_element_by_xpath\u001b[0m\u001b[1;33m(\u001b[0m\u001b[1;34m'//*[@id=\"search-input\"]'\u001b[0m\u001b[1;33m)\u001b[0m\u001b[1;33m\u001b[0m\u001b[1;33m\u001b[0m\u001b[0m\n\u001b[0;32m      3\u001b[0m     \u001b[0msearch_bar\u001b[0m\u001b[1;33m.\u001b[0m\u001b[0msend_keys\u001b[0m\u001b[1;33m(\u001b[0m\u001b[1;34m'kgf'\u001b[0m\u001b[1;33m)\u001b[0m\u001b[1;33m\u001b[0m\u001b[1;33m\u001b[0m\u001b[0m\n\u001b[1;32m----> 4\u001b[1;33m \u001b[1;32mexcept\u001b[0m \u001b[0mElementNotEnteractableException\u001b[0m \u001b[1;32mas\u001b[0m \u001b[0me\u001b[0m\u001b[1;33m:\u001b[0m\u001b[1;33m\u001b[0m\u001b[1;33m\u001b[0m\u001b[0m\n\u001b[0m\u001b[0;32m      5\u001b[0m     \u001b[0mprint\u001b[0m\u001b[1;33m(\u001b[0m\u001b[1;34m\"Exception Raised:\"\u001b[0m\u001b[1;33m,\u001b[0m\u001b[0me\u001b[0m\u001b[1;33m)\u001b[0m\u001b[1;33m\u001b[0m\u001b[1;33m\u001b[0m\u001b[0m\n\u001b[0;32m      6\u001b[0m     \u001b[0msearch_bar\u001b[0m\u001b[1;33m=\u001b[0m\u001b[0mdriver\u001b[0m\u001b[1;33m.\u001b[0m\u001b[0mfind_element_by_xpath\u001b[0m\u001b[1;33m(\u001b[0m\u001b[1;34m'//*[@id=\"container\"]'\u001b[0m\u001b[1;33m)\u001b[0m\u001b[1;33m\u001b[0m\u001b[1;33m\u001b[0m\u001b[0m\n",
      "\u001b[1;31mNameError\u001b[0m: name 'ElementNotEnteractableException' is not defined"
     ]
    }
   ],
   "source": [
    "try:\n",
    "    search_bar = driver.find_element_by_xpath('//*[@id=\"search-input\"]')\n",
    "    search_bar.send_keys('kgf')\n",
    "except ElementNotEnteractableException as e:\n",
    "    print(\"Exception Raised:\",e)\n",
    "    search_bar=driver.find_element_by_xpath('//*[@id=\"container\"]')\n",
    "    search_bar.send_keys('KGF')"
   ]
  },
  {
   "cell_type": "code",
   "execution_count": null,
   "id": "254685b1",
   "metadata": {},
   "outputs": [],
   "source": []
  },
  {
   "cell_type": "markdown",
   "id": "517430d1",
   "metadata": {},
   "source": [
    "10. Write a python program to scrape a data for all available Hostels from https://www.hostelworld.com/ in “London” location. You have to scrape hostel name, distance from city centre, ratings, total reviews, overall reviews, privates from price, dorms from price, facilities and property description."
   ]
  },
  {
   "cell_type": "code",
   "execution_count": 2,
   "id": "f96d7644",
   "metadata": {},
   "outputs": [],
   "source": [
    "driver=webdriver.Chrome('chromedriver.exe')"
   ]
  },
  {
   "cell_type": "code",
   "execution_count": 92,
   "id": "a71948ff",
   "metadata": {},
   "outputs": [],
   "source": [
    "urls='https://www.hostelworld.com/'\n",
    "driver.get(urls)"
   ]
  },
  {
   "cell_type": "code",
   "execution_count": 93,
   "id": "0a68e47a",
   "metadata": {},
   "outputs": [],
   "source": [
    "loctn=driver.find_element_by_xpath('//*[@id=\"search-input-field\"]')\n"
   ]
  },
  {
   "cell_type": "code",
   "execution_count": 94,
   "id": "ead8bb1a",
   "metadata": {},
   "outputs": [],
   "source": [
    "loctn.send_keys('London')"
   ]
  },
  {
   "cell_type": "code",
   "execution_count": 95,
   "id": "a01c5542",
   "metadata": {},
   "outputs": [],
   "source": [
    "slct_lndn=driver.find_element_by_xpath('//*[@id=\"predicted-search-results\"]/li[2]')"
   ]
  },
  {
   "cell_type": "code",
   "execution_count": 96,
   "id": "c40b888c",
   "metadata": {},
   "outputs": [],
   "source": [
    "slct_lndn.click()"
   ]
  },
  {
   "cell_type": "code",
   "execution_count": 97,
   "id": "b8c56d21",
   "metadata": {},
   "outputs": [],
   "source": [
    "go_btn=driver.find_element_by_xpath('//*[@id=\"search-button\"]')\n",
    "go_btn.click()"
   ]
  },
  {
   "cell_type": "code",
   "execution_count": 98,
   "id": "82c664be",
   "metadata": {},
   "outputs": [
    {
     "data": {
      "text/plain": [
       "[\"St Christopher's Village\",\n",
       " 'Safestay London Elephant & Castle',\n",
       " 'Generator London',\n",
       " 'Urbany Hostel London',\n",
       " 'Smart Camden Inn Hostel',\n",
       " 'Smart Russell Square Hostel',\n",
       " 'Safestay London Kensington Holland Park',\n",
       " 'Smart Hyde Park View Hostel',\n",
       " \"Wombat's City Hostel London\",\n",
       " 'Queen Elizabeth Chelsea',\n",
       " 'Phoenix Hostel',\n",
       " 'New Cross Inn Hostel',\n",
       " 'Smart Hyde Park Inn Hostel',\n",
       " \"St Christopher's Hammersmith\",\n",
       " \"St Christopher's Camden\",\n",
       " 'YHA London Central',\n",
       " \"St Christopher's Shepherds Bush\",\n",
       " 'Hostel One Notting Hill',\n",
       " \"St Christopher's Greenwich\",\n",
       " 'Selina Camden',\n",
       " 'PubLove @ The Rose & Crown',\n",
       " 'PubLove @ The Crown, Battersea',\n",
       " 'Kensal Green Backpackers',\n",
       " 'Saint James Backpackers',\n",
       " 'Le Junction Hostel - Pub & Garden',\n",
       " 'London House Hotel',\n",
       " 'The London Home Hostel',\n",
       " 'Barry House',\n",
       " 'Elmwood Hotel',\n",
       " 'Britannia Inn Hotel']"
      ]
     },
     "execution_count": 98,
     "metadata": {},
     "output_type": "execute_result"
    }
   ],
   "source": [
    "nme=[]\n",
    "nm=driver.find_elements_by_xpath('//h2[@class=\"title title-6\"]')\n",
    "for i in nm:\n",
    "    nme.append(i.text)\n",
    "nme    "
   ]
  },
  {
   "cell_type": "code",
   "execution_count": 99,
   "id": "d267c0e3",
   "metadata": {},
   "outputs": [
    {
     "data": {
      "text/plain": [
       "['Hostel - 1.8km from city centre',\n",
       " 'Hostel - 1.7km from city centre',\n",
       " 'Hostel - 3km from city centre',\n",
       " 'Hostel - 5.4km from city centre',\n",
       " 'Hostel - 4.4km from city centre',\n",
       " 'Hostel - 2.6km from city centre',\n",
       " 'Hostel - 5.9km from city centre',\n",
       " 'Hostel - 5km from city centre',\n",
       " 'Hostel - 3.6km from city centre',\n",
       " 'Hostel - 5.7km from city centre',\n",
       " 'Hostel - 4.2km from city centre',\n",
       " 'Hostel - 6.1km from city centre',\n",
       " 'Hostel - 5km from city centre',\n",
       " 'Hostel - 7.5km from city centre',\n",
       " 'Hostel - 4.3km from city centre',\n",
       " 'Hostel - 2.9km from city centre',\n",
       " 'Hostel - 7km from city centre',\n",
       " 'Hostel - 5.5km from city centre',\n",
       " 'Hostel - 7.6km from city centre',\n",
       " 'Hostel - 5.5km from city centre',\n",
       " 'Hostel - 1.6km from city centre',\n",
       " 'Hostel - 4.7km from city centre',\n",
       " 'Hostel - 8.2km from city centre',\n",
       " 'Hostel - 5.5km from city centre',\n",
       " 'Hostel - 9.8km from city centre',\n",
       " 'Hotel - 5.3km from city centre',\n",
       " 'Hostel - 8.2km from city centre',\n",
       " 'Bed and Breakfast - 4.2km from city centre',\n",
       " 'Hotel - 3.2km from city centre',\n",
       " 'Hotel - 14.5km from city centre']"
      ]
     },
     "execution_count": 99,
     "metadata": {},
     "output_type": "execute_result"
    }
   ],
   "source": [
    "distance=[]\n",
    "dtn=driver.find_elements_by_xpath('//span[@class=\"description\"]')\n",
    "for i in dtn:\n",
    "    distance.append(i.text)\n",
    "distance    "
   ]
  },
  {
   "cell_type": "code",
   "execution_count": 100,
   "id": "0145c838",
   "metadata": {},
   "outputs": [
    {
     "data": {
      "text/plain": [
       "30"
      ]
     },
     "execution_count": 100,
     "metadata": {},
     "output_type": "execute_result"
    }
   ],
   "source": [
    "len(distance)"
   ]
  },
  {
   "cell_type": "code",
   "execution_count": 101,
   "id": "8d76139d",
   "metadata": {},
   "outputs": [
    {
     "data": {
      "text/plain": [
       "['8.0',\n",
       " '7.7',\n",
       " '7.8',\n",
       " '9.6',\n",
       " '8.5',\n",
       " '6.8',\n",
       " '7.6',\n",
       " '7.9',\n",
       " '8.9',\n",
       " '7.5',\n",
       " '7.9',\n",
       " '7.1',\n",
       " '6.8',\n",
       " '8.0',\n",
       " '7.7',\n",
       " '9.0',\n",
       " '7.7',\n",
       " '8.1',\n",
       " '7.5',\n",
       " '9.2',\n",
       " '8.0',\n",
       " '7.7',\n",
       " '6.1',\n",
       " '6.9',\n",
       " '8.6',\n",
       " '8.6',\n",
       " '6.3',\n",
       " '9.7']"
      ]
     },
     "execution_count": 101,
     "metadata": {},
     "output_type": "execute_result"
    }
   ],
   "source": [
    "rtng=[]\n",
    "rt=driver.find_elements_by_xpath('//div[@class=\"score orange big\"]')\n",
    "for i in rt:\n",
    "    rtng.append(i.text)\n",
    "rtng    \n",
    "    "
   ]
  },
  {
   "cell_type": "code",
   "execution_count": 103,
   "id": "3e990cf0",
   "metadata": {},
   "outputs": [
    {
     "data": {
      "text/plain": [
       "['11068 Total Reviews',\n",
       " '4125 Total Reviews',\n",
       " '6847 Total Reviews',\n",
       " '227 Total Reviews',\n",
       " '2776 Total Reviews',\n",
       " '9597 Total Reviews',\n",
       " '1143 Total Reviews',\n",
       " '4533 Total Reviews',\n",
       " '13466 Total Reviews',\n",
       " '3236 Total Reviews',\n",
       " '3507 Total Reviews',\n",
       " '1086 Total Reviews',\n",
       " '6271 Total Reviews',\n",
       " '3989 Total Reviews',\n",
       " '3748 Total Reviews',\n",
       " '4711 Total Reviews',\n",
       " '651 Total Reviews',\n",
       " '1330 Total Reviews',\n",
       " '3163 Total Reviews',\n",
       " '19 Total Reviews',\n",
       " '114 Total Reviews',\n",
       " '233 Total Reviews',\n",
       " '3614 Total Reviews',\n",
       " '1780 Total Reviews',\n",
       " '394 Total Reviews',\n",
       " '1381 Total Reviews',\n",
       " '253 Total Reviews',\n",
       " '7 Total Reviews',\n",
       " '114 Total Reviews',\n",
       " '17 Total Reviews']"
      ]
     },
     "execution_count": 103,
     "metadata": {},
     "output_type": "execute_result"
    }
   ],
   "source": [
    "ttl_rtng=[]\n",
    "tr=driver.find_elements_by_xpath('//div[@class=\"reviews\"]')\n",
    "for i in tr:\n",
    "    ttl_rtng.append(i.text)\n",
    "ttl_rtng    "
   ]
  },
  {
   "cell_type": "code",
   "execution_count": 106,
   "id": "69c09d63",
   "metadata": {},
   "outputs": [
    {
     "data": {
      "text/plain": [
       "['Fabulous',\n",
       " 'Fabulous',\n",
       " 'Very Good',\n",
       " 'Very Good',\n",
       " 'Superb',\n",
       " 'Fabulous',\n",
       " 'Good',\n",
       " 'Very Good',\n",
       " 'Very Good',\n",
       " 'Fabulous',\n",
       " 'Very Good',\n",
       " 'Very Good',\n",
       " 'Very Good',\n",
       " 'Good',\n",
       " 'Fabulous',\n",
       " 'Very Good',\n",
       " 'Superb',\n",
       " 'Very Good',\n",
       " 'Fabulous',\n",
       " 'Very Good',\n",
       " 'Superb',\n",
       " 'Fabulous',\n",
       " 'Very Good',\n",
       " 'Good',\n",
       " 'Good',\n",
       " 'Rating',\n",
       " 'Fabulous',\n",
       " 'Rating',\n",
       " 'Fabulous',\n",
       " 'Good',\n",
       " 'Superb']"
      ]
     },
     "execution_count": 106,
     "metadata": {},
     "output_type": "execute_result"
    }
   ],
   "source": [
    "ovrll=[]\n",
    "ovr=driver.find_elements_by_xpath('//div[@class=\"keyword\"]')\n",
    "for i in ovr:\n",
    "    ovrll.append(i.text)\n",
    "ovrll    "
   ]
  },
  {
   "cell_type": "code",
   "execution_count": 116,
   "id": "ece896c1",
   "metadata": {},
   "outputs": [
    {
     "data": {
      "text/plain": [
       "['Rs10808.23 Rs9727',\n",
       " 'Rs3095.42 Rs2786',\n",
       " 'Rs2951',\n",
       " 'Rs7660',\n",
       " 'Rs2888',\n",
       " 'Rs4310',\n",
       " 'Rs2721',\n",
       " 'Rs2337',\n",
       " 'Rs2206',\n",
       " 'Rs2903',\n",
       " 'Rs17903.15 Rs13427',\n",
       " 'Rs4556.59 Rs3417',\n",
       " 'Rs2186',\n",
       " 'Rs2580.06 Rs2451',\n",
       " 'Rs5781.52 Rs4336',\n",
       " 'Rs2060',\n",
       " 'Rs7867.37 Rs7081',\n",
       " 'Rs2121.39 Rs1909',\n",
       " 'Rs2936.83 Rs2643',\n",
       " 'Rs16460',\n",
       " 'Rs2341.81 Rs2108',\n",
       " 'Rs13687.3 Rs12319',\n",
       " 'Rs4028.99 Rs3626',\n",
       " 'Rs2011 Rs1810',\n",
       " 'Rs26080',\n",
       " 'Rs7824.41 Rs6651',\n",
       " 'Rs3842',\n",
       " 'Rs3212',\n",
       " 'Rs1689',\n",
       " 'Rs11146.46 Rs10589',\n",
       " 'Rs4073.52 Rs3870',\n",
       " 'Rs1590',\n",
       " 'Rs21073.44 Rs14751',\n",
       " 'Rs5464',\n",
       " 'Rs13876',\n",
       " 'Rs9273',\n",
       " 'Rs11591']"
      ]
     },
     "execution_count": 116,
     "metadata": {},
     "output_type": "execute_result"
    }
   ],
   "source": [
    "privateprice=[]\n",
    "prvt=driver.find_elements_by_xpath('//div[@class=\"price title-5\"]')\n",
    "for i in prvt:\n",
    "    privateprice.append(i.text)\n",
    "privateprice    "
   ]
  },
  {
   "cell_type": "code",
   "execution_count": 114,
   "id": "39862430",
   "metadata": {},
   "outputs": [
    {
     "data": {
      "text/plain": [
       "['Free WiFi\\nFollows Covid-19 sanitation guidance',\n",
       " 'Free WiFi\\nFollows Covid-19 sanitation guidance',\n",
       " 'Free WiFi\\nFollows Covid-19 sanitation guidance',\n",
       " 'Free WiFi\\nFollows Covid-19 sanitation guidance',\n",
       " 'Free WiFi\\nFollows Covid-19 sanitation guidance',\n",
       " 'Free WiFi\\nFollows Covid-19 sanitation guidance',\n",
       " 'Free WiFi',\n",
       " 'Free WiFi\\nFollows Covid-19 sanitation guidance',\n",
       " 'Free WiFi\\nFollows Covid-19 sanitation guidance',\n",
       " 'Free WiFi',\n",
       " 'Free WiFi\\nFollows Covid-19 sanitation guidance',\n",
       " 'Free WiFi\\nFree Breakfast',\n",
       " 'Free WiFi',\n",
       " 'Free WiFi\\nFollows Covid-19 sanitation guidance',\n",
       " 'Free WiFi\\nFollows Covid-19 sanitation guidance',\n",
       " 'Free WiFi\\nFollows Covid-19 sanitation guidance',\n",
       " 'Free WiFi\\nFollows Covid-19 sanitation guidance',\n",
       " 'Free WiFi',\n",
       " 'Free WiFi\\nFollows Covid-19 sanitation guidance',\n",
       " 'Free WiFi',\n",
       " 'Free WiFi\\nFollows Covid-19 sanitation guidance',\n",
       " 'Free WiFi\\nFollows Covid-19 sanitation guidance',\n",
       " 'Follows Covid-19 sanitation guidance',\n",
       " 'Free WiFi\\nFree Breakfast\\nFollows Covid-19 sanitation guidance',\n",
       " 'Free WiFi\\nFollows Covid-19 sanitation guidance',\n",
       " 'Free WiFi',\n",
       " 'Free WiFi',\n",
       " 'Free WiFi\\nFree Breakfast',\n",
       " '',\n",
       " 'Free Breakfast\\nFollows Covid-19 sanitation guidance']"
      ]
     },
     "execution_count": 114,
     "metadata": {},
     "output_type": "execute_result"
    }
   ],
   "source": [
    "facility=[]\n",
    "fac=driver.find_elements_by_xpath('//div[@class=\"facilities-label facilities\"]')\n",
    "for i in fc:\n",
    "    facility.append(i.text)\n",
    "facility    "
   ]
  },
  {
   "cell_type": "code",
   "execution_count": 113,
   "id": "3d980994",
   "metadata": {},
   "outputs": [
    {
     "data": {
      "text/plain": [
       "[\"St Christopher's Village\\nHostel - 1.8km from city centre\\n8.0\\nFabulous\\nFrom Rs2786\",\n",
       " \"1\\n/\\n30\\nSt Christopher's Village\\nHostel - 1.8km from city centre Show on Map\\nFree WiFi\\nFollows Covid-19 sanitation guidance\\nPerfect Location\\nSuperb Staff\\nExcellent Cleanliness\\n8.0\\nFabulous\\n11068 Total Reviews\\n-10%\\nPrivates From\\nRs10808.23 Rs9727\\nDorms From\\nRs3095.42 Rs2786\\nView\",\n",
       " '1\\n/\\n30\\nSafestay London Elephant & Castle\\nHostel - 1.7km from city centre Show on Map\\nFree WiFi\\nFollows Covid-19 sanitation guidance\\nPerfect Location\\nMarvellous Staff\\nExcellent Cleanliness\\n7.7\\nVery Good\\n4125 Total Reviews\\nNo Privates Available\\nDorms From\\nRs2951\\nView',\n",
       " '1\\n/\\n29\\nGenerator London\\nHostel - 3km from city centre Show on Map\\nFree WiFi\\nFollows Covid-19 sanitation guidance\\nPerfect Location\\nSuperb Staff\\nExcellent Cleanliness\\n7.8\\nVery Good\\n6847 Total Reviews\\nPrivates From\\nRs7660\\nDorms From\\nRs2888\\nView',\n",
       " '1\\n/\\n28\\nUrbany Hostel London\\nHostel - 5.4km from city centre Show on Map\\nFree WiFi\\nFollows Covid-19 sanitation guidance\\nPerfect Location\\nSuperb Staff\\nFantastic Cleanliness\\n9.6\\nSuperb\\n227 Total Reviews\\nNo Privates Available\\nDorms From\\nRs4310\\nView',\n",
       " '1\\n/\\n17\\nSmart Camden Inn Hostel\\nHostel - 4.4km from city centre Show on Map\\nFree WiFi\\nFollows Covid-19 sanitation guidance\\nPerfect Location\\nSuperb Staff\\nFantastic Cleanliness\\n8.5\\nFabulous\\n2776 Total Reviews\\nNo Privates Available\\nDorms From\\nRs2721\\nView',\n",
       " '1\\n/\\n9\\nSmart Russell Square Hostel\\nHostel - 2.6km from city centre Show on Map\\nFree WiFi\\nFollows Covid-19 sanitation guidance\\nPerfect Location\\nBrilliant Staff\\nAwesome Cleanliness\\n6.8\\nGood\\n9597 Total Reviews\\nNo Privates Available\\nDorms From\\nRs2337\\nView',\n",
       " '1\\n/\\n20\\nSafestay London Kensington Holland Park\\nHostel - 5.9km from city centre Show on Map\\nFree WiFi\\nPerfect Location\\nMarvellous Staff\\nExcellent Cleanliness\\n7.6\\nVery Good\\n1143 Total Reviews\\nNo Privates Available\\nDorms From\\nRs2206\\nView',\n",
       " '1\\n/\\n27\\nSmart Hyde Park View Hostel\\nHostel - 5km from city centre Show on Map\\nFree WiFi\\nFollows Covid-19 sanitation guidance\\nPerfect Location\\nSuperb Staff\\nExcellent Cleanliness\\n7.9\\nVery Good\\n4533 Total Reviews\\nNo Privates Available\\nDorms From\\nRs2903\\nView',\n",
       " \"1\\n/\\n30\\nWombat's City Hostel London\\nHostel - 3.6km from city centre Show on Map\\nFree WiFi\\nFollows Covid-19 sanitation guidance\\nPerfect Location\\nSuperb Staff\\nFantastic Cleanliness\\n8.9\\nFabulous\\n13466 Total Reviews\\n-25%\\nFree Cancellation\\nPrivates From\\nRs17903.15 Rs13427\\nDorms From\\nRs4556.59 Rs3417\\nView\",\n",
       " '1\\n/\\n19\\nQueen Elizabeth Chelsea\\nHostel - 5.7km from city centre Show on Map\\nFree WiFi\\nPerfect Location\\nSuperb Staff\\nAwesome Cleanliness\\n7.5\\nVery Good\\n3236 Total Reviews\\nNo Privates Available\\nDorms From\\nRs2186\\nView',\n",
       " '1\\n/\\n21\\nPhoenix Hostel\\nHostel - 4.2km from city centre Show on Map\\nFree WiFi\\nFollows Covid-19 sanitation guidance\\nPerfect Location\\nSuperb Staff\\nExcellent Cleanliness\\n7.9\\nVery Good\\n3507 Total Reviews\\n-5%\\nNo Privates Available\\nDorms From\\nRs2580.06 Rs2451\\nView',\n",
       " '1\\n/\\n24\\nNew Cross Inn Hostel\\nHostel - 6.1km from city centre Show on Map\\nFree WiFi\\nFree Breakfast\\nWonderful Location\\nMarvellous Staff\\nAwesome Cleanliness\\n7.1\\nVery Good\\n1086 Total Reviews\\n-25%\\nNo Privates Available\\nDorms From\\nRs5781.52 Rs4336\\nView',\n",
       " '1\\n/\\n28\\nSmart Hyde Park Inn Hostel\\nHostel - 5km from city centre Show on Map\\nFree WiFi\\nPerfect Location\\nMarvellous Staff\\n6.8\\nGood\\n6271 Total Reviews\\nNo Privates Available\\nDorms From\\nRs2060\\nView',\n",
       " \"1\\n/\\n30\\nSt Christopher's Hammersmith\\nHostel - 7.5km from city centre Show on Map\\nFree WiFi\\nFollows Covid-19 sanitation guidance\\nPerfect Location\\nSuperb Staff\\nExcellent Cleanliness\\n8.0\\nFabulous\\n3989 Total Reviews\\n-10%\\nPrivates From\\nRs7867.37 Rs7081\\nDorms From\\nRs2121.39 Rs1909\\nView\",\n",
       " \"1\\n/\\n30\\nSt Christopher's Camden\\nHostel - 4.3km from city centre Show on Map\\nFree WiFi\\nFollows Covid-19 sanitation guidance\\nPerfect Location\\nMarvellous Staff\\nAwesome Cleanliness\\n7.7\\nVery Good\\n3748 Total Reviews\\n-10%\\nNo Privates Available\\nDorms From\\nRs2936.83 Rs2643\\nView\",\n",
       " '1\\n/\\n22\\nYHA London Central\\nHostel - 2.9km from city centre Show on Map\\nFree WiFi\\nFollows Covid-19 sanitation guidance\\nPerfect Location\\nSuperb Staff\\nFantastic Cleanliness\\n9.0\\nSuperb\\n4711 Total Reviews\\nPrivates From\\nRs16460\\nNo Dorms Available\\nView',\n",
       " \"1\\n/\\n30\\nSt Christopher's Shepherds Bush\\nHostel - 7km from city centre Show on Map\\nFree WiFi\\nFollows Covid-19 sanitation guidance\\nPerfect Location\\nSuperb Staff\\nAwesome Cleanliness\\n7.7\\nVery Good\\n651 Total Reviews\\n-10%\\nNo Privates Available\\nDorms From\\nRs2341.81 Rs2108\\nView\",\n",
       " '1\\n/\\n29\\nHostel One Notting Hill\\nHostel - 5.5km from city centre Show on Map\\nFree WiFi\\nPerfect Location\\nSuperb Staff\\nExcellent Cleanliness\\n8.1\\nFabulous\\n1330 Total Reviews\\n-10%\\nPrivates From\\nRs13687.3 Rs12319\\nDorms From\\nRs4028.99 Rs3626\\nView',\n",
       " \"1\\n/\\n29\\nSt Christopher's Greenwich\\nHostel - 7.6km from city centre Show on Map\\nFree WiFi\\nFollows Covid-19 sanitation guidance\\nPerfect Location\\nMarvellous Staff\\nAwesome Cleanliness\\n7.5\\nVery Good\\n3163 Total Reviews\\n-10%\\nNo Privates Available\\nDorms From\\nRs2011 Rs1810\\nView\",\n",
       " '1\\n/\\n26\\nSelina Camden\\nHostel - 5.5km from city centre Show on Map\\nFree WiFi\\nPerfect Location\\nSuperb Staff\\nFantastic Cleanliness\\n9.2\\nSuperb\\n19 Total Reviews\\n-15%\\nPrivates From\\nRs26080\\nDorms From\\nRs7824.41 Rs6651\\nView',\n",
       " '1\\n/\\n8\\nPubLove @ The Rose & Crown\\nHostel - 1.6km from city centre Show on Map\\nFree WiFi\\nFollows Covid-19 sanitation guidance\\nPerfect Location\\nSuperb Staff\\nAwesome Cleanliness\\n8.0\\nFabulous\\n114 Total Reviews\\nNo Privates Available\\nDorms From\\nRs3842\\nView',\n",
       " '1\\n/\\n30\\nPubLove @ The Crown, Battersea\\nHostel - 4.7km from city centre Show on Map\\nFree WiFi\\nFollows Covid-19 sanitation guidance\\nPerfect Location\\nSuperb Staff\\nAwesome Cleanliness\\n7.7\\nVery Good\\n233 Total Reviews\\nNo Privates Available\\nDorms From\\nRs3212\\nView',\n",
       " '1\\n/\\n10\\nKensal Green Backpackers\\nHostel - 8.2km from city centre Show on Map\\nFollows Covid-19 sanitation guidance\\nGreat Location\\nBrilliant Staff\\n6.1\\nGood\\n3614 Total Reviews\\nNo Privates Available\\nDorms From\\nRs1689\\nView',\n",
       " '1\\n/\\n30\\nSaint James Backpackers\\nHostel - 5.5km from city centre Show on Map\\nFree WiFi\\nFree Breakfast\\nFollows Covid-19 sanitation guidance\\nWonderful Location\\nMarvellous Staff\\nAwesome Cleanliness\\n6.9\\nGood\\n1780 Total Reviews\\n-5%\\nPrivates From\\nRs11146.46 Rs10589\\nDorms From\\nRs4073.52 Rs3870\\nView',\n",
       " '1\\n/\\n11\\nLe Junction Hostel - Pub & Garden\\nHostel - 9.8km from city centre Show on Map\\nFree WiFi\\nFollows Covid-19 sanitation guidance\\nGreat Location\\nHelpful Staff\\n5.9\\nRating\\n394 Total Reviews\\nNo Privates Available\\nDorms From\\nRs1590\\nView',\n",
       " '1\\n/\\n20\\nLondon House Hotel\\nHotel - 5.3km from city centre Show on Map\\nFree WiFi\\nPerfect Location\\nSuperb Staff\\nFantastic Cleanliness\\n8.6\\nFabulous\\n1381 Total Reviews\\n-30%\\nPrivates From\\nRs21073.44 Rs14751\\nNo Dorms Available\\nView',\n",
       " '1\\n/\\n16\\nThe London Home Hostel\\nHostel - 8.2km from city centre Show on Map\\nFree WiFi\\n3.9\\nRating\\n253 Total Reviews\\nPrivates From\\nRs5464\\nNo Dorms Available\\nView',\n",
       " '1\\n/\\n30\\nBarry House\\nBed and Breakfast - 4.2km from city centre Show on Map\\nFree WiFi\\nFree Breakfast\\nPerfect Location\\nSuperb Staff\\nFantastic Cleanliness\\n8.6\\nFabulous\\n7 Total Reviews\\nPrivates From\\nRs13876\\nNo Dorms Available\\nView',\n",
       " '1\\n/\\n9\\nElmwood Hotel\\nHotel - 3.2km from city centre Show on Map\\nPerfect Location\\nHelpful Staff\\nGood Cleanliness\\n6.3\\nGood\\n114 Total Reviews\\nPrivates From\\nRs9273\\nNo Dorms Available\\nView',\n",
       " '1\\n/\\n7\\nBritannia Inn Hotel\\nHotel - 14.5km from city centre Show on Map\\nFree Breakfast\\nFollows Covid-19 sanitation guidance\\nWonderful Location\\nSuperb Staff\\nFantastic Cleanliness\\n9.7\\nSuperb\\n17 Total Reviews\\nPrivates From\\nRs11591\\nNo Dorms Available\\nView']"
      ]
     },
     "execution_count": 113,
     "metadata": {},
     "output_type": "execute_result"
    }
   ],
   "source": [
    "properties=[]\n",
    "pr=driver.find_elements_by_xpath('//div[@class=\"property-card\"]')\n",
    "for i in pr:\n",
    "    properties.append(i.text)\n",
    "properties    \n",
    "    "
   ]
  },
  {
   "cell_type": "code",
   "execution_count": null,
   "id": "addcbc38",
   "metadata": {},
   "outputs": [],
   "source": []
  }
 ],
 "metadata": {
  "kernelspec": {
   "display_name": "Python 3 (ipykernel)",
   "language": "python",
   "name": "python3"
  },
  "language_info": {
   "codemirror_mode": {
    "name": "ipython",
    "version": 3
   },
   "file_extension": ".py",
   "mimetype": "text/x-python",
   "name": "python",
   "nbconvert_exporter": "python",
   "pygments_lexer": "ipython3",
   "version": "3.9.7"
  }
 },
 "nbformat": 4,
 "nbformat_minor": 5
}
